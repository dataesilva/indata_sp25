{
 "cells": [
  {
   "cell_type": "code",
   "execution_count": 1,
   "id": "0344f4b0-9b16-41ec-9c9e-b62163461a57",
   "metadata": {},
   "outputs": [],
   "source": [
    "import pandas as pd\n",
    "import numpy as np\n",
    "from bs4 import BeautifulSoup"
   ]
  },
  {
   "cell_type": "code",
   "execution_count": 2,
   "id": "848fa75c-bdcf-4e77-a224-91509ef7b3e2",
   "metadata": {},
   "outputs": [],
   "source": [
    "with open('html-top1500-tiktok_notcommon.html', encoding = 'utf-8') as tiktok:\n",
    "    tt_dat = BeautifulSoup(tiktok.read(), 'html.parser')"
   ]
  },
  {
   "cell_type": "code",
   "execution_count": 3,
   "id": "cf612f28-9c38-41cc-b782-6fc34a3bd99c",
   "metadata": {},
   "outputs": [
    {
     "data": {
      "text/plain": [
       "'Khaby Lame'"
      ]
     },
     "execution_count": 3,
     "metadata": {},
     "output_type": "execute_result"
    }
   ],
   "source": [
    "tt_dat.ul.li.span.text"
   ]
  },
  {
   "cell_type": "code",
   "execution_count": 4,
   "id": "0dfc8d74-795f-4fef-ab9f-107ad6e34442",
   "metadata": {},
   "outputs": [
    {
     "data": {
      "text/plain": [
       "'Khaby Lame'"
      ]
     },
     "execution_count": 4,
     "metadata": {},
     "output_type": "execute_result"
    }
   ],
   "source": [
    "tt_dat.find_all('li')[0].span.text"
   ]
  },
  {
   "cell_type": "code",
   "execution_count": 5,
   "id": "de3908b0-a766-4774-92af-a556f0a5ae60",
   "metadata": {},
   "outputs": [],
   "source": [
    "# names = [x.span.text for x in tt_dat.find_all('li')]"
   ]
  },
  {
   "cell_type": "code",
   "execution_count": 6,
   "id": "83ccd930-90ee-4eaa-b761-9a688d16b35c",
   "metadata": {},
   "outputs": [
    {
     "data": {
      "text/plain": [
       "[<span class=\"leading-tight\" itemprop=\"name\">Bella Poarch</span>]"
      ]
     },
     "execution_count": 6,
     "metadata": {},
     "output_type": "execute_result"
    }
   ],
   "source": [
    "tt_dat.find_all('li')[3].find_all('span', attrs = {'itemprop': 'name'})"
   ]
  },
  {
   "cell_type": "code",
   "execution_count": 7,
   "id": "0c59785d-95fd-4ae5-bac6-01c38c6db3fb",
   "metadata": {},
   "outputs": [
    {
     "data": {
      "text/plain": [
       "'@khaby.lame'"
      ]
     },
     "execution_count": 7,
     "metadata": {},
     "output_type": "execute_result"
    }
   ],
   "source": [
    "names = [x.find_all('span', attrs = {'itemprop': 'name'})[0].text\n",
    "         for x in tt_dat.find_all('li')]\n",
    "# names\n",
    "\n",
    "tt_dat.ul.li.find_all('a', attrs = {'class': 'text-base flex items-center font-medium group'})[0].text"
   ]
  },
  {
   "cell_type": "code",
   "execution_count": 8,
   "id": "0cb30b5a-56c2-4d83-b282-04eaa44d93a0",
   "metadata": {},
   "outputs": [
    {
     "data": {
      "text/plain": [
       "[<div class=\"ml-10 md:ml-0 md:order-2\"><a class=\"text-base flex items-center font-medium group\" href=\"https://tiktok.com/@khaby.lame\" rel=\"noopener\" target=\"_blank\"><img class=\"mr-1\" height=\"16\" src=\"https://notcommon.com/assets/project_dashboard/link_icons/tiktok-ada33985bc2274c6ce86478d6371ec76fa2628dbd3406f574946bd8e4f068d46.svg\" width=\"16\"/>@khaby.lame<i class=\"fa-solid fa-arrow-up-right-from-square fa-sm ml-1 invisible group-hover:visible\"></i></a><small class=\"text-sm font-medium inline-flex items-center mt-1\"><img alt=\"TikTok verified check\" class=\"mr-1\" height=\"12\" src=\"https://notcommon.com/assets/project_dashboard/link_icons/verified-check-tiktok-86d64321df1ab68915ead7f3a45d6f204ae02c26bca1d1a5c6c0d6a0b713c689.svg\" width=\"12\"/>Verified</small><small class=\"block text-sm font-light mt-1 flex items-center\"><i class=\"fa-regular fa-comments mr-1\"></i>Number of posts: 1.2K</small></div>]"
      ]
     },
     "execution_count": 8,
     "metadata": {},
     "output_type": "execute_result"
    }
   ],
   "source": [
    "tt_dat.ul.li.find_all('div', attrs = {'class': 'ml-10 md:ml-0 md:order-2'})"
   ]
  },
  {
   "cell_type": "code",
   "execution_count": 9,
   "id": "10281005-b0d9-4eeb-872a-caab44931b28",
   "metadata": {},
   "outputs": [],
   "source": [
    "handles = [x.find_all('a',\n",
    "                      attrs = {'class': 'text-base flex items-center font-medium group'})[0].text\n",
    "           for x in tt_dat.ul.find_all('li')]\n",
    "# handles"
   ]
  },
  {
   "cell_type": "code",
   "execution_count": 10,
   "id": "e63fec83-c140-42d7-a9f5-763427533f48",
   "metadata": {},
   "outputs": [],
   "source": [
    "accounts = tt_dat.ul.find_all('li')"
   ]
  },
  {
   "cell_type": "code",
   "execution_count": 11,
   "id": "1ae025bc-257c-4721-b19b-491540b578b0",
   "metadata": {},
   "outputs": [
    {
     "data": {
      "text/plain": [
       "[<small class=\"text-sm font-medium inline-flex items-center mt-1\"><img alt=\"TikTok verified check\" class=\"mr-1\" height=\"12\" src=\"https://notcommon.com/assets/project_dashboard/link_icons/verified-check-tiktok-86d64321df1ab68915ead7f3a45d6f204ae02c26bca1d1a5c6c0d6a0b713c689.svg\" width=\"12\"/>Verified</small>,\n",
       " <small class=\"block text-sm font-light mt-1 flex items-center\"><i class=\"fa-regular fa-comments mr-1\"></i>Number of posts: 1.2K</small>]"
      ]
     },
     "execution_count": 11,
     "metadata": {},
     "output_type": "execute_result"
    }
   ],
   "source": [
    "accounts[0].find_all('small')"
   ]
  },
  {
   "cell_type": "code",
   "execution_count": 12,
   "id": "d14b2ac5-cd6c-46c0-9d5d-e4f8c1d8c3cf",
   "metadata": {},
   "outputs": [
    {
     "data": {
      "text/plain": [
       "'1.2K'"
      ]
     },
     "execution_count": 12,
     "metadata": {},
     "output_type": "execute_result"
    }
   ],
   "source": [
    "accounts[0].find_all('small',\n",
    "                     attrs = {'class': 'block text-sm font-light mt-1 flex items-center'})[0].text.split(': ')[1]"
   ]
  },
  {
   "cell_type": "code",
   "execution_count": 13,
   "id": "0ba82087-51ef-46df-af73-db05203f0553",
   "metadata": {},
   "outputs": [],
   "source": [
    "tiktok_ranklist = []\n",
    "rank_count = 0\n",
    "for i in tt_dat.ul.find_all('li'):\n",
    "    rank_count += 1\n",
    "    account_name = i.find_all('span', attrs = {'itemprop': 'name'})[0].text\n",
    "    tiktok_handle = i.find_all('a', attrs = {'class': 'text-base flex items-center font-medium group'})[0].text\n",
    "    if tiktok_handle == '@marcmarquez93':\n",
    "        verified = 'Verified'\n",
    "        num_posts = 116 # determined by manual entry\n",
    "    else:\n",
    "        if len(i.find_all('small')) > 1:\n",
    "            verified = 'Verified'\n",
    "            num_posts = i.find_all('small')[1].text.split(': ')[1]\n",
    "        else:\n",
    "            verified = 'Not Verified'\n",
    "            num_posts = i.find_all('small')[0].text.split(': ')[1]\n",
    "    num_followers = i.find_all('span', attrs = {'class': 'tracking-wider'})[0].text\n",
    "    rank = rank_count\n",
    "    account_dict = {'account_name': account_name,\n",
    "                   'tiktok_handle': tiktok_handle,\n",
    "                   'verified': verified,\n",
    "                   'num_posts': num_posts,\n",
    "                   'num_followers': num_followers,\n",
    "                   'rank': rank}\n",
    "    tiktok_ranklist.append(account_dict)"
   ]
  },
  {
   "cell_type": "code",
   "execution_count": 14,
   "id": "ce480c45-7d9e-4edb-9b56-7cd08cdc64bf",
   "metadata": {},
   "outputs": [
    {
     "data": {
      "text/html": [
       "<div>\n",
       "<style scoped>\n",
       "    .dataframe tbody tr th:only-of-type {\n",
       "        vertical-align: middle;\n",
       "    }\n",
       "\n",
       "    .dataframe tbody tr th {\n",
       "        vertical-align: top;\n",
       "    }\n",
       "\n",
       "    .dataframe thead th {\n",
       "        text-align: right;\n",
       "    }\n",
       "</style>\n",
       "<table border=\"1\" class=\"dataframe\">\n",
       "  <thead>\n",
       "    <tr style=\"text-align: right;\">\n",
       "      <th></th>\n",
       "      <th>account_name</th>\n",
       "      <th>tiktok_handle</th>\n",
       "      <th>verified</th>\n",
       "      <th>num_posts</th>\n",
       "      <th>num_followers</th>\n",
       "      <th>rank</th>\n",
       "    </tr>\n",
       "  </thead>\n",
       "  <tbody>\n",
       "    <tr>\n",
       "      <th>0</th>\n",
       "      <td>Khaby Lame</td>\n",
       "      <td>@khaby.lame</td>\n",
       "      <td>Verified</td>\n",
       "      <td>1.2K</td>\n",
       "      <td>162.7M</td>\n",
       "      <td>1</td>\n",
       "    </tr>\n",
       "    <tr>\n",
       "      <th>1</th>\n",
       "      <td>Charli D'Amerlio</td>\n",
       "      <td>@charlidamelio</td>\n",
       "      <td>Verified</td>\n",
       "      <td>2.5K</td>\n",
       "      <td>151.6M</td>\n",
       "      <td>2</td>\n",
       "    </tr>\n",
       "    <tr>\n",
       "      <th>2</th>\n",
       "      <td>MrBeast</td>\n",
       "      <td>@mrbeast</td>\n",
       "      <td>Verified</td>\n",
       "      <td>365</td>\n",
       "      <td>104.4M</td>\n",
       "      <td>3</td>\n",
       "    </tr>\n",
       "    <tr>\n",
       "      <th>3</th>\n",
       "      <td>Bella Poarch</td>\n",
       "      <td>@bellapoarch</td>\n",
       "      <td>Verified</td>\n",
       "      <td>644</td>\n",
       "      <td>93.7M</td>\n",
       "      <td>4</td>\n",
       "    </tr>\n",
       "    <tr>\n",
       "      <th>4</th>\n",
       "      <td>Addison Rae</td>\n",
       "      <td>@addisonre</td>\n",
       "      <td>Verified</td>\n",
       "      <td>1.7K</td>\n",
       "      <td>88.7M</td>\n",
       "      <td>5</td>\n",
       "    </tr>\n",
       "  </tbody>\n",
       "</table>\n",
       "</div>"
      ],
      "text/plain": [
       "       account_name   tiktok_handle  verified num_posts num_followers  rank\n",
       "0        Khaby Lame     @khaby.lame  Verified      1.2K        162.7M     1\n",
       "1  Charli D'Amerlio  @charlidamelio  Verified      2.5K        151.6M     2\n",
       "2           MrBeast        @mrbeast  Verified       365        104.4M     3\n",
       "3      Bella Poarch    @bellapoarch  Verified       644         93.7M     4\n",
       "4       Addison Rae      @addisonre  Verified      1.7K         88.7M     5"
      ]
     },
     "execution_count": 14,
     "metadata": {},
     "output_type": "execute_result"
    }
   ],
   "source": [
    "tt_df = pd.DataFrame(tiktok_ranklist)\n",
    "tt_df.head()"
   ]
  }
 ],
 "metadata": {
  "kernelspec": {
   "display_name": "Python 3 (ipykernel)",
   "language": "python",
   "name": "python3"
  },
  "language_info": {
   "codemirror_mode": {
    "name": "ipython",
    "version": 3
   },
   "file_extension": ".py",
   "mimetype": "text/x-python",
   "name": "python",
   "nbconvert_exporter": "python",
   "pygments_lexer": "ipython3",
   "version": "3.12.8"
  }
 },
 "nbformat": 4,
 "nbformat_minor": 5
}
