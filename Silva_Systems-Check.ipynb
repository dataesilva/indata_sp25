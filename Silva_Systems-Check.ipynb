{
 "cells": [
  {
   "cell_type": "markdown",
   "id": "d320ba56-8f74-4639-93fe-44ec3a3d281f",
   "metadata": {},
   "source": [
    "# Systems Checks\n",
    "## David E. Silva\n",
    "\n",
    "This is my homework.\n",
    "\n",
    "__Please note that this is not a correctly completed Systems Check assignment, just what we completed together in class__"
   ]
  },
  {
   "cell_type": "code",
   "execution_count": 1,
   "id": "0e9d4b8d-3d92-4d34-ac8e-151d500d04eb",
   "metadata": {},
   "outputs": [],
   "source": [
    "x = 3+1"
   ]
  },
  {
   "cell_type": "code",
   "execution_count": 2,
   "id": "b4321d58-2bd7-482d-88b1-3069c470a5b6",
   "metadata": {},
   "outputs": [
    {
     "data": {
      "text/plain": [
       "4"
      ]
     },
     "execution_count": 2,
     "metadata": {},
     "output_type": "execute_result"
    }
   ],
   "source": [
    "x"
   ]
  },
  {
   "cell_type": "code",
   "execution_count": 3,
   "id": "a8393878-c4b1-4840-bdfd-a2d5fc7c6597",
   "metadata": {},
   "outputs": [
    {
     "data": {
      "text/plain": [
       "3"
      ]
     },
     "execution_count": 3,
     "metadata": {},
     "output_type": "execute_result"
    }
   ],
   "source": [
    "y = [0, 1, 2, 3]\n",
    "y[3]"
   ]
  },
  {
   "cell_type": "code",
   "execution_count": 4,
   "id": "21bc8ee6-29ec-474d-8a9b-c56d05906307",
   "metadata": {},
   "outputs": [],
   "source": [
    "x = \"dog's\""
   ]
  },
  {
   "cell_type": "code",
   "execution_count": 5,
   "id": "a65f7ca5-1e14-45a7-ab90-09447b4fda41",
   "metadata": {},
   "outputs": [
    {
     "data": {
      "text/plain": [
       "\"dog's\""
      ]
     },
     "execution_count": 5,
     "metadata": {},
     "output_type": "execute_result"
    }
   ],
   "source": [
    "x"
   ]
  },
  {
   "cell_type": "code",
   "execution_count": 6,
   "id": "df1fe7be-d827-42fd-95cd-06bd5dc2d0d7",
   "metadata": {},
   "outputs": [
    {
     "data": {
      "text/plain": [
       "{'a': [2, 3, 4], 'b': ['a', 'b', 'c']}"
      ]
     },
     "execution_count": 6,
     "metadata": {},
     "output_type": "execute_result"
    }
   ],
   "source": [
    "a = {'a': [2,3,4], 'b':['a','b','c']}\n",
    "a"
   ]
  },
  {
   "cell_type": "code",
   "execution_count": 7,
   "id": "745c55f7-2e9f-4804-b8a4-89137997e88c",
   "metadata": {},
   "outputs": [],
   "source": [
    "def say_hello():\n",
    "    print('hello David')"
   ]
  },
  {
   "cell_type": "code",
   "execution_count": 8,
   "id": "19ba3722-e87a-4f18-8d1e-69ed8f79af0b",
   "metadata": {},
   "outputs": [
    {
     "name": "stdout",
     "output_type": "stream",
     "text": [
      "hello David\n"
     ]
    }
   ],
   "source": [
    "say_hello()"
   ]
  },
  {
   "cell_type": "code",
   "execution_count": 9,
   "id": "05795dee-6a9c-44c3-8f95-310dc51fa160",
   "metadata": {},
   "outputs": [],
   "source": [
    "def give_hello():\n",
    "    return 'hello ' + x"
   ]
  },
  {
   "cell_type": "code",
   "execution_count": 10,
   "id": "5fde64d3-8b19-453f-82c6-309e14564d3f",
   "metadata": {},
   "outputs": [
    {
     "name": "stdout",
     "output_type": "stream",
     "text": [
      "d\n",
      "o\n",
      "g\n"
     ]
    }
   ],
   "source": [
    "for x in 'dog':\n",
    "    print(x)"
   ]
  },
  {
   "cell_type": "code",
   "execution_count": 11,
   "id": "cd42a84b-c20a-4ae7-8030-b821a05d05ac",
   "metadata": {},
   "outputs": [
    {
     "name": "stdout",
     "output_type": "stream",
     "text": [
      "4\n",
      "5\n",
      "6\n",
      "7\n",
      "8\n"
     ]
    }
   ],
   "source": [
    "for i in [1,2,3,4,5]:\n",
    "    q = 3+i\n",
    "    print(q)"
   ]
  },
  {
   "cell_type": "code",
   "execution_count": null,
   "id": "cf9539ee-815e-4c67-8d1f-0816ccb05fc9",
   "metadata": {},
   "outputs": [],
   "source": []
  },
  {
   "cell_type": "code",
   "execution_count": null,
   "id": "3a7b7c6a-d938-42bb-90af-f9132c5266c7",
   "metadata": {},
   "outputs": [],
   "source": []
  },
  {
   "cell_type": "code",
   "execution_count": 12,
   "id": "932f4420-0125-41f3-9984-33c4f9134a4f",
   "metadata": {},
   "outputs": [
    {
     "data": {
      "text/plain": [
       "'hello g'"
      ]
     },
     "execution_count": 12,
     "metadata": {},
     "output_type": "execute_result"
    }
   ],
   "source": [
    "give_hello()"
   ]
  },
  {
   "cell_type": "code",
   "execution_count": 13,
   "id": "da50fdd6-a2c1-437a-8813-e1f15e6b4f87",
   "metadata": {},
   "outputs": [
    {
     "name": "stdout",
     "output_type": "stream",
     "text": [
      "hello David\n"
     ]
    }
   ],
   "source": [
    "greeting = say_hello()\n",
    "greeting\n",
    "greeting2 = give_hello()"
   ]
  },
  {
   "cell_type": "code",
   "execution_count": 14,
   "id": "5536db8b-45eb-43ee-9c64-26f1e2f2ae54",
   "metadata": {},
   "outputs": [
    {
     "data": {
      "text/plain": [
       "'hello g David'"
      ]
     },
     "execution_count": 14,
     "metadata": {},
     "output_type": "execute_result"
    }
   ],
   "source": [
    "greeting2 + ' David'"
   ]
  },
  {
   "cell_type": "code",
   "execution_count": 15,
   "id": "d441e75a-6e5f-4a2a-833d-dd94ec4293a3",
   "metadata": {},
   "outputs": [
    {
     "data": {
      "text/plain": [
       "[2, 3, 4]"
      ]
     },
     "execution_count": 15,
     "metadata": {},
     "output_type": "execute_result"
    }
   ],
   "source": [
    "a['a']"
   ]
  },
  {
   "cell_type": "markdown",
   "id": "45e15cad-30f1-443d-98fb-33f492e708f5",
   "metadata": {},
   "source": []
  }
 ],
 "metadata": {
  "kernelspec": {
   "display_name": "Python 3 (ipykernel)",
   "language": "python",
   "name": "python3"
  },
  "language_info": {
   "codemirror_mode": {
    "name": "ipython",
    "version": 3
   },
   "file_extension": ".py",
   "mimetype": "text/x-python",
   "name": "python",
   "nbconvert_exporter": "python",
   "pygments_lexer": "ipython3",
   "version": "3.12.8"
  }
 },
 "nbformat": 4,
 "nbformat_minor": 5
}
