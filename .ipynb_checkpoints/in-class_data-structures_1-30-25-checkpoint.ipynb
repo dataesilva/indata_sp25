{
 "cells": [
  {
   "cell_type": "code",
   "execution_count": 1,
   "id": "4f2dddec-9239-47b6-8eb6-e55c756008ff",
   "metadata": {},
   "outputs": [],
   "source": [
    "import pandas as pd\n",
    "import json"
   ]
  },
  {
   "cell_type": "code",
   "execution_count": 2,
   "id": "86a45f99-a76a-4afa-a7bd-827952fcafe6",
   "metadata": {},
   "outputs": [],
   "source": [
    "with open('Spotify_Montero_data.json') as j:\n",
    "    album = json.load(j)"
   ]
  },
  {
   "cell_type": "code",
   "execution_count": 3,
   "id": "79583a14-29e1-493d-af9d-b34534bb7acf",
   "metadata": {},
   "outputs": [
    {
     "data": {
      "text/plain": [
       "dict"
      ]
     },
     "execution_count": 3,
     "metadata": {},
     "output_type": "execute_result"
    }
   ],
   "source": [
    "type(album)"
   ]
  },
  {
   "cell_type": "code",
   "execution_count": 4,
   "id": "38da0f94-a3de-4151-9483-3e05cd76b7d4",
   "metadata": {},
   "outputs": [
    {
     "data": {
      "text/plain": [
       "dict_keys(['album_type', 'artists', 'available_markets', 'copyrights', 'external_ids', 'external_urls', 'genres', 'href', 'id', 'images', 'label', 'name', 'popularity', 'release_date', 'release_date_precision', 'total_tracks', 'tracks', 'type', 'uri'])"
      ]
     },
     "execution_count": 4,
     "metadata": {},
     "output_type": "execute_result"
    }
   ],
   "source": [
    "album.keys()"
   ]
  },
  {
   "cell_type": "code",
   "execution_count": 5,
   "id": "b9d93aa1-3743-4655-acb1-c3add48e3e5a",
   "metadata": {},
   "outputs": [
    {
     "data": {
      "text/plain": [
       "dict"
      ]
     },
     "execution_count": 5,
     "metadata": {},
     "output_type": "execute_result"
    }
   ],
   "source": [
    "type(album['tracks'])"
   ]
  },
  {
   "cell_type": "code",
   "execution_count": 6,
   "id": "24050c21-a3ab-41b6-ae18-bc637dbeba1c",
   "metadata": {},
   "outputs": [
    {
     "data": {
      "text/plain": [
       "dict_keys(['href', 'items', 'limit', 'next', 'offset', 'previous', 'total'])"
      ]
     },
     "execution_count": 6,
     "metadata": {},
     "output_type": "execute_result"
    }
   ],
   "source": [
    "album['tracks'].keys()"
   ]
  },
  {
   "cell_type": "code",
   "execution_count": 7,
   "id": "64b205f5-31b1-4269-add6-3807b4a36f7a",
   "metadata": {},
   "outputs": [
    {
     "data": {
      "text/plain": [
       "list"
      ]
     },
     "execution_count": 7,
     "metadata": {},
     "output_type": "execute_result"
    }
   ],
   "source": [
    "type(album['tracks']['items'])"
   ]
  },
  {
   "cell_type": "code",
   "execution_count": 8,
   "id": "d0796d0e-b3a0-4339-b320-6054ef37b04c",
   "metadata": {},
   "outputs": [
    {
     "data": {
      "text/plain": [
       "15"
      ]
     },
     "execution_count": 8,
     "metadata": {},
     "output_type": "execute_result"
    }
   ],
   "source": [
    "len(album['tracks']['items'])"
   ]
  },
  {
   "cell_type": "code",
   "execution_count": 9,
   "id": "d32b4c70-4432-459a-bd9c-612ab3c5b99b",
   "metadata": {},
   "outputs": [
    {
     "data": {
      "text/plain": [
       "dict"
      ]
     },
     "execution_count": 9,
     "metadata": {},
     "output_type": "execute_result"
    }
   ],
   "source": [
    "type(album['tracks']['items'][0])"
   ]
  },
  {
   "cell_type": "code",
   "execution_count": 10,
   "id": "2541696b-83fc-46bb-bcbc-d236cb161bfd",
   "metadata": {},
   "outputs": [
    {
     "data": {
      "text/plain": [
       "dict_keys(['artists', 'available_markets', 'disc_number', 'duration_ms', 'explicit', 'external_urls', 'href', 'id', 'is_local', 'name', 'preview_url', 'track_number', 'type', 'uri'])"
      ]
     },
     "execution_count": 10,
     "metadata": {},
     "output_type": "execute_result"
    }
   ],
   "source": [
    "album['tracks']['items'][0].keys()"
   ]
  },
  {
   "cell_type": "code",
   "execution_count": 11,
   "id": "f9175a62-a172-419a-9941-01c9c2b9e897",
   "metadata": {},
   "outputs": [
    {
     "data": {
      "text/html": [
       "<div>\n",
       "<style scoped>\n",
       "    .dataframe tbody tr th:only-of-type {\n",
       "        vertical-align: middle;\n",
       "    }\n",
       "\n",
       "    .dataframe tbody tr th {\n",
       "        vertical-align: top;\n",
       "    }\n",
       "\n",
       "    .dataframe thead th {\n",
       "        text-align: right;\n",
       "    }\n",
       "</style>\n",
       "<table border=\"1\" class=\"dataframe\">\n",
       "  <thead>\n",
       "    <tr style=\"text-align: right;\">\n",
       "      <th></th>\n",
       "      <th>artists</th>\n",
       "      <th>available_markets</th>\n",
       "      <th>disc_number</th>\n",
       "      <th>duration_ms</th>\n",
       "      <th>explicit</th>\n",
       "      <th>external_urls</th>\n",
       "      <th>href</th>\n",
       "      <th>id</th>\n",
       "      <th>is_local</th>\n",
       "      <th>name</th>\n",
       "      <th>preview_url</th>\n",
       "      <th>track_number</th>\n",
       "      <th>type</th>\n",
       "      <th>uri</th>\n",
       "    </tr>\n",
       "  </thead>\n",
       "  <tbody>\n",
       "    <tr>\n",
       "      <th>0</th>\n",
       "      <td>[{'external_urls': {'spotify': 'https://open.s...</td>\n",
       "      <td>[AD, AE, AG, AL, AM, AO, AR, AT, AU, AZ, BA, B...</td>\n",
       "      <td>1</td>\n",
       "      <td>137704</td>\n",
       "      <td>True</td>\n",
       "      <td>{'spotify': 'https://open.spotify.com/track/1S...</td>\n",
       "      <td>https://api.spotify.com/v1/tracks/1SC5rEoYDGUK...</td>\n",
       "      <td>1SC5rEoYDGUK4NfG82494W</td>\n",
       "      <td>False</td>\n",
       "      <td>MONTERO (Call Me By Your Name)</td>\n",
       "      <td>https://p.scdn.co/mp3-preview/a25aff06d2a2f2cf...</td>\n",
       "      <td>1</td>\n",
       "      <td>track</td>\n",
       "      <td>spotify:track:1SC5rEoYDGUK4NfG82494W</td>\n",
       "    </tr>\n",
       "    <tr>\n",
       "      <th>1</th>\n",
       "      <td>[{'external_urls': {'spotify': 'https://open.s...</td>\n",
       "      <td>[AD, AE, AG, AL, AM, AO, AR, AT, AU, AZ, BA, B...</td>\n",
       "      <td>1</td>\n",
       "      <td>221203</td>\n",
       "      <td>True</td>\n",
       "      <td>{'spotify': 'https://open.spotify.com/track/3g...</td>\n",
       "      <td>https://api.spotify.com/v1/tracks/3grVoZ10bm2j...</td>\n",
       "      <td>3grVoZ10bm2jUGpo7BxpuF</td>\n",
       "      <td>False</td>\n",
       "      <td>DEAD RIGHT NOW</td>\n",
       "      <td>https://p.scdn.co/mp3-preview/63edfe0701b3d240...</td>\n",
       "      <td>2</td>\n",
       "      <td>track</td>\n",
       "      <td>spotify:track:3grVoZ10bm2jUGpo7BxpuF</td>\n",
       "    </tr>\n",
       "    <tr>\n",
       "      <th>2</th>\n",
       "      <td>[{'external_urls': {'spotify': 'https://open.s...</td>\n",
       "      <td>[AD, AE, AG, AL, AM, AO, AR, AT, AU, AZ, BA, B...</td>\n",
       "      <td>1</td>\n",
       "      <td>212352</td>\n",
       "      <td>True</td>\n",
       "      <td>{'spotify': 'https://open.spotify.com/track/5Z...</td>\n",
       "      <td>https://api.spotify.com/v1/tracks/5Z9KJZvQzH6P...</td>\n",
       "      <td>5Z9KJZvQzH6PFmb8SNkxuk</td>\n",
       "      <td>False</td>\n",
       "      <td>INDUSTRY BABY (feat. Jack Harlow)</td>\n",
       "      <td>https://p.scdn.co/mp3-preview/31e16e1bc7aad79a...</td>\n",
       "      <td>3</td>\n",
       "      <td>track</td>\n",
       "      <td>spotify:track:5Z9KJZvQzH6PFmb8SNkxuk</td>\n",
       "    </tr>\n",
       "    <tr>\n",
       "      <th>3</th>\n",
       "      <td>[{'external_urls': {'spotify': 'https://open.s...</td>\n",
       "      <td>[AD, AE, AG, AL, AM, AO, AR, AT, AU, AZ, BA, B...</td>\n",
       "      <td>1</td>\n",
       "      <td>143901</td>\n",
       "      <td>True</td>\n",
       "      <td>{'spotify': 'https://open.spotify.com/track/0e...</td>\n",
       "      <td>https://api.spotify.com/v1/tracks/0e8nrvls4Qqv...</td>\n",
       "      <td>0e8nrvls4Qqv5Rfa2UhqmO</td>\n",
       "      <td>False</td>\n",
       "      <td>THATS WHAT I WANT</td>\n",
       "      <td>https://p.scdn.co/mp3-preview/d62f4961618e4b4d...</td>\n",
       "      <td>4</td>\n",
       "      <td>track</td>\n",
       "      <td>spotify:track:0e8nrvls4Qqv5Rfa2UhqmO</td>\n",
       "    </tr>\n",
       "    <tr>\n",
       "      <th>4</th>\n",
       "      <td>[{'external_urls': {'spotify': 'https://open.s...</td>\n",
       "      <td>[AD, AE, AG, AL, AM, AO, AR, AT, AU, AZ, BA, B...</td>\n",
       "      <td>1</td>\n",
       "      <td>24005</td>\n",
       "      <td>False</td>\n",
       "      <td>{'spotify': 'https://open.spotify.com/track/1B...</td>\n",
       "      <td>https://api.spotify.com/v1/tracks/1BMu5TWvalAG...</td>\n",
       "      <td>1BMu5TWvalAGpi5jlhFEBb</td>\n",
       "      <td>False</td>\n",
       "      <td>THE ART OF REALIZATION</td>\n",
       "      <td>https://p.scdn.co/mp3-preview/48abace5e799d0cd...</td>\n",
       "      <td>5</td>\n",
       "      <td>track</td>\n",
       "      <td>spotify:track:1BMu5TWvalAGpi5jlhFEBb</td>\n",
       "    </tr>\n",
       "  </tbody>\n",
       "</table>\n",
       "</div>"
      ],
      "text/plain": [
       "                                             artists  \\\n",
       "0  [{'external_urls': {'spotify': 'https://open.s...   \n",
       "1  [{'external_urls': {'spotify': 'https://open.s...   \n",
       "2  [{'external_urls': {'spotify': 'https://open.s...   \n",
       "3  [{'external_urls': {'spotify': 'https://open.s...   \n",
       "4  [{'external_urls': {'spotify': 'https://open.s...   \n",
       "\n",
       "                                   available_markets  disc_number  \\\n",
       "0  [AD, AE, AG, AL, AM, AO, AR, AT, AU, AZ, BA, B...            1   \n",
       "1  [AD, AE, AG, AL, AM, AO, AR, AT, AU, AZ, BA, B...            1   \n",
       "2  [AD, AE, AG, AL, AM, AO, AR, AT, AU, AZ, BA, B...            1   \n",
       "3  [AD, AE, AG, AL, AM, AO, AR, AT, AU, AZ, BA, B...            1   \n",
       "4  [AD, AE, AG, AL, AM, AO, AR, AT, AU, AZ, BA, B...            1   \n",
       "\n",
       "   duration_ms  explicit                                      external_urls  \\\n",
       "0       137704      True  {'spotify': 'https://open.spotify.com/track/1S...   \n",
       "1       221203      True  {'spotify': 'https://open.spotify.com/track/3g...   \n",
       "2       212352      True  {'spotify': 'https://open.spotify.com/track/5Z...   \n",
       "3       143901      True  {'spotify': 'https://open.spotify.com/track/0e...   \n",
       "4        24005     False  {'spotify': 'https://open.spotify.com/track/1B...   \n",
       "\n",
       "                                                href                      id  \\\n",
       "0  https://api.spotify.com/v1/tracks/1SC5rEoYDGUK...  1SC5rEoYDGUK4NfG82494W   \n",
       "1  https://api.spotify.com/v1/tracks/3grVoZ10bm2j...  3grVoZ10bm2jUGpo7BxpuF   \n",
       "2  https://api.spotify.com/v1/tracks/5Z9KJZvQzH6P...  5Z9KJZvQzH6PFmb8SNkxuk   \n",
       "3  https://api.spotify.com/v1/tracks/0e8nrvls4Qqv...  0e8nrvls4Qqv5Rfa2UhqmO   \n",
       "4  https://api.spotify.com/v1/tracks/1BMu5TWvalAG...  1BMu5TWvalAGpi5jlhFEBb   \n",
       "\n",
       "   is_local                               name  \\\n",
       "0     False     MONTERO (Call Me By Your Name)   \n",
       "1     False                     DEAD RIGHT NOW   \n",
       "2     False  INDUSTRY BABY (feat. Jack Harlow)   \n",
       "3     False                  THATS WHAT I WANT   \n",
       "4     False             THE ART OF REALIZATION   \n",
       "\n",
       "                                         preview_url  track_number   type  \\\n",
       "0  https://p.scdn.co/mp3-preview/a25aff06d2a2f2cf...             1  track   \n",
       "1  https://p.scdn.co/mp3-preview/63edfe0701b3d240...             2  track   \n",
       "2  https://p.scdn.co/mp3-preview/31e16e1bc7aad79a...             3  track   \n",
       "3  https://p.scdn.co/mp3-preview/d62f4961618e4b4d...             4  track   \n",
       "4  https://p.scdn.co/mp3-preview/48abace5e799d0cd...             5  track   \n",
       "\n",
       "                                    uri  \n",
       "0  spotify:track:1SC5rEoYDGUK4NfG82494W  \n",
       "1  spotify:track:3grVoZ10bm2jUGpo7BxpuF  \n",
       "2  spotify:track:5Z9KJZvQzH6PFmb8SNkxuk  \n",
       "3  spotify:track:0e8nrvls4Qqv5Rfa2UhqmO  \n",
       "4  spotify:track:1BMu5TWvalAGpi5jlhFEBb  "
      ]
     },
     "execution_count": 11,
     "metadata": {},
     "output_type": "execute_result"
    }
   ],
   "source": [
    "montero_df = pd.DataFrame(album['tracks']['items'])\n",
    "montero_df.head()"
   ]
  },
  {
   "cell_type": "code",
   "execution_count": 12,
   "id": "3c315189-e901-44f2-9cdc-dd386eb6a2a2",
   "metadata": {},
   "outputs": [
    {
     "data": {
      "text/plain": [
       "list"
      ]
     },
     "execution_count": 12,
     "metadata": {},
     "output_type": "execute_result"
    }
   ],
   "source": [
    "type(montero_df['artists'].iloc[0])"
   ]
  },
  {
   "cell_type": "code",
   "execution_count": 13,
   "id": "233735f5-1668-49cc-918c-fa18c1a631e0",
   "metadata": {},
   "outputs": [
    {
     "data": {
      "text/plain": [
       "1"
      ]
     },
     "execution_count": 13,
     "metadata": {},
     "output_type": "execute_result"
    }
   ],
   "source": [
    "len(montero_df['artists'].iloc[0])"
   ]
  },
  {
   "cell_type": "code",
   "execution_count": 14,
   "id": "4b46ec7a-ec0d-48b6-ba48-7e7f61efeb4c",
   "metadata": {},
   "outputs": [
    {
     "data": {
      "text/plain": [
       "'Lil Nas X'"
      ]
     },
     "execution_count": 14,
     "metadata": {},
     "output_type": "execute_result"
    }
   ],
   "source": [
    "montero_df['artists'].iloc[0][0]['name']"
   ]
  },
  {
   "cell_type": "code",
   "execution_count": 15,
   "id": "6af1ae18-2438-451b-ad05-bb4a027987bb",
   "metadata": {},
   "outputs": [
    {
     "data": {
      "text/plain": [
       "[1, 1, 2, 1, 1, 2, 2, 1, 2, 1, 1, 1, 1, 1, 2]"
      ]
     },
     "execution_count": 15,
     "metadata": {},
     "output_type": "execute_result"
    }
   ],
   "source": [
    "[len(x) for x in montero_df['artists']]"
   ]
  },
  {
   "cell_type": "code",
   "execution_count": 16,
   "id": "9493b102-3bef-447f-be73-6bae09320597",
   "metadata": {},
   "outputs": [
    {
     "data": {
      "text/plain": [
       "'Jack Harlow'"
      ]
     },
     "execution_count": 16,
     "metadata": {},
     "output_type": "execute_result"
    }
   ],
   "source": [
    "montero_df['artists'].iloc[2][1]['name']"
   ]
  },
  {
   "cell_type": "code",
   "execution_count": 17,
   "id": "e56988e2-4306-442a-becd-aac55c397dd4",
   "metadata": {},
   "outputs": [
    {
     "data": {
      "text/plain": [
       "[['Lil Nas X'],\n",
       " ['Lil Nas X'],\n",
       " ['Lil Nas X', 'Jack Harlow'],\n",
       " ['Lil Nas X'],\n",
       " ['Lil Nas X'],\n",
       " ['Lil Nas X', 'Doja Cat'],\n",
       " ['Lil Nas X', 'Elton John'],\n",
       " ['Lil Nas X'],\n",
       " ['Lil Nas X', 'Megan Thee Stallion'],\n",
       " ['Lil Nas X'],\n",
       " ['Lil Nas X'],\n",
       " ['Lil Nas X'],\n",
       " ['Lil Nas X'],\n",
       " ['Lil Nas X'],\n",
       " ['Lil Nas X', 'Miley Cyrus']]"
      ]
     },
     "execution_count": 17,
     "metadata": {},
     "output_type": "execute_result"
    }
   ],
   "source": [
    "[[y['name'] for y in x] for x in montero_df['artists']]"
   ]
  },
  {
   "cell_type": "code",
   "execution_count": 18,
   "id": "574351b9-4caf-44e5-9413-28de09b2fbb7",
   "metadata": {},
   "outputs": [
    {
     "data": {
      "text/plain": [
       "'a, b'"
      ]
     },
     "execution_count": 18,
     "metadata": {},
     "output_type": "execute_result"
    }
   ],
   "source": [
    "', '.join(['a', 'b'])"
   ]
  },
  {
   "cell_type": "code",
   "execution_count": 19,
   "id": "1b738959-ebd6-4251-90a8-dfd0af353910",
   "metadata": {},
   "outputs": [],
   "source": [
    "montero_df['artist_names'] = [', '.join([y['name'] for y in x]) for x in montero_df['artists']]"
   ]
  },
  {
   "cell_type": "code",
   "execution_count": 20,
   "id": "0d84bf5c-5b92-44ed-9ee0-880454c25578",
   "metadata": {},
   "outputs": [
    {
     "data": {
      "text/html": [
       "<div>\n",
       "<style scoped>\n",
       "    .dataframe tbody tr th:only-of-type {\n",
       "        vertical-align: middle;\n",
       "    }\n",
       "\n",
       "    .dataframe tbody tr th {\n",
       "        vertical-align: top;\n",
       "    }\n",
       "\n",
       "    .dataframe thead th {\n",
       "        text-align: right;\n",
       "    }\n",
       "</style>\n",
       "<table border=\"1\" class=\"dataframe\">\n",
       "  <thead>\n",
       "    <tr style=\"text-align: right;\">\n",
       "      <th></th>\n",
       "      <th>artists</th>\n",
       "      <th>available_markets</th>\n",
       "      <th>disc_number</th>\n",
       "      <th>duration_ms</th>\n",
       "      <th>explicit</th>\n",
       "      <th>external_urls</th>\n",
       "      <th>href</th>\n",
       "      <th>id</th>\n",
       "      <th>is_local</th>\n",
       "      <th>name</th>\n",
       "      <th>preview_url</th>\n",
       "      <th>track_number</th>\n",
       "      <th>type</th>\n",
       "      <th>uri</th>\n",
       "      <th>artist_names</th>\n",
       "    </tr>\n",
       "  </thead>\n",
       "  <tbody>\n",
       "    <tr>\n",
       "      <th>0</th>\n",
       "      <td>[{'external_urls': {'spotify': 'https://open.s...</td>\n",
       "      <td>[AD, AE, AG, AL, AM, AO, AR, AT, AU, AZ, BA, B...</td>\n",
       "      <td>1</td>\n",
       "      <td>137704</td>\n",
       "      <td>True</td>\n",
       "      <td>{'spotify': 'https://open.spotify.com/track/1S...</td>\n",
       "      <td>https://api.spotify.com/v1/tracks/1SC5rEoYDGUK...</td>\n",
       "      <td>1SC5rEoYDGUK4NfG82494W</td>\n",
       "      <td>False</td>\n",
       "      <td>MONTERO (Call Me By Your Name)</td>\n",
       "      <td>https://p.scdn.co/mp3-preview/a25aff06d2a2f2cf...</td>\n",
       "      <td>1</td>\n",
       "      <td>track</td>\n",
       "      <td>spotify:track:1SC5rEoYDGUK4NfG82494W</td>\n",
       "      <td>Lil Nas X</td>\n",
       "    </tr>\n",
       "    <tr>\n",
       "      <th>1</th>\n",
       "      <td>[{'external_urls': {'spotify': 'https://open.s...</td>\n",
       "      <td>[AD, AE, AG, AL, AM, AO, AR, AT, AU, AZ, BA, B...</td>\n",
       "      <td>1</td>\n",
       "      <td>221203</td>\n",
       "      <td>True</td>\n",
       "      <td>{'spotify': 'https://open.spotify.com/track/3g...</td>\n",
       "      <td>https://api.spotify.com/v1/tracks/3grVoZ10bm2j...</td>\n",
       "      <td>3grVoZ10bm2jUGpo7BxpuF</td>\n",
       "      <td>False</td>\n",
       "      <td>DEAD RIGHT NOW</td>\n",
       "      <td>https://p.scdn.co/mp3-preview/63edfe0701b3d240...</td>\n",
       "      <td>2</td>\n",
       "      <td>track</td>\n",
       "      <td>spotify:track:3grVoZ10bm2jUGpo7BxpuF</td>\n",
       "      <td>Lil Nas X</td>\n",
       "    </tr>\n",
       "    <tr>\n",
       "      <th>2</th>\n",
       "      <td>[{'external_urls': {'spotify': 'https://open.s...</td>\n",
       "      <td>[AD, AE, AG, AL, AM, AO, AR, AT, AU, AZ, BA, B...</td>\n",
       "      <td>1</td>\n",
       "      <td>212352</td>\n",
       "      <td>True</td>\n",
       "      <td>{'spotify': 'https://open.spotify.com/track/5Z...</td>\n",
       "      <td>https://api.spotify.com/v1/tracks/5Z9KJZvQzH6P...</td>\n",
       "      <td>5Z9KJZvQzH6PFmb8SNkxuk</td>\n",
       "      <td>False</td>\n",
       "      <td>INDUSTRY BABY (feat. Jack Harlow)</td>\n",
       "      <td>https://p.scdn.co/mp3-preview/31e16e1bc7aad79a...</td>\n",
       "      <td>3</td>\n",
       "      <td>track</td>\n",
       "      <td>spotify:track:5Z9KJZvQzH6PFmb8SNkxuk</td>\n",
       "      <td>Lil Nas X, Jack Harlow</td>\n",
       "    </tr>\n",
       "    <tr>\n",
       "      <th>3</th>\n",
       "      <td>[{'external_urls': {'spotify': 'https://open.s...</td>\n",
       "      <td>[AD, AE, AG, AL, AM, AO, AR, AT, AU, AZ, BA, B...</td>\n",
       "      <td>1</td>\n",
       "      <td>143901</td>\n",
       "      <td>True</td>\n",
       "      <td>{'spotify': 'https://open.spotify.com/track/0e...</td>\n",
       "      <td>https://api.spotify.com/v1/tracks/0e8nrvls4Qqv...</td>\n",
       "      <td>0e8nrvls4Qqv5Rfa2UhqmO</td>\n",
       "      <td>False</td>\n",
       "      <td>THATS WHAT I WANT</td>\n",
       "      <td>https://p.scdn.co/mp3-preview/d62f4961618e4b4d...</td>\n",
       "      <td>4</td>\n",
       "      <td>track</td>\n",
       "      <td>spotify:track:0e8nrvls4Qqv5Rfa2UhqmO</td>\n",
       "      <td>Lil Nas X</td>\n",
       "    </tr>\n",
       "    <tr>\n",
       "      <th>4</th>\n",
       "      <td>[{'external_urls': {'spotify': 'https://open.s...</td>\n",
       "      <td>[AD, AE, AG, AL, AM, AO, AR, AT, AU, AZ, BA, B...</td>\n",
       "      <td>1</td>\n",
       "      <td>24005</td>\n",
       "      <td>False</td>\n",
       "      <td>{'spotify': 'https://open.spotify.com/track/1B...</td>\n",
       "      <td>https://api.spotify.com/v1/tracks/1BMu5TWvalAG...</td>\n",
       "      <td>1BMu5TWvalAGpi5jlhFEBb</td>\n",
       "      <td>False</td>\n",
       "      <td>THE ART OF REALIZATION</td>\n",
       "      <td>https://p.scdn.co/mp3-preview/48abace5e799d0cd...</td>\n",
       "      <td>5</td>\n",
       "      <td>track</td>\n",
       "      <td>spotify:track:1BMu5TWvalAGpi5jlhFEBb</td>\n",
       "      <td>Lil Nas X</td>\n",
       "    </tr>\n",
       "  </tbody>\n",
       "</table>\n",
       "</div>"
      ],
      "text/plain": [
       "                                             artists  \\\n",
       "0  [{'external_urls': {'spotify': 'https://open.s...   \n",
       "1  [{'external_urls': {'spotify': 'https://open.s...   \n",
       "2  [{'external_urls': {'spotify': 'https://open.s...   \n",
       "3  [{'external_urls': {'spotify': 'https://open.s...   \n",
       "4  [{'external_urls': {'spotify': 'https://open.s...   \n",
       "\n",
       "                                   available_markets  disc_number  \\\n",
       "0  [AD, AE, AG, AL, AM, AO, AR, AT, AU, AZ, BA, B...            1   \n",
       "1  [AD, AE, AG, AL, AM, AO, AR, AT, AU, AZ, BA, B...            1   \n",
       "2  [AD, AE, AG, AL, AM, AO, AR, AT, AU, AZ, BA, B...            1   \n",
       "3  [AD, AE, AG, AL, AM, AO, AR, AT, AU, AZ, BA, B...            1   \n",
       "4  [AD, AE, AG, AL, AM, AO, AR, AT, AU, AZ, BA, B...            1   \n",
       "\n",
       "   duration_ms  explicit                                      external_urls  \\\n",
       "0       137704      True  {'spotify': 'https://open.spotify.com/track/1S...   \n",
       "1       221203      True  {'spotify': 'https://open.spotify.com/track/3g...   \n",
       "2       212352      True  {'spotify': 'https://open.spotify.com/track/5Z...   \n",
       "3       143901      True  {'spotify': 'https://open.spotify.com/track/0e...   \n",
       "4        24005     False  {'spotify': 'https://open.spotify.com/track/1B...   \n",
       "\n",
       "                                                href                      id  \\\n",
       "0  https://api.spotify.com/v1/tracks/1SC5rEoYDGUK...  1SC5rEoYDGUK4NfG82494W   \n",
       "1  https://api.spotify.com/v1/tracks/3grVoZ10bm2j...  3grVoZ10bm2jUGpo7BxpuF   \n",
       "2  https://api.spotify.com/v1/tracks/5Z9KJZvQzH6P...  5Z9KJZvQzH6PFmb8SNkxuk   \n",
       "3  https://api.spotify.com/v1/tracks/0e8nrvls4Qqv...  0e8nrvls4Qqv5Rfa2UhqmO   \n",
       "4  https://api.spotify.com/v1/tracks/1BMu5TWvalAG...  1BMu5TWvalAGpi5jlhFEBb   \n",
       "\n",
       "   is_local                               name  \\\n",
       "0     False     MONTERO (Call Me By Your Name)   \n",
       "1     False                     DEAD RIGHT NOW   \n",
       "2     False  INDUSTRY BABY (feat. Jack Harlow)   \n",
       "3     False                  THATS WHAT I WANT   \n",
       "4     False             THE ART OF REALIZATION   \n",
       "\n",
       "                                         preview_url  track_number   type  \\\n",
       "0  https://p.scdn.co/mp3-preview/a25aff06d2a2f2cf...             1  track   \n",
       "1  https://p.scdn.co/mp3-preview/63edfe0701b3d240...             2  track   \n",
       "2  https://p.scdn.co/mp3-preview/31e16e1bc7aad79a...             3  track   \n",
       "3  https://p.scdn.co/mp3-preview/d62f4961618e4b4d...             4  track   \n",
       "4  https://p.scdn.co/mp3-preview/48abace5e799d0cd...             5  track   \n",
       "\n",
       "                                    uri            artist_names  \n",
       "0  spotify:track:1SC5rEoYDGUK4NfG82494W               Lil Nas X  \n",
       "1  spotify:track:3grVoZ10bm2jUGpo7BxpuF               Lil Nas X  \n",
       "2  spotify:track:5Z9KJZvQzH6PFmb8SNkxuk  Lil Nas X, Jack Harlow  \n",
       "3  spotify:track:0e8nrvls4Qqv5Rfa2UhqmO               Lil Nas X  \n",
       "4  spotify:track:1BMu5TWvalAGpi5jlhFEBb               Lil Nas X  "
      ]
     },
     "execution_count": 20,
     "metadata": {},
     "output_type": "execute_result"
    }
   ],
   "source": [
    "montero_df.head()"
   ]
  },
  {
   "cell_type": "code",
   "execution_count": 21,
   "id": "b6926075-9e33-4932-a05d-e0b0b29150e0",
   "metadata": {},
   "outputs": [
    {
     "data": {
      "text/plain": [
       "[184, 184, 184, 184, 184, 184, 184, 184, 184, 184, 184, 184, 184, 184, 184]"
      ]
     },
     "execution_count": 21,
     "metadata": {},
     "output_type": "execute_result"
    }
   ],
   "source": [
    "[len(x) for x in montero_df['available_markets']]"
   ]
  },
  {
   "cell_type": "code",
   "execution_count": 22,
   "id": "eb02bc59-8caa-4ed6-93a1-2b3b36949125",
   "metadata": {},
   "outputs": [
    {
     "data": {
      "text/plain": [
       "['is in US',\n",
       " 'is in US',\n",
       " 'is in US',\n",
       " 'is in US',\n",
       " 'is in US',\n",
       " 'is in US',\n",
       " 'is in US',\n",
       " 'is in US',\n",
       " 'is in US',\n",
       " 'is in US',\n",
       " 'is in US',\n",
       " 'is in US',\n",
       " 'is in US',\n",
       " 'is in US',\n",
       " 'is in US']"
      ]
     },
     "execution_count": 22,
     "metadata": {},
     "output_type": "execute_result"
    }
   ],
   "source": [
    "['is in US' if 'US' in x else 'not in US' for x in montero_df['available_markets']]"
   ]
  }
 ],
 "metadata": {
  "kernelspec": {
   "display_name": "Python 3 (ipykernel)",
   "language": "python",
   "name": "python3"
  },
  "language_info": {
   "codemirror_mode": {
    "name": "ipython",
    "version": 3
   },
   "file_extension": ".py",
   "mimetype": "text/x-python",
   "name": "python",
   "nbconvert_exporter": "python",
   "pygments_lexer": "ipython3",
   "version": "3.12.8"
  }
 },
 "nbformat": 4,
 "nbformat_minor": 5
}
