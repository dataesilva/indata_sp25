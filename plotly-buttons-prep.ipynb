{
 "cells": [
  {
   "cell_type": "code",
   "execution_count": 1,
   "metadata": {},
   "outputs": [],
   "source": [
    "import pandas as pd\n",
    "import plotly.graph_objects as go"
   ]
  },
  {
   "cell_type": "code",
   "execution_count": 2,
   "metadata": {},
   "outputs": [
    {
     "data": {
      "application/vnd.microsoft.datawrangler.viewer.v0+json": {
       "columns": [
        {
         "name": "index",
         "rawType": "int64",
         "type": "integer"
        },
        {
         "name": "name",
         "rawType": "object",
         "type": "string"
        },
        {
         "name": "id",
         "rawType": "int64",
         "type": "integer"
        },
        {
         "name": "nametype",
         "rawType": "object",
         "type": "string"
        },
        {
         "name": "recclass",
         "rawType": "object",
         "type": "string"
        },
        {
         "name": "mass (g)",
         "rawType": "float64",
         "type": "float"
        },
        {
         "name": "fall",
         "rawType": "object",
         "type": "string"
        },
        {
         "name": "year",
         "rawType": "float64",
         "type": "float"
        },
        {
         "name": "reclat",
         "rawType": "float64",
         "type": "float"
        },
        {
         "name": "reclong",
         "rawType": "float64",
         "type": "float"
        },
        {
         "name": "GeoLocation",
         "rawType": "object",
         "type": "unknown"
        }
       ],
       "conversionMethod": "pd.DataFrame",
       "ref": "d1dff1f9-4819-4436-b3b6-4e38d5680ba1",
       "rows": [
        [
         "0",
         "Northwest Africa 3126",
         "31254",
         "Valid",
         "LL3.7",
         "173.0",
         "Found",
         "2001.0",
         null,
         null,
         null
        ],
        [
         "1",
         "LaPaz Icefield 04605",
         "45163",
         "Valid",
         "L5",
         "63.0",
         "Found",
         "2004.0",
         null,
         null,
         null
        ],
        [
         "2",
         "Yamato 980593",
         "37216",
         "Valid",
         "L3",
         "10.913",
         "Found",
         "1998.0",
         null,
         null,
         null
        ],
        [
         "3",
         "Queen Alexandra Range 97279",
         "20737",
         "Valid",
         "LL5",
         "27.3",
         "Found",
         "1997.0",
         "-84.0",
         "168.0",
         "(-84.0, 168.0)"
        ],
        [
         "4",
         "Elephant Moraine 90798",
         "9207",
         "Valid",
         "L6",
         "20.9",
         "Found",
         "1990.0",
         "-76.28535",
         "156.44404",
         "(-76.28535, 156.44404)"
        ]
       ],
       "shape": {
        "columns": 10,
        "rows": 5
       }
      },
      "text/html": [
       "<div>\n",
       "<style scoped>\n",
       "    .dataframe tbody tr th:only-of-type {\n",
       "        vertical-align: middle;\n",
       "    }\n",
       "\n",
       "    .dataframe tbody tr th {\n",
       "        vertical-align: top;\n",
       "    }\n",
       "\n",
       "    .dataframe thead th {\n",
       "        text-align: right;\n",
       "    }\n",
       "</style>\n",
       "<table border=\"1\" class=\"dataframe\">\n",
       "  <thead>\n",
       "    <tr style=\"text-align: right;\">\n",
       "      <th></th>\n",
       "      <th>name</th>\n",
       "      <th>id</th>\n",
       "      <th>nametype</th>\n",
       "      <th>recclass</th>\n",
       "      <th>mass (g)</th>\n",
       "      <th>fall</th>\n",
       "      <th>year</th>\n",
       "      <th>reclat</th>\n",
       "      <th>reclong</th>\n",
       "      <th>GeoLocation</th>\n",
       "    </tr>\n",
       "  </thead>\n",
       "  <tbody>\n",
       "    <tr>\n",
       "      <th>0</th>\n",
       "      <td>Northwest Africa 3126</td>\n",
       "      <td>31254</td>\n",
       "      <td>Valid</td>\n",
       "      <td>LL3.7</td>\n",
       "      <td>173.000</td>\n",
       "      <td>Found</td>\n",
       "      <td>2001.0</td>\n",
       "      <td>NaN</td>\n",
       "      <td>NaN</td>\n",
       "      <td>NaN</td>\n",
       "    </tr>\n",
       "    <tr>\n",
       "      <th>1</th>\n",
       "      <td>LaPaz Icefield 04605</td>\n",
       "      <td>45163</td>\n",
       "      <td>Valid</td>\n",
       "      <td>L5</td>\n",
       "      <td>63.000</td>\n",
       "      <td>Found</td>\n",
       "      <td>2004.0</td>\n",
       "      <td>NaN</td>\n",
       "      <td>NaN</td>\n",
       "      <td>NaN</td>\n",
       "    </tr>\n",
       "    <tr>\n",
       "      <th>2</th>\n",
       "      <td>Yamato 980593</td>\n",
       "      <td>37216</td>\n",
       "      <td>Valid</td>\n",
       "      <td>L3</td>\n",
       "      <td>10.913</td>\n",
       "      <td>Found</td>\n",
       "      <td>1998.0</td>\n",
       "      <td>NaN</td>\n",
       "      <td>NaN</td>\n",
       "      <td>NaN</td>\n",
       "    </tr>\n",
       "    <tr>\n",
       "      <th>3</th>\n",
       "      <td>Queen Alexandra Range 97279</td>\n",
       "      <td>20737</td>\n",
       "      <td>Valid</td>\n",
       "      <td>LL5</td>\n",
       "      <td>27.300</td>\n",
       "      <td>Found</td>\n",
       "      <td>1997.0</td>\n",
       "      <td>-84.00000</td>\n",
       "      <td>168.00000</td>\n",
       "      <td>(-84.0, 168.0)</td>\n",
       "    </tr>\n",
       "    <tr>\n",
       "      <th>4</th>\n",
       "      <td>Elephant Moraine 90798</td>\n",
       "      <td>9207</td>\n",
       "      <td>Valid</td>\n",
       "      <td>L6</td>\n",
       "      <td>20.900</td>\n",
       "      <td>Found</td>\n",
       "      <td>1990.0</td>\n",
       "      <td>-76.28535</td>\n",
       "      <td>156.44404</td>\n",
       "      <td>(-76.28535, 156.44404)</td>\n",
       "    </tr>\n",
       "  </tbody>\n",
       "</table>\n",
       "</div>"
      ],
      "text/plain": [
       "                          name     id nametype recclass  mass (g)   fall  \\\n",
       "0        Northwest Africa 3126  31254    Valid    LL3.7   173.000  Found   \n",
       "1         LaPaz Icefield 04605  45163    Valid       L5    63.000  Found   \n",
       "2                Yamato 980593  37216    Valid       L3    10.913  Found   \n",
       "3  Queen Alexandra Range 97279  20737    Valid      LL5    27.300  Found   \n",
       "4       Elephant Moraine 90798   9207    Valid       L6    20.900  Found   \n",
       "\n",
       "     year    reclat    reclong             GeoLocation  \n",
       "0  2001.0       NaN        NaN                     NaN  \n",
       "1  2004.0       NaN        NaN                     NaN  \n",
       "2  1998.0       NaN        NaN                     NaN  \n",
       "3  1997.0 -84.00000  168.00000          (-84.0, 168.0)  \n",
       "4  1990.0 -76.28535  156.44404  (-76.28535, 156.44404)  "
      ]
     },
     "execution_count": 2,
     "metadata": {},
     "output_type": "execute_result"
    }
   ],
   "source": [
    "ms = pd.read_csv('Meteorite_Landings_Sample.csv')\n",
    "ms.head()"
   ]
  },
  {
   "cell_type": "code",
   "execution_count": 8,
   "metadata": {},
   "outputs": [
    {
     "data": {
      "text/plain": [
       "array(['Found', 'Fell'], dtype=object)"
      ]
     },
     "execution_count": 8,
     "metadata": {},
     "output_type": "execute_result"
    }
   ],
   "source": [
    "ms['fall'].unique()"
   ]
  },
  {
   "cell_type": "code",
   "execution_count": 20,
   "metadata": {},
   "outputs": [
    {
     "data": {
      "text/plain": [
       "Index(['name', 'id', 'nametype', 'recclass', 'mass (g)', 'fall', 'year',\n",
       "       'reclat', 'reclong', 'GeoLocation'],\n",
       "      dtype='object')"
      ]
     },
     "execution_count": 20,
     "metadata": {},
     "output_type": "execute_result"
    }
   ],
   "source": [
    "ms.columns"
   ]
  },
  {
   "cell_type": "code",
   "execution_count": 24,
   "metadata": {},
   "outputs": [
    {
     "data": {
      "text/plain": [
       "dtype('float64')"
      ]
     },
     "execution_count": 24,
     "metadata": {},
     "output_type": "execute_result"
    }
   ],
   "source": [
    "ms['mass (g)'].dtype"
   ]
  },
  {
   "cell_type": "code",
   "execution_count": null,
   "metadata": {},
   "outputs": [
    {
     "data": {
      "application/vnd.plotly.v1+json": {
       "config": {
        "plotlyServerURL": "https://plot.ly"
       },
       "data": [
        {
         "marker": {
          "color": "red"
         },
         "name": "Found",
         "type": "box",
         "visible": true,
         "y": [
          173,
          63,
          10.913,
          27.3,
          20.9,
          2048,
          150.1,
          13.16,
          87.49,
          3.03,
          31.03,
          1.2,
          9.217,
          1000,
          2.4,
          0.5,
          16.4,
          45.21,
          1.4,
          2.55,
          33.8,
          1.1,
          8.1,
          52.4,
          197.2,
          101.4,
          4.4,
          12.976,
          579,
          69.9,
          9.49,
          102.79,
          1.58,
          0.45,
          3879,
          3.26,
          3.49,
          0.54,
          17.54,
          4.6,
          613,
          48.2,
          8.6,
          24.2,
          0.74,
          8.3,
          7500,
          26.7,
          13600,
          34.1,
          45,
          56.82,
          1.59,
          8.4,
          7.3,
          1.7,
          2.09,
          74,
          495.4,
          89.6,
          420,
          849,
          208,
          228,
          2.98,
          53.8,
          55.9,
          73,
          53,
          0.9,
          1230.8,
          587.7,
          8725,
          17.5,
          112.86,
          8.9,
          779.6,
          3.8,
          188,
          37.1,
          86.1,
          68.4,
          3.54,
          244,
          9.97,
          12.31,
          18.7,
          78.8,
          18.2,
          4100,
          815,
          1095,
          254,
          9.2,
          31.9,
          1.48,
          165.8,
          406,
          35.8,
          86.63,
          1563.1,
          185.4,
          127.1,
          0.51,
          15.5,
          85,
          308,
          3.5,
          10175,
          11.1,
          5.9,
          3.19,
          0.56,
          11.09,
          11.9,
          29.42,
          27.8,
          92.7,
          78.36,
          111,
          62.4,
          4.7,
          144,
          23.7,
          215,
          4.93,
          500,
          1149,
          4.1,
          2.4,
          34.3,
          9.8,
          580,
          23,
          0.46,
          14.633,
          3.4,
          54,
          292.26,
          1.3,
          37.8,
          38.99,
          58.6,
          12.7,
          4.22,
          25.6,
          45.4,
          4.9,
          39.7,
          14.2,
          336,
          72.4,
          130.3,
          392.9,
          1006,
          8.14,
          10.86,
          12000,
          6.3,
          426,
          48.1,
          259,
          10.36,
          6175,
          1.33,
          4.37,
          187.5,
          27000,
          50000,
          20,
          9.5,
          1806,
          1443,
          1.22,
          1624,
          14.03,
          45000,
          5.86,
          87.7,
          2700,
          20.5,
          80.48,
          6.45,
          624,
          10.9,
          157.8,
          1788,
          2.5,
          1798.9,
          152,
          71000,
          170,
          9.13,
          5,
          4.2
         ]
        },
        {
         "marker": {
          "color": "blue"
         },
         "name": "Fell",
         "type": "box",
         "visible": true,
         "y": [
          5100,
          16300,
          8300,
          2250,
          30
         ]
        }
       ],
       "layout": {
        "template": {
         "data": {
          "bar": [
           {
            "error_x": {
             "color": "#2a3f5f"
            },
            "error_y": {
             "color": "#2a3f5f"
            },
            "marker": {
             "line": {
              "color": "#E5ECF6",
              "width": 0.5
             },
             "pattern": {
              "fillmode": "overlay",
              "size": 10,
              "solidity": 0.2
             }
            },
            "type": "bar"
           }
          ],
          "barpolar": [
           {
            "marker": {
             "line": {
              "color": "#E5ECF6",
              "width": 0.5
             },
             "pattern": {
              "fillmode": "overlay",
              "size": 10,
              "solidity": 0.2
             }
            },
            "type": "barpolar"
           }
          ],
          "carpet": [
           {
            "aaxis": {
             "endlinecolor": "#2a3f5f",
             "gridcolor": "white",
             "linecolor": "white",
             "minorgridcolor": "white",
             "startlinecolor": "#2a3f5f"
            },
            "baxis": {
             "endlinecolor": "#2a3f5f",
             "gridcolor": "white",
             "linecolor": "white",
             "minorgridcolor": "white",
             "startlinecolor": "#2a3f5f"
            },
            "type": "carpet"
           }
          ],
          "choropleth": [
           {
            "colorbar": {
             "outlinewidth": 0,
             "ticks": ""
            },
            "type": "choropleth"
           }
          ],
          "contour": [
           {
            "colorbar": {
             "outlinewidth": 0,
             "ticks": ""
            },
            "colorscale": [
             [
              0,
              "#0d0887"
             ],
             [
              0.1111111111111111,
              "#46039f"
             ],
             [
              0.2222222222222222,
              "#7201a8"
             ],
             [
              0.3333333333333333,
              "#9c179e"
             ],
             [
              0.4444444444444444,
              "#bd3786"
             ],
             [
              0.5555555555555556,
              "#d8576b"
             ],
             [
              0.6666666666666666,
              "#ed7953"
             ],
             [
              0.7777777777777778,
              "#fb9f3a"
             ],
             [
              0.8888888888888888,
              "#fdca26"
             ],
             [
              1,
              "#f0f921"
             ]
            ],
            "type": "contour"
           }
          ],
          "contourcarpet": [
           {
            "colorbar": {
             "outlinewidth": 0,
             "ticks": ""
            },
            "type": "contourcarpet"
           }
          ],
          "heatmap": [
           {
            "colorbar": {
             "outlinewidth": 0,
             "ticks": ""
            },
            "colorscale": [
             [
              0,
              "#0d0887"
             ],
             [
              0.1111111111111111,
              "#46039f"
             ],
             [
              0.2222222222222222,
              "#7201a8"
             ],
             [
              0.3333333333333333,
              "#9c179e"
             ],
             [
              0.4444444444444444,
              "#bd3786"
             ],
             [
              0.5555555555555556,
              "#d8576b"
             ],
             [
              0.6666666666666666,
              "#ed7953"
             ],
             [
              0.7777777777777778,
              "#fb9f3a"
             ],
             [
              0.8888888888888888,
              "#fdca26"
             ],
             [
              1,
              "#f0f921"
             ]
            ],
            "type": "heatmap"
           }
          ],
          "heatmapgl": [
           {
            "colorbar": {
             "outlinewidth": 0,
             "ticks": ""
            },
            "colorscale": [
             [
              0,
              "#0d0887"
             ],
             [
              0.1111111111111111,
              "#46039f"
             ],
             [
              0.2222222222222222,
              "#7201a8"
             ],
             [
              0.3333333333333333,
              "#9c179e"
             ],
             [
              0.4444444444444444,
              "#bd3786"
             ],
             [
              0.5555555555555556,
              "#d8576b"
             ],
             [
              0.6666666666666666,
              "#ed7953"
             ],
             [
              0.7777777777777778,
              "#fb9f3a"
             ],
             [
              0.8888888888888888,
              "#fdca26"
             ],
             [
              1,
              "#f0f921"
             ]
            ],
            "type": "heatmapgl"
           }
          ],
          "histogram": [
           {
            "marker": {
             "pattern": {
              "fillmode": "overlay",
              "size": 10,
              "solidity": 0.2
             }
            },
            "type": "histogram"
           }
          ],
          "histogram2d": [
           {
            "colorbar": {
             "outlinewidth": 0,
             "ticks": ""
            },
            "colorscale": [
             [
              0,
              "#0d0887"
             ],
             [
              0.1111111111111111,
              "#46039f"
             ],
             [
              0.2222222222222222,
              "#7201a8"
             ],
             [
              0.3333333333333333,
              "#9c179e"
             ],
             [
              0.4444444444444444,
              "#bd3786"
             ],
             [
              0.5555555555555556,
              "#d8576b"
             ],
             [
              0.6666666666666666,
              "#ed7953"
             ],
             [
              0.7777777777777778,
              "#fb9f3a"
             ],
             [
              0.8888888888888888,
              "#fdca26"
             ],
             [
              1,
              "#f0f921"
             ]
            ],
            "type": "histogram2d"
           }
          ],
          "histogram2dcontour": [
           {
            "colorbar": {
             "outlinewidth": 0,
             "ticks": ""
            },
            "colorscale": [
             [
              0,
              "#0d0887"
             ],
             [
              0.1111111111111111,
              "#46039f"
             ],
             [
              0.2222222222222222,
              "#7201a8"
             ],
             [
              0.3333333333333333,
              "#9c179e"
             ],
             [
              0.4444444444444444,
              "#bd3786"
             ],
             [
              0.5555555555555556,
              "#d8576b"
             ],
             [
              0.6666666666666666,
              "#ed7953"
             ],
             [
              0.7777777777777778,
              "#fb9f3a"
             ],
             [
              0.8888888888888888,
              "#fdca26"
             ],
             [
              1,
              "#f0f921"
             ]
            ],
            "type": "histogram2dcontour"
           }
          ],
          "mesh3d": [
           {
            "colorbar": {
             "outlinewidth": 0,
             "ticks": ""
            },
            "type": "mesh3d"
           }
          ],
          "parcoords": [
           {
            "line": {
             "colorbar": {
              "outlinewidth": 0,
              "ticks": ""
             }
            },
            "type": "parcoords"
           }
          ],
          "pie": [
           {
            "automargin": true,
            "type": "pie"
           }
          ],
          "scatter": [
           {
            "fillpattern": {
             "fillmode": "overlay",
             "size": 10,
             "solidity": 0.2
            },
            "type": "scatter"
           }
          ],
          "scatter3d": [
           {
            "line": {
             "colorbar": {
              "outlinewidth": 0,
              "ticks": ""
             }
            },
            "marker": {
             "colorbar": {
              "outlinewidth": 0,
              "ticks": ""
             }
            },
            "type": "scatter3d"
           }
          ],
          "scattercarpet": [
           {
            "marker": {
             "colorbar": {
              "outlinewidth": 0,
              "ticks": ""
             }
            },
            "type": "scattercarpet"
           }
          ],
          "scattergeo": [
           {
            "marker": {
             "colorbar": {
              "outlinewidth": 0,
              "ticks": ""
             }
            },
            "type": "scattergeo"
           }
          ],
          "scattergl": [
           {
            "marker": {
             "colorbar": {
              "outlinewidth": 0,
              "ticks": ""
             }
            },
            "type": "scattergl"
           }
          ],
          "scattermapbox": [
           {
            "marker": {
             "colorbar": {
              "outlinewidth": 0,
              "ticks": ""
             }
            },
            "type": "scattermapbox"
           }
          ],
          "scatterpolar": [
           {
            "marker": {
             "colorbar": {
              "outlinewidth": 0,
              "ticks": ""
             }
            },
            "type": "scatterpolar"
           }
          ],
          "scatterpolargl": [
           {
            "marker": {
             "colorbar": {
              "outlinewidth": 0,
              "ticks": ""
             }
            },
            "type": "scatterpolargl"
           }
          ],
          "scatterternary": [
           {
            "marker": {
             "colorbar": {
              "outlinewidth": 0,
              "ticks": ""
             }
            },
            "type": "scatterternary"
           }
          ],
          "surface": [
           {
            "colorbar": {
             "outlinewidth": 0,
             "ticks": ""
            },
            "colorscale": [
             [
              0,
              "#0d0887"
             ],
             [
              0.1111111111111111,
              "#46039f"
             ],
             [
              0.2222222222222222,
              "#7201a8"
             ],
             [
              0.3333333333333333,
              "#9c179e"
             ],
             [
              0.4444444444444444,
              "#bd3786"
             ],
             [
              0.5555555555555556,
              "#d8576b"
             ],
             [
              0.6666666666666666,
              "#ed7953"
             ],
             [
              0.7777777777777778,
              "#fb9f3a"
             ],
             [
              0.8888888888888888,
              "#fdca26"
             ],
             [
              1,
              "#f0f921"
             ]
            ],
            "type": "surface"
           }
          ],
          "table": [
           {
            "cells": {
             "fill": {
              "color": "#EBF0F8"
             },
             "line": {
              "color": "white"
             }
            },
            "header": {
             "fill": {
              "color": "#C8D4E3"
             },
             "line": {
              "color": "white"
             }
            },
            "type": "table"
           }
          ]
         },
         "layout": {
          "annotationdefaults": {
           "arrowcolor": "#2a3f5f",
           "arrowhead": 0,
           "arrowwidth": 1
          },
          "autotypenumbers": "strict",
          "coloraxis": {
           "colorbar": {
            "outlinewidth": 0,
            "ticks": ""
           }
          },
          "colorscale": {
           "diverging": [
            [
             0,
             "#8e0152"
            ],
            [
             0.1,
             "#c51b7d"
            ],
            [
             0.2,
             "#de77ae"
            ],
            [
             0.3,
             "#f1b6da"
            ],
            [
             0.4,
             "#fde0ef"
            ],
            [
             0.5,
             "#f7f7f7"
            ],
            [
             0.6,
             "#e6f5d0"
            ],
            [
             0.7,
             "#b8e186"
            ],
            [
             0.8,
             "#7fbc41"
            ],
            [
             0.9,
             "#4d9221"
            ],
            [
             1,
             "#276419"
            ]
           ],
           "sequential": [
            [
             0,
             "#0d0887"
            ],
            [
             0.1111111111111111,
             "#46039f"
            ],
            [
             0.2222222222222222,
             "#7201a8"
            ],
            [
             0.3333333333333333,
             "#9c179e"
            ],
            [
             0.4444444444444444,
             "#bd3786"
            ],
            [
             0.5555555555555556,
             "#d8576b"
            ],
            [
             0.6666666666666666,
             "#ed7953"
            ],
            [
             0.7777777777777778,
             "#fb9f3a"
            ],
            [
             0.8888888888888888,
             "#fdca26"
            ],
            [
             1,
             "#f0f921"
            ]
           ],
           "sequentialminus": [
            [
             0,
             "#0d0887"
            ],
            [
             0.1111111111111111,
             "#46039f"
            ],
            [
             0.2222222222222222,
             "#7201a8"
            ],
            [
             0.3333333333333333,
             "#9c179e"
            ],
            [
             0.4444444444444444,
             "#bd3786"
            ],
            [
             0.5555555555555556,
             "#d8576b"
            ],
            [
             0.6666666666666666,
             "#ed7953"
            ],
            [
             0.7777777777777778,
             "#fb9f3a"
            ],
            [
             0.8888888888888888,
             "#fdca26"
            ],
            [
             1,
             "#f0f921"
            ]
           ]
          },
          "colorway": [
           "#636efa",
           "#EF553B",
           "#00cc96",
           "#ab63fa",
           "#FFA15A",
           "#19d3f3",
           "#FF6692",
           "#B6E880",
           "#FF97FF",
           "#FECB52"
          ],
          "font": {
           "color": "#2a3f5f"
          },
          "geo": {
           "bgcolor": "white",
           "lakecolor": "white",
           "landcolor": "#E5ECF6",
           "showlakes": true,
           "showland": true,
           "subunitcolor": "white"
          },
          "hoverlabel": {
           "align": "left"
          },
          "hovermode": "closest",
          "mapbox": {
           "style": "light"
          },
          "paper_bgcolor": "white",
          "plot_bgcolor": "#E5ECF6",
          "polar": {
           "angularaxis": {
            "gridcolor": "white",
            "linecolor": "white",
            "ticks": ""
           },
           "bgcolor": "#E5ECF6",
           "radialaxis": {
            "gridcolor": "white",
            "linecolor": "white",
            "ticks": ""
           }
          },
          "scene": {
           "xaxis": {
            "backgroundcolor": "#E5ECF6",
            "gridcolor": "white",
            "gridwidth": 2,
            "linecolor": "white",
            "showbackground": true,
            "ticks": "",
            "zerolinecolor": "white"
           },
           "yaxis": {
            "backgroundcolor": "#E5ECF6",
            "gridcolor": "white",
            "gridwidth": 2,
            "linecolor": "white",
            "showbackground": true,
            "ticks": "",
            "zerolinecolor": "white"
           },
           "zaxis": {
            "backgroundcolor": "#E5ECF6",
            "gridcolor": "white",
            "gridwidth": 2,
            "linecolor": "white",
            "showbackground": true,
            "ticks": "",
            "zerolinecolor": "white"
           }
          },
          "shapedefaults": {
           "line": {
            "color": "#2a3f5f"
           }
          },
          "ternary": {
           "aaxis": {
            "gridcolor": "white",
            "linecolor": "white",
            "ticks": ""
           },
           "baxis": {
            "gridcolor": "white",
            "linecolor": "white",
            "ticks": ""
           },
           "bgcolor": "#E5ECF6",
           "caxis": {
            "gridcolor": "white",
            "linecolor": "white",
            "ticks": ""
           }
          },
          "title": {
           "x": 0.05
          },
          "xaxis": {
           "automargin": true,
           "gridcolor": "white",
           "linecolor": "white",
           "ticks": "",
           "title": {
            "standoff": 15
           },
           "zerolinecolor": "white",
           "zerolinewidth": 2
          },
          "yaxis": {
           "automargin": true,
           "gridcolor": "white",
           "linecolor": "white",
           "ticks": "",
           "title": {
            "standoff": 15
           },
           "zerolinecolor": "white",
           "zerolinewidth": 2
          }
         }
        },
        "updatemenus": [
         {
          "buttons": [
           {
            "args": [
             {
              "visible": [
               true,
               true
              ]
             }
            ],
            "label": "Both",
            "method": "restyle"
           },
           {
            "args": [
             {
              "visible": [
               true,
               false
              ]
             }
            ],
            "label": "Found",
            "method": "restyle"
           },
           {
            "args": [
             {
              "visible": [
               false,
               true
              ]
             }
            ],
            "label": "Fell",
            "method": "restyle"
           }
          ],
          "direction": "left",
          "type": "buttons"
         }
        ]
       }
      }
     },
     "metadata": {},
     "output_type": "display_data"
    }
   ],
   "source": [
    "show_fell_button = {\n",
    "    'args': [{'visible': [False, True]}],\n",
    "    'label': 'Fell',\n",
    "    'method': 'restyle'\n",
    "    }\n",
    "\n",
    "show_found_button = {\n",
    "    'args': [{'visible': [True, False]}],\n",
    "    'label': 'Found',\n",
    "    'method': 'restyle'\n",
    "    }\n",
    "\n",
    "show_both_button = {\n",
    "    'args': [{'visible': [True, True]}],\n",
    "    'label': 'Both',\n",
    "    'method': 'restyle'\n",
    "    }\n",
    "\n",
    "fig1 = go.Figure()\n",
    "\n",
    "fig1.add_traces([go.Box(y = ms[ms['fall'] == 'Found']['mass (g)'], visible= True, marker={'color': 'red'}, name = 'Found')])\n",
    "fig1.add_traces([go.Box(y = ms[ms['fall'] == 'Fell']['mass (g)'], visible= True, marker={'color': 'blue'}, name = \"Fell\")])\n",
    "\n",
    "# fig1.update_figure()\n",
    "\n",
    "# If change from type button to dropdown, update the direction to down\n",
    "fig1.update_layout(updatemenus = [{'type': 'buttons', 'direction': 'left', 'buttons': [show_both_button, show_found_button, show_fell_button]}])\n",
    "\n",
    "fig1.show()"
   ]
  },
  {
   "cell_type": "code",
   "execution_count": 87,
   "metadata": {},
   "outputs": [
    {
     "data": {
      "text/plain": [
       "{'data': [{'marker': {'color': 'red'},\n",
       "   'visible': True,\n",
       "   'y': array([1.7300e+02, 6.3000e+01, 1.0913e+01, 2.7300e+01, 2.0900e+01,\n",
       "          2.0480e+03, 1.5010e+02, 1.3160e+01, 8.7490e+01, 3.0300e+00,\n",
       "          3.1030e+01, 1.2000e+00, 9.2170e+00, 1.0000e+03, 2.4000e+00,\n",
       "          5.0000e-01, 1.6400e+01, 4.5210e+01, 1.4000e+00, 2.5500e+00,\n",
       "          3.3800e+01, 1.1000e+00, 8.1000e+00, 5.2400e+01, 1.9720e+02,\n",
       "          1.0140e+02, 4.4000e+00, 1.2976e+01, 5.7900e+02, 6.9900e+01,\n",
       "          9.4900e+00, 1.0279e+02, 1.5800e+00, 4.5000e-01, 3.8790e+03,\n",
       "          3.2600e+00, 3.4900e+00, 5.4000e-01, 1.7540e+01, 4.6000e+00,\n",
       "          6.1300e+02, 4.8200e+01, 8.6000e+00, 2.4200e+01, 7.4000e-01,\n",
       "          8.3000e+00, 7.5000e+03, 2.6700e+01, 1.3600e+04, 3.4100e+01,\n",
       "          4.5000e+01, 5.6820e+01, 1.5900e+00, 8.4000e+00, 7.3000e+00,\n",
       "          1.7000e+00, 2.0900e+00, 7.4000e+01, 4.9540e+02, 8.9600e+01,\n",
       "          4.2000e+02, 8.4900e+02, 2.0800e+02, 2.2800e+02, 2.9800e+00,\n",
       "          5.3800e+01, 5.5900e+01, 7.3000e+01, 5.3000e+01, 9.0000e-01,\n",
       "          1.2308e+03, 5.8770e+02, 8.7250e+03, 1.7500e+01, 1.1286e+02,\n",
       "          8.9000e+00, 7.7960e+02, 3.8000e+00, 1.8800e+02, 3.7100e+01,\n",
       "          8.6100e+01, 6.8400e+01, 3.5400e+00, 2.4400e+02, 9.9700e+00,\n",
       "          1.2310e+01, 1.8700e+01, 7.8800e+01, 1.8200e+01, 4.1000e+03,\n",
       "          8.1500e+02, 1.0950e+03, 2.5400e+02, 9.2000e+00, 3.1900e+01,\n",
       "          1.4800e+00, 1.6580e+02, 4.0600e+02, 3.5800e+01, 8.6630e+01,\n",
       "          1.5631e+03, 1.8540e+02, 1.2710e+02, 5.1000e-01, 1.5500e+01,\n",
       "          8.5000e+01, 3.0800e+02, 3.5000e+00, 1.0175e+04, 1.1100e+01,\n",
       "          5.9000e+00, 3.1900e+00, 5.6000e-01, 1.1090e+01, 1.1900e+01,\n",
       "          2.9420e+01, 2.7800e+01, 9.2700e+01, 7.8360e+01, 1.1100e+02,\n",
       "          6.2400e+01, 4.7000e+00, 1.4400e+02, 2.3700e+01, 2.1500e+02,\n",
       "          4.9300e+00, 5.0000e+02, 1.1490e+03, 4.1000e+00, 2.4000e+00,\n",
       "          3.4300e+01, 9.8000e+00, 5.8000e+02, 2.3000e+01, 4.6000e-01,\n",
       "          1.4633e+01, 3.4000e+00, 5.4000e+01, 2.9226e+02, 1.3000e+00,\n",
       "          3.7800e+01, 3.8990e+01, 5.8600e+01, 1.2700e+01, 4.2200e+00,\n",
       "          2.5600e+01, 4.5400e+01, 4.9000e+00, 3.9700e+01, 1.4200e+01,\n",
       "          3.3600e+02, 7.2400e+01, 1.3030e+02, 3.9290e+02, 1.0060e+03,\n",
       "          8.1400e+00, 1.0860e+01, 1.2000e+04, 6.3000e+00, 4.2600e+02,\n",
       "          4.8100e+01, 2.5900e+02, 1.0360e+01, 6.1750e+03, 1.3300e+00,\n",
       "          4.3700e+00, 1.8750e+02, 2.7000e+04, 5.0000e+04, 2.0000e+01,\n",
       "          9.5000e+00, 1.8060e+03, 1.4430e+03, 1.2200e+00, 1.6240e+03,\n",
       "          1.4030e+01, 4.5000e+04, 5.8600e+00, 8.7700e+01, 2.7000e+03,\n",
       "          2.0500e+01, 8.0480e+01, 6.4500e+00, 6.2400e+02, 1.0900e+01,\n",
       "          1.5780e+02, 1.7880e+03, 2.5000e+00, 1.7989e+03, 1.5200e+02,\n",
       "          7.1000e+04, 1.7000e+02, 9.1300e+00, 5.0000e+00, 4.2000e+00]),\n",
       "   'type': 'box'},\n",
       "  {'marker': {'color': 'blue'},\n",
       "   'visible': True,\n",
       "   'y': array([ 5100., 16300.,  8300.,  2250.,    30.]),\n",
       "   'type': 'box'}],\n",
       " 'layout': {'template': {'data': {'histogram2dcontour': [{'type': 'histogram2dcontour',\n",
       "      'colorbar': {'outlinewidth': 0, 'ticks': ''},\n",
       "      'colorscale': [[0.0, '#0d0887'],\n",
       "       [0.1111111111111111, '#46039f'],\n",
       "       [0.2222222222222222, '#7201a8'],\n",
       "       [0.3333333333333333, '#9c179e'],\n",
       "       [0.4444444444444444, '#bd3786'],\n",
       "       [0.5555555555555556, '#d8576b'],\n",
       "       [0.6666666666666666, '#ed7953'],\n",
       "       [0.7777777777777778, '#fb9f3a'],\n",
       "       [0.8888888888888888, '#fdca26'],\n",
       "       [1.0, '#f0f921']]}],\n",
       "    'choropleth': [{'type': 'choropleth',\n",
       "      'colorbar': {'outlinewidth': 0, 'ticks': ''}}],\n",
       "    'histogram2d': [{'type': 'histogram2d',\n",
       "      'colorbar': {'outlinewidth': 0, 'ticks': ''},\n",
       "      'colorscale': [[0.0, '#0d0887'],\n",
       "       [0.1111111111111111, '#46039f'],\n",
       "       [0.2222222222222222, '#7201a8'],\n",
       "       [0.3333333333333333, '#9c179e'],\n",
       "       [0.4444444444444444, '#bd3786'],\n",
       "       [0.5555555555555556, '#d8576b'],\n",
       "       [0.6666666666666666, '#ed7953'],\n",
       "       [0.7777777777777778, '#fb9f3a'],\n",
       "       [0.8888888888888888, '#fdca26'],\n",
       "       [1.0, '#f0f921']]}],\n",
       "    'heatmap': [{'type': 'heatmap',\n",
       "      'colorbar': {'outlinewidth': 0, 'ticks': ''},\n",
       "      'colorscale': [[0.0, '#0d0887'],\n",
       "       [0.1111111111111111, '#46039f'],\n",
       "       [0.2222222222222222, '#7201a8'],\n",
       "       [0.3333333333333333, '#9c179e'],\n",
       "       [0.4444444444444444, '#bd3786'],\n",
       "       [0.5555555555555556, '#d8576b'],\n",
       "       [0.6666666666666666, '#ed7953'],\n",
       "       [0.7777777777777778, '#fb9f3a'],\n",
       "       [0.8888888888888888, '#fdca26'],\n",
       "       [1.0, '#f0f921']]}],\n",
       "    'heatmapgl': [{'type': 'heatmapgl',\n",
       "      'colorbar': {'outlinewidth': 0, 'ticks': ''},\n",
       "      'colorscale': [[0.0, '#0d0887'],\n",
       "       [0.1111111111111111, '#46039f'],\n",
       "       [0.2222222222222222, '#7201a8'],\n",
       "       [0.3333333333333333, '#9c179e'],\n",
       "       [0.4444444444444444, '#bd3786'],\n",
       "       [0.5555555555555556, '#d8576b'],\n",
       "       [0.6666666666666666, '#ed7953'],\n",
       "       [0.7777777777777778, '#fb9f3a'],\n",
       "       [0.8888888888888888, '#fdca26'],\n",
       "       [1.0, '#f0f921']]}],\n",
       "    'contourcarpet': [{'type': 'contourcarpet',\n",
       "      'colorbar': {'outlinewidth': 0, 'ticks': ''}}],\n",
       "    'contour': [{'type': 'contour',\n",
       "      'colorbar': {'outlinewidth': 0, 'ticks': ''},\n",
       "      'colorscale': [[0.0, '#0d0887'],\n",
       "       [0.1111111111111111, '#46039f'],\n",
       "       [0.2222222222222222, '#7201a8'],\n",
       "       [0.3333333333333333, '#9c179e'],\n",
       "       [0.4444444444444444, '#bd3786'],\n",
       "       [0.5555555555555556, '#d8576b'],\n",
       "       [0.6666666666666666, '#ed7953'],\n",
       "       [0.7777777777777778, '#fb9f3a'],\n",
       "       [0.8888888888888888, '#fdca26'],\n",
       "       [1.0, '#f0f921']]}],\n",
       "    'surface': [{'type': 'surface',\n",
       "      'colorbar': {'outlinewidth': 0, 'ticks': ''},\n",
       "      'colorscale': [[0.0, '#0d0887'],\n",
       "       [0.1111111111111111, '#46039f'],\n",
       "       [0.2222222222222222, '#7201a8'],\n",
       "       [0.3333333333333333, '#9c179e'],\n",
       "       [0.4444444444444444, '#bd3786'],\n",
       "       [0.5555555555555556, '#d8576b'],\n",
       "       [0.6666666666666666, '#ed7953'],\n",
       "       [0.7777777777777778, '#fb9f3a'],\n",
       "       [0.8888888888888888, '#fdca26'],\n",
       "       [1.0, '#f0f921']]}],\n",
       "    'mesh3d': [{'type': 'mesh3d',\n",
       "      'colorbar': {'outlinewidth': 0, 'ticks': ''}}],\n",
       "    'scatter': [{'fillpattern': {'fillmode': 'overlay',\n",
       "       'size': 10,\n",
       "       'solidity': 0.2},\n",
       "      'type': 'scatter'}],\n",
       "    'parcoords': [{'type': 'parcoords',\n",
       "      'line': {'colorbar': {'outlinewidth': 0, 'ticks': ''}}}],\n",
       "    'scatterpolargl': [{'type': 'scatterpolargl',\n",
       "      'marker': {'colorbar': {'outlinewidth': 0, 'ticks': ''}}}],\n",
       "    'bar': [{'error_x': {'color': '#2a3f5f'},\n",
       "      'error_y': {'color': '#2a3f5f'},\n",
       "      'marker': {'line': {'color': '#E5ECF6', 'width': 0.5},\n",
       "       'pattern': {'fillmode': 'overlay', 'size': 10, 'solidity': 0.2}},\n",
       "      'type': 'bar'}],\n",
       "    'scattergeo': [{'type': 'scattergeo',\n",
       "      'marker': {'colorbar': {'outlinewidth': 0, 'ticks': ''}}}],\n",
       "    'scatterpolar': [{'type': 'scatterpolar',\n",
       "      'marker': {'colorbar': {'outlinewidth': 0, 'ticks': ''}}}],\n",
       "    'histogram': [{'marker': {'pattern': {'fillmode': 'overlay',\n",
       "        'size': 10,\n",
       "        'solidity': 0.2}},\n",
       "      'type': 'histogram'}],\n",
       "    'scattergl': [{'type': 'scattergl',\n",
       "      'marker': {'colorbar': {'outlinewidth': 0, 'ticks': ''}}}],\n",
       "    'scatter3d': [{'type': 'scatter3d',\n",
       "      'line': {'colorbar': {'outlinewidth': 0, 'ticks': ''}},\n",
       "      'marker': {'colorbar': {'outlinewidth': 0, 'ticks': ''}}}],\n",
       "    'scattermapbox': [{'type': 'scattermapbox',\n",
       "      'marker': {'colorbar': {'outlinewidth': 0, 'ticks': ''}}}],\n",
       "    'scatterternary': [{'type': 'scatterternary',\n",
       "      'marker': {'colorbar': {'outlinewidth': 0, 'ticks': ''}}}],\n",
       "    'scattercarpet': [{'type': 'scattercarpet',\n",
       "      'marker': {'colorbar': {'outlinewidth': 0, 'ticks': ''}}}],\n",
       "    'carpet': [{'aaxis': {'endlinecolor': '#2a3f5f',\n",
       "       'gridcolor': 'white',\n",
       "       'linecolor': 'white',\n",
       "       'minorgridcolor': 'white',\n",
       "       'startlinecolor': '#2a3f5f'},\n",
       "      'baxis': {'endlinecolor': '#2a3f5f',\n",
       "       'gridcolor': 'white',\n",
       "       'linecolor': 'white',\n",
       "       'minorgridcolor': 'white',\n",
       "       'startlinecolor': '#2a3f5f'},\n",
       "      'type': 'carpet'}],\n",
       "    'table': [{'cells': {'fill': {'color': '#EBF0F8'},\n",
       "       'line': {'color': 'white'}},\n",
       "      'header': {'fill': {'color': '#C8D4E3'}, 'line': {'color': 'white'}},\n",
       "      'type': 'table'}],\n",
       "    'barpolar': [{'marker': {'line': {'color': '#E5ECF6', 'width': 0.5},\n",
       "       'pattern': {'fillmode': 'overlay', 'size': 10, 'solidity': 0.2}},\n",
       "      'type': 'barpolar'}],\n",
       "    'pie': [{'automargin': True, 'type': 'pie'}]},\n",
       "   'layout': {'autotypenumbers': 'strict',\n",
       "    'colorway': ['#636efa',\n",
       "     '#EF553B',\n",
       "     '#00cc96',\n",
       "     '#ab63fa',\n",
       "     '#FFA15A',\n",
       "     '#19d3f3',\n",
       "     '#FF6692',\n",
       "     '#B6E880',\n",
       "     '#FF97FF',\n",
       "     '#FECB52'],\n",
       "    'font': {'color': '#2a3f5f'},\n",
       "    'hovermode': 'closest',\n",
       "    'hoverlabel': {'align': 'left'},\n",
       "    'paper_bgcolor': 'white',\n",
       "    'plot_bgcolor': '#E5ECF6',\n",
       "    'polar': {'bgcolor': '#E5ECF6',\n",
       "     'angularaxis': {'gridcolor': 'white', 'linecolor': 'white', 'ticks': ''},\n",
       "     'radialaxis': {'gridcolor': 'white', 'linecolor': 'white', 'ticks': ''}},\n",
       "    'ternary': {'bgcolor': '#E5ECF6',\n",
       "     'aaxis': {'gridcolor': 'white', 'linecolor': 'white', 'ticks': ''},\n",
       "     'baxis': {'gridcolor': 'white', 'linecolor': 'white', 'ticks': ''},\n",
       "     'caxis': {'gridcolor': 'white', 'linecolor': 'white', 'ticks': ''}},\n",
       "    'coloraxis': {'colorbar': {'outlinewidth': 0, 'ticks': ''}},\n",
       "    'colorscale': {'sequential': [[0.0, '#0d0887'],\n",
       "      [0.1111111111111111, '#46039f'],\n",
       "      [0.2222222222222222, '#7201a8'],\n",
       "      [0.3333333333333333, '#9c179e'],\n",
       "      [0.4444444444444444, '#bd3786'],\n",
       "      [0.5555555555555556, '#d8576b'],\n",
       "      [0.6666666666666666, '#ed7953'],\n",
       "      [0.7777777777777778, '#fb9f3a'],\n",
       "      [0.8888888888888888, '#fdca26'],\n",
       "      [1.0, '#f0f921']],\n",
       "     'sequentialminus': [[0.0, '#0d0887'],\n",
       "      [0.1111111111111111, '#46039f'],\n",
       "      [0.2222222222222222, '#7201a8'],\n",
       "      [0.3333333333333333, '#9c179e'],\n",
       "      [0.4444444444444444, '#bd3786'],\n",
       "      [0.5555555555555556, '#d8576b'],\n",
       "      [0.6666666666666666, '#ed7953'],\n",
       "      [0.7777777777777778, '#fb9f3a'],\n",
       "      [0.8888888888888888, '#fdca26'],\n",
       "      [1.0, '#f0f921']],\n",
       "     'diverging': [[0, '#8e0152'],\n",
       "      [0.1, '#c51b7d'],\n",
       "      [0.2, '#de77ae'],\n",
       "      [0.3, '#f1b6da'],\n",
       "      [0.4, '#fde0ef'],\n",
       "      [0.5, '#f7f7f7'],\n",
       "      [0.6, '#e6f5d0'],\n",
       "      [0.7, '#b8e186'],\n",
       "      [0.8, '#7fbc41'],\n",
       "      [0.9, '#4d9221'],\n",
       "      [1, '#276419']]},\n",
       "    'xaxis': {'gridcolor': 'white',\n",
       "     'linecolor': 'white',\n",
       "     'ticks': '',\n",
       "     'title': {'standoff': 15},\n",
       "     'zerolinecolor': 'white',\n",
       "     'automargin': True,\n",
       "     'zerolinewidth': 2},\n",
       "    'yaxis': {'gridcolor': 'white',\n",
       "     'linecolor': 'white',\n",
       "     'ticks': '',\n",
       "     'title': {'standoff': 15},\n",
       "     'zerolinecolor': 'white',\n",
       "     'automargin': True,\n",
       "     'zerolinewidth': 2},\n",
       "    'scene': {'xaxis': {'backgroundcolor': '#E5ECF6',\n",
       "      'gridcolor': 'white',\n",
       "      'linecolor': 'white',\n",
       "      'showbackground': True,\n",
       "      'ticks': '',\n",
       "      'zerolinecolor': 'white',\n",
       "      'gridwidth': 2},\n",
       "     'yaxis': {'backgroundcolor': '#E5ECF6',\n",
       "      'gridcolor': 'white',\n",
       "      'linecolor': 'white',\n",
       "      'showbackground': True,\n",
       "      'ticks': '',\n",
       "      'zerolinecolor': 'white',\n",
       "      'gridwidth': 2},\n",
       "     'zaxis': {'backgroundcolor': '#E5ECF6',\n",
       "      'gridcolor': 'white',\n",
       "      'linecolor': 'white',\n",
       "      'showbackground': True,\n",
       "      'ticks': '',\n",
       "      'zerolinecolor': 'white',\n",
       "      'gridwidth': 2}},\n",
       "    'shapedefaults': {'line': {'color': '#2a3f5f'}},\n",
       "    'annotationdefaults': {'arrowcolor': '#2a3f5f',\n",
       "     'arrowhead': 0,\n",
       "     'arrowwidth': 1},\n",
       "    'geo': {'bgcolor': 'white',\n",
       "     'landcolor': '#E5ECF6',\n",
       "     'subunitcolor': 'white',\n",
       "     'showland': True,\n",
       "     'showlakes': True,\n",
       "     'lakecolor': 'white'},\n",
       "    'title': {'x': 0.05},\n",
       "    'mapbox': {'style': 'light'}}},\n",
       "  'updatemenus': [{'buttons': [{'args': [{'visible': [True, True]}],\n",
       "      'label': 'Both',\n",
       "      'method': 'restyle'},\n",
       "     {'args': [{'visible': [True, False]}],\n",
       "      'label': 'Found',\n",
       "      'method': 'restyle'},\n",
       "     {'args': [{'visible': [False, True]}],\n",
       "      'label': 'Fell',\n",
       "      'method': 'restyle'}],\n",
       "    'direction': 'left',\n",
       "    'type': 'buttons'}]}}"
      ]
     },
     "execution_count": 87,
     "metadata": {},
     "output_type": "execute_result"
    }
   ],
   "source": [
    "fig1.to_dict()"
   ]
  },
  {
   "cell_type": "code",
   "execution_count": null,
   "metadata": {},
   "outputs": [],
   "source": []
  }
 ],
 "metadata": {
  "kernelspec": {
   "display_name": "indata_sp25",
   "language": "python",
   "name": "python3"
  },
  "language_info": {
   "codemirror_mode": {
    "name": "ipython",
    "version": 3
   },
   "file_extension": ".py",
   "mimetype": "text/x-python",
   "name": "python",
   "nbconvert_exporter": "python",
   "pygments_lexer": "ipython3",
   "version": "3.12.8"
  }
 },
 "nbformat": 4,
 "nbformat_minor": 2
}
