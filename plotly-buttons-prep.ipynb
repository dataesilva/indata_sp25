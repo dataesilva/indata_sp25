{
 "cells": [
  {
   "cell_type": "code",
   "execution_count": 1,
   "metadata": {},
   "outputs": [],
   "source": [
    "import pandas as pd\n",
    "import seaborn as sns\n",
    "import plotly.express as px\n",
    "import plotly.graph_objects as go"
   ]
  },
  {
   "cell_type": "code",
   "execution_count": 2,
   "metadata": {},
   "outputs": [
    {
     "data": {
      "text/html": [
       "<div>\n",
       "<style scoped>\n",
       "    .dataframe tbody tr th:only-of-type {\n",
       "        vertical-align: middle;\n",
       "    }\n",
       "\n",
       "    .dataframe tbody tr th {\n",
       "        vertical-align: top;\n",
       "    }\n",
       "\n",
       "    .dataframe thead th {\n",
       "        text-align: right;\n",
       "    }\n",
       "</style>\n",
       "<table border=\"1\" class=\"dataframe\">\n",
       "  <thead>\n",
       "    <tr style=\"text-align: right;\">\n",
       "      <th></th>\n",
       "      <th>name</th>\n",
       "      <th>id</th>\n",
       "      <th>nametype</th>\n",
       "      <th>recclass</th>\n",
       "      <th>mass (g)</th>\n",
       "      <th>fall</th>\n",
       "      <th>year</th>\n",
       "      <th>reclat</th>\n",
       "      <th>reclong</th>\n",
       "      <th>GeoLocation</th>\n",
       "    </tr>\n",
       "  </thead>\n",
       "  <tbody>\n",
       "    <tr>\n",
       "      <th>0</th>\n",
       "      <td>Northwest Africa 3126</td>\n",
       "      <td>31254</td>\n",
       "      <td>Valid</td>\n",
       "      <td>LL3.7</td>\n",
       "      <td>173.000</td>\n",
       "      <td>Found</td>\n",
       "      <td>2001.0</td>\n",
       "      <td>NaN</td>\n",
       "      <td>NaN</td>\n",
       "      <td>NaN</td>\n",
       "    </tr>\n",
       "    <tr>\n",
       "      <th>1</th>\n",
       "      <td>LaPaz Icefield 04605</td>\n",
       "      <td>45163</td>\n",
       "      <td>Valid</td>\n",
       "      <td>L5</td>\n",
       "      <td>63.000</td>\n",
       "      <td>Found</td>\n",
       "      <td>2004.0</td>\n",
       "      <td>NaN</td>\n",
       "      <td>NaN</td>\n",
       "      <td>NaN</td>\n",
       "    </tr>\n",
       "    <tr>\n",
       "      <th>2</th>\n",
       "      <td>Yamato 980593</td>\n",
       "      <td>37216</td>\n",
       "      <td>Valid</td>\n",
       "      <td>L3</td>\n",
       "      <td>10.913</td>\n",
       "      <td>Found</td>\n",
       "      <td>1998.0</td>\n",
       "      <td>NaN</td>\n",
       "      <td>NaN</td>\n",
       "      <td>NaN</td>\n",
       "    </tr>\n",
       "    <tr>\n",
       "      <th>3</th>\n",
       "      <td>Queen Alexandra Range 97279</td>\n",
       "      <td>20737</td>\n",
       "      <td>Valid</td>\n",
       "      <td>LL5</td>\n",
       "      <td>27.300</td>\n",
       "      <td>Found</td>\n",
       "      <td>1997.0</td>\n",
       "      <td>-84.00000</td>\n",
       "      <td>168.00000</td>\n",
       "      <td>(-84.0, 168.0)</td>\n",
       "    </tr>\n",
       "    <tr>\n",
       "      <th>4</th>\n",
       "      <td>Elephant Moraine 90798</td>\n",
       "      <td>9207</td>\n",
       "      <td>Valid</td>\n",
       "      <td>L6</td>\n",
       "      <td>20.900</td>\n",
       "      <td>Found</td>\n",
       "      <td>1990.0</td>\n",
       "      <td>-76.28535</td>\n",
       "      <td>156.44404</td>\n",
       "      <td>(-76.28535, 156.44404)</td>\n",
       "    </tr>\n",
       "  </tbody>\n",
       "</table>\n",
       "</div>"
      ],
      "text/plain": [
       "                          name     id nametype recclass  mass (g)   fall  \\\n",
       "0        Northwest Africa 3126  31254    Valid    LL3.7   173.000  Found   \n",
       "1         LaPaz Icefield 04605  45163    Valid       L5    63.000  Found   \n",
       "2                Yamato 980593  37216    Valid       L3    10.913  Found   \n",
       "3  Queen Alexandra Range 97279  20737    Valid      LL5    27.300  Found   \n",
       "4       Elephant Moraine 90798   9207    Valid       L6    20.900  Found   \n",
       "\n",
       "     year    reclat    reclong             GeoLocation  \n",
       "0  2001.0       NaN        NaN                     NaN  \n",
       "1  2004.0       NaN        NaN                     NaN  \n",
       "2  1998.0       NaN        NaN                     NaN  \n",
       "3  1997.0 -84.00000  168.00000          (-84.0, 168.0)  \n",
       "4  1990.0 -76.28535  156.44404  (-76.28535, 156.44404)  "
      ]
     },
     "execution_count": 2,
     "metadata": {},
     "output_type": "execute_result"
    }
   ],
   "source": [
    "ms = pd.read_csv('Meteorite_Landings_Sample.csv')\n",
    "ms.head()"
   ]
  },
  {
   "cell_type": "code",
   "execution_count": 3,
   "metadata": {},
   "outputs": [
    {
     "data": {
      "text/plain": [
       "array(['Found', 'Fell'], dtype=object)"
      ]
     },
     "execution_count": 3,
     "metadata": {},
     "output_type": "execute_result"
    }
   ],
   "source": [
    "ms['fall'].unique()"
   ]
  },
  {
   "cell_type": "code",
   "execution_count": 4,
   "metadata": {},
   "outputs": [
    {
     "data": {
      "text/plain": [
       "Index(['name', 'id', 'nametype', 'recclass', 'mass (g)', 'fall', 'year',\n",
       "       'reclat', 'reclong', 'GeoLocation'],\n",
       "      dtype='object')"
      ]
     },
     "execution_count": 4,
     "metadata": {},
     "output_type": "execute_result"
    }
   ],
   "source": [
    "ms.columns"
   ]
  },
  {
   "cell_type": "code",
   "execution_count": 5,
   "metadata": {},
   "outputs": [
    {
     "data": {
      "text/plain": [
       "dtype('float64')"
      ]
     },
     "execution_count": 5,
     "metadata": {},
     "output_type": "execute_result"
    }
   ],
   "source": [
    "ms['mass (g)'].dtype"
   ]
  },
  {
   "cell_type": "code",
   "execution_count": 6,
   "metadata": {},
   "outputs": [
    {
     "data": {
      "application/vnd.plotly.v1+json": {
       "config": {
        "plotlyServerURL": "https://plot.ly"
       },
       "data": [
        {
         "marker": {
          "color": "red"
         },
         "name": "Found",
         "type": "box",
         "visible": true,
         "y": {
          "bdata": "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",
          "dtype": "f8"
         }
        },
        {
         "marker": {
          "color": "blue"
         },
         "name": "Fell",
         "type": "box",
         "visible": true,
         "y": {
          "bdata": "AAAAAADss0AAAAAAANbPQAAAAAAANsBAAAAAAACUoUAAAAAAAAA+QA==",
          "dtype": "f8"
         }
        }
       ],
       "layout": {
        "template": {
         "data": {
          "bar": [
           {
            "error_x": {
             "color": "#2a3f5f"
            },
            "error_y": {
             "color": "#2a3f5f"
            },
            "marker": {
             "line": {
              "color": "#E5ECF6",
              "width": 0.5
             },
             "pattern": {
              "fillmode": "overlay",
              "size": 10,
              "solidity": 0.2
             }
            },
            "type": "bar"
           }
          ],
          "barpolar": [
           {
            "marker": {
             "line": {
              "color": "#E5ECF6",
              "width": 0.5
             },
             "pattern": {
              "fillmode": "overlay",
              "size": 10,
              "solidity": 0.2
             }
            },
            "type": "barpolar"
           }
          ],
          "carpet": [
           {
            "aaxis": {
             "endlinecolor": "#2a3f5f",
             "gridcolor": "white",
             "linecolor": "white",
             "minorgridcolor": "white",
             "startlinecolor": "#2a3f5f"
            },
            "baxis": {
             "endlinecolor": "#2a3f5f",
             "gridcolor": "white",
             "linecolor": "white",
             "minorgridcolor": "white",
             "startlinecolor": "#2a3f5f"
            },
            "type": "carpet"
           }
          ],
          "choropleth": [
           {
            "colorbar": {
             "outlinewidth": 0,
             "ticks": ""
            },
            "type": "choropleth"
           }
          ],
          "contour": [
           {
            "colorbar": {
             "outlinewidth": 0,
             "ticks": ""
            },
            "colorscale": [
             [
              0,
              "#0d0887"
             ],
             [
              0.1111111111111111,
              "#46039f"
             ],
             [
              0.2222222222222222,
              "#7201a8"
             ],
             [
              0.3333333333333333,
              "#9c179e"
             ],
             [
              0.4444444444444444,
              "#bd3786"
             ],
             [
              0.5555555555555556,
              "#d8576b"
             ],
             [
              0.6666666666666666,
              "#ed7953"
             ],
             [
              0.7777777777777778,
              "#fb9f3a"
             ],
             [
              0.8888888888888888,
              "#fdca26"
             ],
             [
              1,
              "#f0f921"
             ]
            ],
            "type": "contour"
           }
          ],
          "contourcarpet": [
           {
            "colorbar": {
             "outlinewidth": 0,
             "ticks": ""
            },
            "type": "contourcarpet"
           }
          ],
          "heatmap": [
           {
            "colorbar": {
             "outlinewidth": 0,
             "ticks": ""
            },
            "colorscale": [
             [
              0,
              "#0d0887"
             ],
             [
              0.1111111111111111,
              "#46039f"
             ],
             [
              0.2222222222222222,
              "#7201a8"
             ],
             [
              0.3333333333333333,
              "#9c179e"
             ],
             [
              0.4444444444444444,
              "#bd3786"
             ],
             [
              0.5555555555555556,
              "#d8576b"
             ],
             [
              0.6666666666666666,
              "#ed7953"
             ],
             [
              0.7777777777777778,
              "#fb9f3a"
             ],
             [
              0.8888888888888888,
              "#fdca26"
             ],
             [
              1,
              "#f0f921"
             ]
            ],
            "type": "heatmap"
           }
          ],
          "histogram": [
           {
            "marker": {
             "pattern": {
              "fillmode": "overlay",
              "size": 10,
              "solidity": 0.2
             }
            },
            "type": "histogram"
           }
          ],
          "histogram2d": [
           {
            "colorbar": {
             "outlinewidth": 0,
             "ticks": ""
            },
            "colorscale": [
             [
              0,
              "#0d0887"
             ],
             [
              0.1111111111111111,
              "#46039f"
             ],
             [
              0.2222222222222222,
              "#7201a8"
             ],
             [
              0.3333333333333333,
              "#9c179e"
             ],
             [
              0.4444444444444444,
              "#bd3786"
             ],
             [
              0.5555555555555556,
              "#d8576b"
             ],
             [
              0.6666666666666666,
              "#ed7953"
             ],
             [
              0.7777777777777778,
              "#fb9f3a"
             ],
             [
              0.8888888888888888,
              "#fdca26"
             ],
             [
              1,
              "#f0f921"
             ]
            ],
            "type": "histogram2d"
           }
          ],
          "histogram2dcontour": [
           {
            "colorbar": {
             "outlinewidth": 0,
             "ticks": ""
            },
            "colorscale": [
             [
              0,
              "#0d0887"
             ],
             [
              0.1111111111111111,
              "#46039f"
             ],
             [
              0.2222222222222222,
              "#7201a8"
             ],
             [
              0.3333333333333333,
              "#9c179e"
             ],
             [
              0.4444444444444444,
              "#bd3786"
             ],
             [
              0.5555555555555556,
              "#d8576b"
             ],
             [
              0.6666666666666666,
              "#ed7953"
             ],
             [
              0.7777777777777778,
              "#fb9f3a"
             ],
             [
              0.8888888888888888,
              "#fdca26"
             ],
             [
              1,
              "#f0f921"
             ]
            ],
            "type": "histogram2dcontour"
           }
          ],
          "mesh3d": [
           {
            "colorbar": {
             "outlinewidth": 0,
             "ticks": ""
            },
            "type": "mesh3d"
           }
          ],
          "parcoords": [
           {
            "line": {
             "colorbar": {
              "outlinewidth": 0,
              "ticks": ""
             }
            },
            "type": "parcoords"
           }
          ],
          "pie": [
           {
            "automargin": true,
            "type": "pie"
           }
          ],
          "scatter": [
           {
            "fillpattern": {
             "fillmode": "overlay",
             "size": 10,
             "solidity": 0.2
            },
            "type": "scatter"
           }
          ],
          "scatter3d": [
           {
            "line": {
             "colorbar": {
              "outlinewidth": 0,
              "ticks": ""
             }
            },
            "marker": {
             "colorbar": {
              "outlinewidth": 0,
              "ticks": ""
             }
            },
            "type": "scatter3d"
           }
          ],
          "scattercarpet": [
           {
            "marker": {
             "colorbar": {
              "outlinewidth": 0,
              "ticks": ""
             }
            },
            "type": "scattercarpet"
           }
          ],
          "scattergeo": [
           {
            "marker": {
             "colorbar": {
              "outlinewidth": 0,
              "ticks": ""
             }
            },
            "type": "scattergeo"
           }
          ],
          "scattergl": [
           {
            "marker": {
             "colorbar": {
              "outlinewidth": 0,
              "ticks": ""
             }
            },
            "type": "scattergl"
           }
          ],
          "scattermap": [
           {
            "marker": {
             "colorbar": {
              "outlinewidth": 0,
              "ticks": ""
             }
            },
            "type": "scattermap"
           }
          ],
          "scattermapbox": [
           {
            "marker": {
             "colorbar": {
              "outlinewidth": 0,
              "ticks": ""
             }
            },
            "type": "scattermapbox"
           }
          ],
          "scatterpolar": [
           {
            "marker": {
             "colorbar": {
              "outlinewidth": 0,
              "ticks": ""
             }
            },
            "type": "scatterpolar"
           }
          ],
          "scatterpolargl": [
           {
            "marker": {
             "colorbar": {
              "outlinewidth": 0,
              "ticks": ""
             }
            },
            "type": "scatterpolargl"
           }
          ],
          "scatterternary": [
           {
            "marker": {
             "colorbar": {
              "outlinewidth": 0,
              "ticks": ""
             }
            },
            "type": "scatterternary"
           }
          ],
          "surface": [
           {
            "colorbar": {
             "outlinewidth": 0,
             "ticks": ""
            },
            "colorscale": [
             [
              0,
              "#0d0887"
             ],
             [
              0.1111111111111111,
              "#46039f"
             ],
             [
              0.2222222222222222,
              "#7201a8"
             ],
             [
              0.3333333333333333,
              "#9c179e"
             ],
             [
              0.4444444444444444,
              "#bd3786"
             ],
             [
              0.5555555555555556,
              "#d8576b"
             ],
             [
              0.6666666666666666,
              "#ed7953"
             ],
             [
              0.7777777777777778,
              "#fb9f3a"
             ],
             [
              0.8888888888888888,
              "#fdca26"
             ],
             [
              1,
              "#f0f921"
             ]
            ],
            "type": "surface"
           }
          ],
          "table": [
           {
            "cells": {
             "fill": {
              "color": "#EBF0F8"
             },
             "line": {
              "color": "white"
             }
            },
            "header": {
             "fill": {
              "color": "#C8D4E3"
             },
             "line": {
              "color": "white"
             }
            },
            "type": "table"
           }
          ]
         },
         "layout": {
          "annotationdefaults": {
           "arrowcolor": "#2a3f5f",
           "arrowhead": 0,
           "arrowwidth": 1
          },
          "autotypenumbers": "strict",
          "coloraxis": {
           "colorbar": {
            "outlinewidth": 0,
            "ticks": ""
           }
          },
          "colorscale": {
           "diverging": [
            [
             0,
             "#8e0152"
            ],
            [
             0.1,
             "#c51b7d"
            ],
            [
             0.2,
             "#de77ae"
            ],
            [
             0.3,
             "#f1b6da"
            ],
            [
             0.4,
             "#fde0ef"
            ],
            [
             0.5,
             "#f7f7f7"
            ],
            [
             0.6,
             "#e6f5d0"
            ],
            [
             0.7,
             "#b8e186"
            ],
            [
             0.8,
             "#7fbc41"
            ],
            [
             0.9,
             "#4d9221"
            ],
            [
             1,
             "#276419"
            ]
           ],
           "sequential": [
            [
             0,
             "#0d0887"
            ],
            [
             0.1111111111111111,
             "#46039f"
            ],
            [
             0.2222222222222222,
             "#7201a8"
            ],
            [
             0.3333333333333333,
             "#9c179e"
            ],
            [
             0.4444444444444444,
             "#bd3786"
            ],
            [
             0.5555555555555556,
             "#d8576b"
            ],
            [
             0.6666666666666666,
             "#ed7953"
            ],
            [
             0.7777777777777778,
             "#fb9f3a"
            ],
            [
             0.8888888888888888,
             "#fdca26"
            ],
            [
             1,
             "#f0f921"
            ]
           ],
           "sequentialminus": [
            [
             0,
             "#0d0887"
            ],
            [
             0.1111111111111111,
             "#46039f"
            ],
            [
             0.2222222222222222,
             "#7201a8"
            ],
            [
             0.3333333333333333,
             "#9c179e"
            ],
            [
             0.4444444444444444,
             "#bd3786"
            ],
            [
             0.5555555555555556,
             "#d8576b"
            ],
            [
             0.6666666666666666,
             "#ed7953"
            ],
            [
             0.7777777777777778,
             "#fb9f3a"
            ],
            [
             0.8888888888888888,
             "#fdca26"
            ],
            [
             1,
             "#f0f921"
            ]
           ]
          },
          "colorway": [
           "#636efa",
           "#EF553B",
           "#00cc96",
           "#ab63fa",
           "#FFA15A",
           "#19d3f3",
           "#FF6692",
           "#B6E880",
           "#FF97FF",
           "#FECB52"
          ],
          "font": {
           "color": "#2a3f5f"
          },
          "geo": {
           "bgcolor": "white",
           "lakecolor": "white",
           "landcolor": "#E5ECF6",
           "showlakes": true,
           "showland": true,
           "subunitcolor": "white"
          },
          "hoverlabel": {
           "align": "left"
          },
          "hovermode": "closest",
          "mapbox": {
           "style": "light"
          },
          "paper_bgcolor": "white",
          "plot_bgcolor": "#E5ECF6",
          "polar": {
           "angularaxis": {
            "gridcolor": "white",
            "linecolor": "white",
            "ticks": ""
           },
           "bgcolor": "#E5ECF6",
           "radialaxis": {
            "gridcolor": "white",
            "linecolor": "white",
            "ticks": ""
           }
          },
          "scene": {
           "xaxis": {
            "backgroundcolor": "#E5ECF6",
            "gridcolor": "white",
            "gridwidth": 2,
            "linecolor": "white",
            "showbackground": true,
            "ticks": "",
            "zerolinecolor": "white"
           },
           "yaxis": {
            "backgroundcolor": "#E5ECF6",
            "gridcolor": "white",
            "gridwidth": 2,
            "linecolor": "white",
            "showbackground": true,
            "ticks": "",
            "zerolinecolor": "white"
           },
           "zaxis": {
            "backgroundcolor": "#E5ECF6",
            "gridcolor": "white",
            "gridwidth": 2,
            "linecolor": "white",
            "showbackground": true,
            "ticks": "",
            "zerolinecolor": "white"
           }
          },
          "shapedefaults": {
           "line": {
            "color": "#2a3f5f"
           }
          },
          "ternary": {
           "aaxis": {
            "gridcolor": "white",
            "linecolor": "white",
            "ticks": ""
           },
           "baxis": {
            "gridcolor": "white",
            "linecolor": "white",
            "ticks": ""
           },
           "bgcolor": "#E5ECF6",
           "caxis": {
            "gridcolor": "white",
            "linecolor": "white",
            "ticks": ""
           }
          },
          "title": {
           "x": 0.05
          },
          "xaxis": {
           "automargin": true,
           "gridcolor": "white",
           "linecolor": "white",
           "ticks": "",
           "title": {
            "standoff": 15
           },
           "zerolinecolor": "white",
           "zerolinewidth": 2
          },
          "yaxis": {
           "automargin": true,
           "gridcolor": "white",
           "linecolor": "white",
           "ticks": "",
           "title": {
            "standoff": 15
           },
           "zerolinecolor": "white",
           "zerolinewidth": 2
          }
         }
        },
        "updatemenus": [
         {
          "buttons": [
           {
            "args": [
             {
              "visible": [
               true,
               true
              ]
             }
            ],
            "label": "Both",
            "method": "restyle"
           },
           {
            "args": [
             {
              "visible": [
               true,
               false
              ]
             }
            ],
            "label": "Found",
            "method": "restyle"
           },
           {
            "args": [
             {
              "visible": [
               false,
               true
              ]
             }
            ],
            "label": "Fell",
            "method": "restyle"
           }
          ],
          "direction": "left",
          "type": "buttons"
         }
        ]
       }
      }
     },
     "metadata": {},
     "output_type": "display_data"
    }
   ],
   "source": [
    "show_fell_button = {\n",
    "    'args': [{'visible': [False, True]}],\n",
    "    'label': 'Fell',\n",
    "    'method': 'restyle'\n",
    "    }\n",
    "\n",
    "show_found_button = {\n",
    "    'args': [{'visible': [True, False]}],\n",
    "    'label': 'Found',\n",
    "    'method': 'restyle'\n",
    "    }\n",
    "\n",
    "show_both_button = {\n",
    "    'args': [{'visible': [True, True]}],\n",
    "    'label': 'Both',\n",
    "    'method': 'restyle'\n",
    "    }\n",
    "\n",
    "fig1 = go.Figure()\n",
    "\n",
    "fig1.add_traces([go.Box(y = ms[ms['fall'] == 'Found']['mass (g)'], visible= True, marker={'color': 'red'}, name = 'Found')])\n",
    "fig1.add_traces([go.Box(y = ms[ms['fall'] == 'Fell']['mass (g)'], visible= True, marker={'color': 'blue'}, name = \"Fell\")])\n",
    "\n",
    "# fig1.update_figure()\n",
    "\n",
    "# If change from type button to dropdown, update the direction to down\n",
    "fig1.update_layout(updatemenus = [{'type': 'buttons', 'direction': 'left', 'buttons': [show_both_button, show_found_button, show_fell_button]}])\n",
    "\n",
    "fig1.show()"
   ]
  },
  {
   "cell_type": "code",
   "execution_count": 7,
   "metadata": {},
   "outputs": [],
   "source": [
    "# fig1.to_dict()"
   ]
  },
  {
   "cell_type": "code",
   "execution_count": 8,
   "metadata": {},
   "outputs": [
    {
     "data": {
      "text/plain": [
       "array(['LL3.7', 'L5', 'L3', 'LL5', 'L6', 'H4', 'LL3', 'H4/5', 'H6', 'CV3',\n",
       "       'Iron, IIAB', 'LL6', 'L', 'H3.3', 'CK3', 'Ureilite', 'H5',\n",
       "       'H3.7-5', 'Eucrite-pmict', 'CM2', 'L5/6', 'Iron, IID', 'L3.8',\n",
       "       'H4-6', 'LL4', 'OC', 'LL3.4', 'CO3.6', 'Iron?', 'H3-4', 'H3',\n",
       "       'Diogenite', 'L4/5', 'LL', 'Howardite', 'Achondrite-ung', 'Iron',\n",
       "       'CO3', 'H5/6', 'CM2-an', 'CK5', 'Iron, IAB-ung', 'L4', 'Eucrite',\n",
       "       'H3-6', 'Mesosiderite-C', 'LL5/6', 'H4 ', 'H4/6'], dtype=object)"
      ]
     },
     "execution_count": 8,
     "metadata": {},
     "output_type": "execute_result"
    }
   ],
   "source": [
    "ms['recclass'].unique()"
   ]
  },
  {
   "cell_type": "code",
   "execution_count": 9,
   "metadata": {},
   "outputs": [
    {
     "data": {
      "text/plain": [
       "49"
      ]
     },
     "execution_count": 9,
     "metadata": {},
     "output_type": "execute_result"
    }
   ],
   "source": [
    "len(ms['recclass'].unique())"
   ]
  },
  {
   "cell_type": "code",
   "execution_count": 10,
   "metadata": {},
   "outputs": [
    {
     "name": "stdout",
     "output_type": "stream",
     "text": [
      "[True, False, True, True, True]\n"
     ]
    }
   ],
   "source": [
    "my_list = [True, True, True, True]\n",
    "my_list.insert(1, False)\n",
    "print(my_list)"
   ]
  },
  {
   "cell_type": "code",
   "execution_count": 11,
   "metadata": {},
   "outputs": [
    {
     "name": "stdout",
     "output_type": "stream",
     "text": [
      "50\n"
     ]
    },
    {
     "data": {
      "application/vnd.plotly.v1+json": {
       "config": {
        "plotlyServerURL": "https://plot.ly"
       },
       "data": [
        {
         "name": "LL3.7",
         "type": "box",
         "visible": true,
         "y": {
          "bdata": "AAAAAACgZUA=",
          "dtype": "f8"
         }
        },
        {
         "name": "L5",
         "type": "box",
         "visible": true,
         "y": {
          "bdata": "AAAAAACAT0BSuB6F61EqQJqZmZmZmfE/ZmZmZmamaEAUrkfhehQKQGZmZmZmZhJAMzMzMzOzOkBmZmZmZvZ+QGZmZmZmZlZAAAAAAABAekAzMzMzM/NLQAAAAAAAQFJAmpmZmZm5ZEBSuB6F61HgPwAAAAAAQHNAcT0K16Nw3T8fhetRuH5DQJqZmZmZmRNAAAAAAACANEDNzMzMzMwlQAAAAACAVfFA",
          "dtype": "f8"
         }
        },
        {
         "name": "L3",
         "type": "box",
         "visible": true,
         "y": {
          "bdata": "+n5qvHTTJUDD9Shcj7JZQNejcD0KN1xAZmZmZmbmQUA=",
          "dtype": "f8"
         }
        },
        {
         "name": "LL5",
         "type": "box",
         "visible": true,
         "y": {
          "bdata": "zczMzMxMO0BmZmZmZmYwQGZmZmZmZvY/MzMzMzMzSkAK16NwPYoxQAAAAAAAAGpAmpmZmZldgkBmZmZmZmYOQAAAAAAAeIlAZmZmZmbmP0BmZmZmZmyYQM3MzMzMLGdAAAAAAAAAL0BmZmZmZuZCQJqZmZmZmTlAMzMzMzOzRkA=",
          "dtype": "f8"
         }
        },
        {
         "name": "L6",
         "type": "box",
         "visible": true,
         "y": {
          "bdata": "ZmZmZmbmNEAzMzMzM8NiQD0K16NwPQhAZmZmZmZmBEAzMzMzMzMgQEjhehSuR/k/AAAAAADWz0CamZmZmRlIQDMzMzMzMx1AMzMzMzMz+z+4HoXrUbgAQAAAAAAAgFJAZmZmZmbmSkAzMzMzMzuTQAAAAACACsFAAAAAAACAMUBmZmZmZoZVQJqZmZmZGVFAAAAAAACAbkAAAAAAAASwQAAAAAAAwFtAMzMzMzMzT0AAAAAAAABiQDMzMzMzszdAAAAAAADgakAzMzMzMzMDQDMzMzMzMwtAAAAAAAAAS0DhehSuR+EQQJqZmZmZ2UNAAAAAAAAAdUCamZmZmRlSQJqZmZmZSWBAzczMzMwMSEBI4XoUrkf1P3sUrkfhehFAAAAAAABq6EBxPQrXo3AXQB+F61G4HlRAmpmZmZm5Y0AAAAAAAABjQAAAAAAAABRA",
          "dtype": "f8"
         }
        },
        {
         "name": "H4",
         "type": "box",
         "visible": true,
         "y": {
          "bdata": "AAAAAAAAoEAzMzMzMzM4QK5H4XoUruc/KVyPwvVoTEBxPQrXo3D5PwAAAAAAgGxAzczMzMyMQkBSuB6F61EMQDMzMzMzMzJArkfhehSu9z+4HoXrUahVQGZmZmZmxl9ArkfhehQuJkC4HoXrUbgTQGZmZmZmZhBAarx0kxhELUC4HoXrUbglQAAAAAAAcGdAhetRuB6F8z8AAAAAAPnlQAAAAAAAgINA",
          "dtype": "f8"
         }
        },
        {
         "name": "LL3",
         "type": "box",
         "visible": true,
         "y": {
          "bdata": "j8L1KFzfVUA=",
          "dtype": "f8"
         }
        },
        {
         "name": "H4/5",
         "type": "box",
         "visible": true,
         "y": {
          "bdata": "SOF6FK4HP0DXo3A9CtcHQNejcD0Kl1NA",
          "dtype": "f8"
         }
        },
        {
         "name": "H6",
         "type": "box",
         "visible": true,
         "y": {
          "bdata": "MzMzMzMz8z8zMzMzMzMDQJqZmZmZWVlAmpmZmZmZEUDByqFFtvMpQHsUrkfh+iJAzczMzMzMIEAzMzMzM7NTQGZmZmZmZiJAAAAAAAAADEDNzMzMzMz0PwAAAAAAACNAzczMzMzsVUAAAAAAAAAEQA==",
          "dtype": "f8"
         }
        },
        {
         "name": "CV3",
         "type": "box",
         "visible": true,
         "y": {
          "bdata": "yXa+nxpvIkA=",
          "dtype": "f8"
         }
        },
        {
         "name": "Iron, IIAB",
         "type": "box",
         "visible": true,
         "y": {
          "bdata": "AAAAAABAj0A=",
          "dtype": "f8"
         }
        },
        {
         "name": "LL6",
         "type": "box",
         "visible": true,
         "y": {
          "bdata": "AAAAAAAA4D+amZmZmZkgQAAAAAAANsBAzczMzMwsV0BmZmZmZiZBQM3MzMzMzBBA",
          "dtype": "f8"
         }
        },
        {
         "name": "L",
         "type": "box",
         "visible": true,
         "y": {
          "bdata": "exSuR+GaRkA=",
          "dtype": "f8"
         }
        },
        {
         "name": "H3.3",
         "type": "box",
         "visible": true,
         "y": {
          "bdata": "ZmZmZmbmQEA=",
          "dtype": "f8"
         }
        },
        {
         "name": "CK3",
         "type": "box",
         "visible": true,
         "y": {
          "bdata": "AAAAAAAYgkA=",
          "dtype": "f8"
         }
        },
        {
         "name": "Ureilite",
         "type": "box",
         "visible": true,
         "y": {
          "bdata": "mpmZmZl5UUAAAAAAAAA3QAAAAAAAADRA",
          "dtype": "f8"
         }
        },
        {
         "name": "H5",
         "type": "box",
         "visible": true,
         "y": {
          "bdata": "zczMzMzM3D/sUbgehesLQEjhehSuR+E/AAAAAAAog0DNzMzMzMzsPwAAAAAAgGdAcT0K16PwI0AzMzMzM7MyQAAAAAAAQFVAMzMzMzMzJkCamZmZmZkXQOxRuB6F6+E/zczMzMzMJ0DNzMzMzMw7QM3MzMzMTE1AZmZmZmaOeEBI4XoUrkcgQDMzMzMzMxlAuB6F61G4JEAAAAAAAIyWQAAAAAAAGKVAAAAAAABAZUDD9Shcj0IiQA==",
          "dtype": "f8"
         }
        },
        {
         "name": "H3.7-5",
         "type": "box",
         "visible": true,
         "y": {
          "bdata": "AAAAAABOrkA=",
          "dtype": "f8"
         }
        },
        {
         "name": "Eucrite-pmict",
         "type": "box",
         "visible": true,
         "y": {
          "bdata": "AAAAAADss0DsUbgehWs9QA==",
          "dtype": "f8"
         }
        },
        {
         "name": "CM2",
         "type": "box",
         "visible": true,
         "y": {
          "bdata": "MzMzMzMzIUA=",
          "dtype": "f8"
         }
        },
        {
         "name": "L5/6",
         "type": "box",
         "visible": true,
         "y": {
          "bdata": "AAAAAABMvUAAAAAAAB+4QAAAAAAA8JtA",
          "dtype": "f8"
         }
        },
        {
         "name": "Iron, IID",
         "type": "box",
         "visible": true,
         "y": {
          "bdata": "AAAAAACQykA=",
          "dtype": "f8"
         }
        },
        {
         "name": "L3.8",
         "type": "box",
         "visible": true,
         "y": {
          "bdata": "zczMzMwMQUA=",
          "dtype": "f8"
         }
        },
        {
         "name": "H4-6",
         "type": "box",
         "visible": true,
         "y": {
          "bdata": "AAAAAACARkA=",
          "dtype": "f8"
         }
        },
        {
         "name": "LL4",
         "type": "box",
         "visible": true,
         "y": {
          "bdata": "AAAAAACIikBcj8L1KERyQA==",
          "dtype": "f8"
         }
        },
        {
         "name": "OC",
         "type": "box",
         "visible": true,
         "y": {
          "bdata": "AAAAAACASkA=",
          "dtype": "f8"
         }
        },
        {
         "name": "LL3.4",
         "type": "box",
         "visible": true,
         "y": {
          "bdata": "zczMzMzMIUA=",
          "dtype": "f8"
         }
        },
        {
         "name": "CO3.6",
         "type": "box",
         "visible": true,
         "y": {
          "bdata": "zczMzMxciEA=",
          "dtype": "f8"
         }
        },
        {
         "name": "Iron?",
         "type": "box",
         "visible": true,
         "y": {
          "bdata": "AAAAAACUoUA=",
          "dtype": "f8"
         }
        },
        {
         "name": "H3-4",
         "type": "box",
         "visible": true,
         "y": {
          "bdata": "H4XrUbieKEA=",
          "dtype": "f8"
         }
        },
        {
         "name": "H3",
         "type": "box",
         "visible": true,
         "y": {
          "bdata": "AAAAAAAckUAAAAAAgN/DQA==",
          "dtype": "f8"
         }
        },
        {
         "name": "Diogenite",
         "type": "box",
         "visible": true,
         "y": {
          "bdata": "AAAAAADAb0CamZmZmZkjQA==",
          "dtype": "f8"
         }
        },
        {
         "name": "L4/5",
         "type": "box",
         "visible": true,
         "y": {
          "bdata": "AAAAAABgeUA=",
          "dtype": "f8"
         }
        },
        {
         "name": "LL",
         "type": "box",
         "visible": true,
         "y": {
          "bdata": "hetRuB6FCUA=",
          "dtype": "f8"
         }
        },
        {
         "name": "Howardite",
         "type": "box",
         "visible": true,
         "y": {
          "bdata": "AAAAAAAAPkAAAAAAAHCPQA==",
          "dtype": "f8"
         }
        },
        {
         "name": "Achondrite-ung",
         "type": "box",
         "visible": true,
         "y": {
          "bdata": "zczMzMzMEkA=",
          "dtype": "f8"
         }
        },
        {
         "name": "Iron",
         "type": "box",
         "visible": true,
         "y": {
          "bdata": "AAAAAABAf0A=",
          "dtype": "f8"
         }
        },
        {
         "name": "CO3",
         "type": "box",
         "visible": true,
         "y": {
          "bdata": "AAAAAAD0kUA=",
          "dtype": "f8"
         }
        },
        {
         "name": "H5/6",
         "type": "box",
         "visible": true,
         "y": {
          "bdata": "AAAAAAAggkA=",
          "dtype": "f8"
         }
        },
        {
         "name": "CM2-an",
         "type": "box",
         "visible": true,
         "y": {
          "bdata": "ZmZmZmZmKUA=",
          "dtype": "f8"
         }
        },
        {
         "name": "CK5",
         "type": "box",
         "visible": true,
         "y": {
          "bdata": "ZmZmZmZmLEA=",
          "dtype": "f8"
         }
        },
        {
         "name": "Iron, IAB-ung",
         "type": "box",
         "visible": true,
         "y": {
          "bdata": "AAAAAABwx0A=",
          "dtype": "f8"
         }
        },
        {
         "name": "L4",
         "type": "box",
         "visible": true,
         "y": {
          "bdata": "AAAAAACgekAAAAAAAF7aQA==",
          "dtype": "f8"
         }
        },
        {
         "name": "Eucrite",
         "type": "box",
         "visible": true,
         "y": {
          "bdata": "AAAAAAAwcEA=",
          "dtype": "f8"
         }
        },
        {
         "name": "H3-6",
         "type": "box",
         "visible": true,
         "y": {
          "bdata": "AAAAAAA4nEA=",
          "dtype": "f8"
         }
        },
        {
         "name": "Mesosiderite-C",
         "type": "box",
         "visible": true,
         "y": {
          "bdata": "AAAAAABgmUA=",
          "dtype": "f8"
         }
        },
        {
         "name": "LL5/6",
         "type": "box",
         "visible": true,
         "y": {
          "bdata": "j8L1KFwPLEA=",
          "dtype": "f8"
         }
        },
        {
         "name": "H4 ",
         "type": "box",
         "visible": true,
         "y": {
          "bdata": "zczMzMzMGUA=",
          "dtype": "f8"
         }
        },
        {
         "name": "H4/6",
         "type": "box",
         "visible": true,
         "y": {
          "bdata": "mpmZmZkbnEA=",
          "dtype": "f8"
         }
        }
       ],
       "layout": {
        "template": {
         "data": {
          "bar": [
           {
            "error_x": {
             "color": "#2a3f5f"
            },
            "error_y": {
             "color": "#2a3f5f"
            },
            "marker": {
             "line": {
              "color": "#E5ECF6",
              "width": 0.5
             },
             "pattern": {
              "fillmode": "overlay",
              "size": 10,
              "solidity": 0.2
             }
            },
            "type": "bar"
           }
          ],
          "barpolar": [
           {
            "marker": {
             "line": {
              "color": "#E5ECF6",
              "width": 0.5
             },
             "pattern": {
              "fillmode": "overlay",
              "size": 10,
              "solidity": 0.2
             }
            },
            "type": "barpolar"
           }
          ],
          "carpet": [
           {
            "aaxis": {
             "endlinecolor": "#2a3f5f",
             "gridcolor": "white",
             "linecolor": "white",
             "minorgridcolor": "white",
             "startlinecolor": "#2a3f5f"
            },
            "baxis": {
             "endlinecolor": "#2a3f5f",
             "gridcolor": "white",
             "linecolor": "white",
             "minorgridcolor": "white",
             "startlinecolor": "#2a3f5f"
            },
            "type": "carpet"
           }
          ],
          "choropleth": [
           {
            "colorbar": {
             "outlinewidth": 0,
             "ticks": ""
            },
            "type": "choropleth"
           }
          ],
          "contour": [
           {
            "colorbar": {
             "outlinewidth": 0,
             "ticks": ""
            },
            "colorscale": [
             [
              0,
              "#0d0887"
             ],
             [
              0.1111111111111111,
              "#46039f"
             ],
             [
              0.2222222222222222,
              "#7201a8"
             ],
             [
              0.3333333333333333,
              "#9c179e"
             ],
             [
              0.4444444444444444,
              "#bd3786"
             ],
             [
              0.5555555555555556,
              "#d8576b"
             ],
             [
              0.6666666666666666,
              "#ed7953"
             ],
             [
              0.7777777777777778,
              "#fb9f3a"
             ],
             [
              0.8888888888888888,
              "#fdca26"
             ],
             [
              1,
              "#f0f921"
             ]
            ],
            "type": "contour"
           }
          ],
          "contourcarpet": [
           {
            "colorbar": {
             "outlinewidth": 0,
             "ticks": ""
            },
            "type": "contourcarpet"
           }
          ],
          "heatmap": [
           {
            "colorbar": {
             "outlinewidth": 0,
             "ticks": ""
            },
            "colorscale": [
             [
              0,
              "#0d0887"
             ],
             [
              0.1111111111111111,
              "#46039f"
             ],
             [
              0.2222222222222222,
              "#7201a8"
             ],
             [
              0.3333333333333333,
              "#9c179e"
             ],
             [
              0.4444444444444444,
              "#bd3786"
             ],
             [
              0.5555555555555556,
              "#d8576b"
             ],
             [
              0.6666666666666666,
              "#ed7953"
             ],
             [
              0.7777777777777778,
              "#fb9f3a"
             ],
             [
              0.8888888888888888,
              "#fdca26"
             ],
             [
              1,
              "#f0f921"
             ]
            ],
            "type": "heatmap"
           }
          ],
          "histogram": [
           {
            "marker": {
             "pattern": {
              "fillmode": "overlay",
              "size": 10,
              "solidity": 0.2
             }
            },
            "type": "histogram"
           }
          ],
          "histogram2d": [
           {
            "colorbar": {
             "outlinewidth": 0,
             "ticks": ""
            },
            "colorscale": [
             [
              0,
              "#0d0887"
             ],
             [
              0.1111111111111111,
              "#46039f"
             ],
             [
              0.2222222222222222,
              "#7201a8"
             ],
             [
              0.3333333333333333,
              "#9c179e"
             ],
             [
              0.4444444444444444,
              "#bd3786"
             ],
             [
              0.5555555555555556,
              "#d8576b"
             ],
             [
              0.6666666666666666,
              "#ed7953"
             ],
             [
              0.7777777777777778,
              "#fb9f3a"
             ],
             [
              0.8888888888888888,
              "#fdca26"
             ],
             [
              1,
              "#f0f921"
             ]
            ],
            "type": "histogram2d"
           }
          ],
          "histogram2dcontour": [
           {
            "colorbar": {
             "outlinewidth": 0,
             "ticks": ""
            },
            "colorscale": [
             [
              0,
              "#0d0887"
             ],
             [
              0.1111111111111111,
              "#46039f"
             ],
             [
              0.2222222222222222,
              "#7201a8"
             ],
             [
              0.3333333333333333,
              "#9c179e"
             ],
             [
              0.4444444444444444,
              "#bd3786"
             ],
             [
              0.5555555555555556,
              "#d8576b"
             ],
             [
              0.6666666666666666,
              "#ed7953"
             ],
             [
              0.7777777777777778,
              "#fb9f3a"
             ],
             [
              0.8888888888888888,
              "#fdca26"
             ],
             [
              1,
              "#f0f921"
             ]
            ],
            "type": "histogram2dcontour"
           }
          ],
          "mesh3d": [
           {
            "colorbar": {
             "outlinewidth": 0,
             "ticks": ""
            },
            "type": "mesh3d"
           }
          ],
          "parcoords": [
           {
            "line": {
             "colorbar": {
              "outlinewidth": 0,
              "ticks": ""
             }
            },
            "type": "parcoords"
           }
          ],
          "pie": [
           {
            "automargin": true,
            "type": "pie"
           }
          ],
          "scatter": [
           {
            "fillpattern": {
             "fillmode": "overlay",
             "size": 10,
             "solidity": 0.2
            },
            "type": "scatter"
           }
          ],
          "scatter3d": [
           {
            "line": {
             "colorbar": {
              "outlinewidth": 0,
              "ticks": ""
             }
            },
            "marker": {
             "colorbar": {
              "outlinewidth": 0,
              "ticks": ""
             }
            },
            "type": "scatter3d"
           }
          ],
          "scattercarpet": [
           {
            "marker": {
             "colorbar": {
              "outlinewidth": 0,
              "ticks": ""
             }
            },
            "type": "scattercarpet"
           }
          ],
          "scattergeo": [
           {
            "marker": {
             "colorbar": {
              "outlinewidth": 0,
              "ticks": ""
             }
            },
            "type": "scattergeo"
           }
          ],
          "scattergl": [
           {
            "marker": {
             "colorbar": {
              "outlinewidth": 0,
              "ticks": ""
             }
            },
            "type": "scattergl"
           }
          ],
          "scattermap": [
           {
            "marker": {
             "colorbar": {
              "outlinewidth": 0,
              "ticks": ""
             }
            },
            "type": "scattermap"
           }
          ],
          "scattermapbox": [
           {
            "marker": {
             "colorbar": {
              "outlinewidth": 0,
              "ticks": ""
             }
            },
            "type": "scattermapbox"
           }
          ],
          "scatterpolar": [
           {
            "marker": {
             "colorbar": {
              "outlinewidth": 0,
              "ticks": ""
             }
            },
            "type": "scatterpolar"
           }
          ],
          "scatterpolargl": [
           {
            "marker": {
             "colorbar": {
              "outlinewidth": 0,
              "ticks": ""
             }
            },
            "type": "scatterpolargl"
           }
          ],
          "scatterternary": [
           {
            "marker": {
             "colorbar": {
              "outlinewidth": 0,
              "ticks": ""
             }
            },
            "type": "scatterternary"
           }
          ],
          "surface": [
           {
            "colorbar": {
             "outlinewidth": 0,
             "ticks": ""
            },
            "colorscale": [
             [
              0,
              "#0d0887"
             ],
             [
              0.1111111111111111,
              "#46039f"
             ],
             [
              0.2222222222222222,
              "#7201a8"
             ],
             [
              0.3333333333333333,
              "#9c179e"
             ],
             [
              0.4444444444444444,
              "#bd3786"
             ],
             [
              0.5555555555555556,
              "#d8576b"
             ],
             [
              0.6666666666666666,
              "#ed7953"
             ],
             [
              0.7777777777777778,
              "#fb9f3a"
             ],
             [
              0.8888888888888888,
              "#fdca26"
             ],
             [
              1,
              "#f0f921"
             ]
            ],
            "type": "surface"
           }
          ],
          "table": [
           {
            "cells": {
             "fill": {
              "color": "#EBF0F8"
             },
             "line": {
              "color": "white"
             }
            },
            "header": {
             "fill": {
              "color": "#C8D4E3"
             },
             "line": {
              "color": "white"
             }
            },
            "type": "table"
           }
          ]
         },
         "layout": {
          "annotationdefaults": {
           "arrowcolor": "#2a3f5f",
           "arrowhead": 0,
           "arrowwidth": 1
          },
          "autotypenumbers": "strict",
          "coloraxis": {
           "colorbar": {
            "outlinewidth": 0,
            "ticks": ""
           }
          },
          "colorscale": {
           "diverging": [
            [
             0,
             "#8e0152"
            ],
            [
             0.1,
             "#c51b7d"
            ],
            [
             0.2,
             "#de77ae"
            ],
            [
             0.3,
             "#f1b6da"
            ],
            [
             0.4,
             "#fde0ef"
            ],
            [
             0.5,
             "#f7f7f7"
            ],
            [
             0.6,
             "#e6f5d0"
            ],
            [
             0.7,
             "#b8e186"
            ],
            [
             0.8,
             "#7fbc41"
            ],
            [
             0.9,
             "#4d9221"
            ],
            [
             1,
             "#276419"
            ]
           ],
           "sequential": [
            [
             0,
             "#0d0887"
            ],
            [
             0.1111111111111111,
             "#46039f"
            ],
            [
             0.2222222222222222,
             "#7201a8"
            ],
            [
             0.3333333333333333,
             "#9c179e"
            ],
            [
             0.4444444444444444,
             "#bd3786"
            ],
            [
             0.5555555555555556,
             "#d8576b"
            ],
            [
             0.6666666666666666,
             "#ed7953"
            ],
            [
             0.7777777777777778,
             "#fb9f3a"
            ],
            [
             0.8888888888888888,
             "#fdca26"
            ],
            [
             1,
             "#f0f921"
            ]
           ],
           "sequentialminus": [
            [
             0,
             "#0d0887"
            ],
            [
             0.1111111111111111,
             "#46039f"
            ],
            [
             0.2222222222222222,
             "#7201a8"
            ],
            [
             0.3333333333333333,
             "#9c179e"
            ],
            [
             0.4444444444444444,
             "#bd3786"
            ],
            [
             0.5555555555555556,
             "#d8576b"
            ],
            [
             0.6666666666666666,
             "#ed7953"
            ],
            [
             0.7777777777777778,
             "#fb9f3a"
            ],
            [
             0.8888888888888888,
             "#fdca26"
            ],
            [
             1,
             "#f0f921"
            ]
           ]
          },
          "colorway": [
           "#636efa",
           "#EF553B",
           "#00cc96",
           "#ab63fa",
           "#FFA15A",
           "#19d3f3",
           "#FF6692",
           "#B6E880",
           "#FF97FF",
           "#FECB52"
          ],
          "font": {
           "color": "#2a3f5f"
          },
          "geo": {
           "bgcolor": "white",
           "lakecolor": "white",
           "landcolor": "#E5ECF6",
           "showlakes": true,
           "showland": true,
           "subunitcolor": "white"
          },
          "hoverlabel": {
           "align": "left"
          },
          "hovermode": "closest",
          "mapbox": {
           "style": "light"
          },
          "paper_bgcolor": "white",
          "plot_bgcolor": "#E5ECF6",
          "polar": {
           "angularaxis": {
            "gridcolor": "white",
            "linecolor": "white",
            "ticks": ""
           },
           "bgcolor": "#E5ECF6",
           "radialaxis": {
            "gridcolor": "white",
            "linecolor": "white",
            "ticks": ""
           }
          },
          "scene": {
           "xaxis": {
            "backgroundcolor": "#E5ECF6",
            "gridcolor": "white",
            "gridwidth": 2,
            "linecolor": "white",
            "showbackground": true,
            "ticks": "",
            "zerolinecolor": "white"
           },
           "yaxis": {
            "backgroundcolor": "#E5ECF6",
            "gridcolor": "white",
            "gridwidth": 2,
            "linecolor": "white",
            "showbackground": true,
            "ticks": "",
            "zerolinecolor": "white"
           },
           "zaxis": {
            "backgroundcolor": "#E5ECF6",
            "gridcolor": "white",
            "gridwidth": 2,
            "linecolor": "white",
            "showbackground": true,
            "ticks": "",
            "zerolinecolor": "white"
           }
          },
          "shapedefaults": {
           "line": {
            "color": "#2a3f5f"
           }
          },
          "ternary": {
           "aaxis": {
            "gridcolor": "white",
            "linecolor": "white",
            "ticks": ""
           },
           "baxis": {
            "gridcolor": "white",
            "linecolor": "white",
            "ticks": ""
           },
           "bgcolor": "#E5ECF6",
           "caxis": {
            "gridcolor": "white",
            "linecolor": "white",
            "ticks": ""
           }
          },
          "title": {
           "x": 0.05
          },
          "xaxis": {
           "automargin": true,
           "gridcolor": "white",
           "linecolor": "white",
           "ticks": "",
           "title": {
            "standoff": 15
           },
           "zerolinecolor": "white",
           "zerolinewidth": 2
          },
          "yaxis": {
           "automargin": true,
           "gridcolor": "white",
           "linecolor": "white",
           "ticks": "",
           "title": {
            "standoff": 15
           },
           "zerolinecolor": "white",
           "zerolinewidth": 2
          }
         }
        },
        "updatemenus": [
         {
          "buttons": [
           {
            "args": [
             {
              "visible": [
               true,
               false,
               false,
               false,
               false,
               false,
               false,
               false,
               false,
               false,
               false,
               false,
               false,
               false,
               false,
               false,
               false,
               false,
               false,
               false,
               false,
               false,
               false,
               false,
               false,
               false,
               false,
               false,
               false,
               false,
               false,
               false,
               false,
               false,
               false,
               false,
               false,
               false,
               false,
               false,
               false,
               false,
               false,
               false,
               false,
               false,
               false,
               false,
               false,
               false
              ]
             }
            ],
            "label": "LL3.7",
            "method": "restyle"
           },
           {
            "args": [
             {
              "visible": [
               false,
               true,
               false,
               false,
               false,
               false,
               false,
               false,
               false,
               false,
               false,
               false,
               false,
               false,
               false,
               false,
               false,
               false,
               false,
               false,
               false,
               false,
               false,
               false,
               false,
               false,
               false,
               false,
               false,
               false,
               false,
               false,
               false,
               false,
               false,
               false,
               false,
               false,
               false,
               false,
               false,
               false,
               false,
               false,
               false,
               false,
               false,
               false,
               false,
               false
              ]
             }
            ],
            "label": "L5",
            "method": "restyle"
           },
           {
            "args": [
             {
              "visible": [
               false,
               false,
               true,
               false,
               false,
               false,
               false,
               false,
               false,
               false,
               false,
               false,
               false,
               false,
               false,
               false,
               false,
               false,
               false,
               false,
               false,
               false,
               false,
               false,
               false,
               false,
               false,
               false,
               false,
               false,
               false,
               false,
               false,
               false,
               false,
               false,
               false,
               false,
               false,
               false,
               false,
               false,
               false,
               false,
               false,
               false,
               false,
               false,
               false,
               false
              ]
             }
            ],
            "label": "L3",
            "method": "restyle"
           },
           {
            "args": [
             {
              "visible": [
               false,
               false,
               false,
               true,
               false,
               false,
               false,
               false,
               false,
               false,
               false,
               false,
               false,
               false,
               false,
               false,
               false,
               false,
               false,
               false,
               false,
               false,
               false,
               false,
               false,
               false,
               false,
               false,
               false,
               false,
               false,
               false,
               false,
               false,
               false,
               false,
               false,
               false,
               false,
               false,
               false,
               false,
               false,
               false,
               false,
               false,
               false,
               false,
               false,
               false
              ]
             }
            ],
            "label": "LL5",
            "method": "restyle"
           },
           {
            "args": [
             {
              "visible": [
               false,
               false,
               false,
               false,
               true,
               false,
               false,
               false,
               false,
               false,
               false,
               false,
               false,
               false,
               false,
               false,
               false,
               false,
               false,
               false,
               false,
               false,
               false,
               false,
               false,
               false,
               false,
               false,
               false,
               false,
               false,
               false,
               false,
               false,
               false,
               false,
               false,
               false,
               false,
               false,
               false,
               false,
               false,
               false,
               false,
               false,
               false,
               false,
               false,
               false
              ]
             }
            ],
            "label": "L6",
            "method": "restyle"
           },
           {
            "args": [
             {
              "visible": [
               false,
               false,
               false,
               false,
               false,
               true,
               false,
               false,
               false,
               false,
               false,
               false,
               false,
               false,
               false,
               false,
               false,
               false,
               false,
               false,
               false,
               false,
               false,
               false,
               false,
               false,
               false,
               false,
               false,
               false,
               false,
               false,
               false,
               false,
               false,
               false,
               false,
               false,
               false,
               false,
               false,
               false,
               false,
               false,
               false,
               false,
               false,
               false,
               false,
               false
              ]
             }
            ],
            "label": "H4",
            "method": "restyle"
           },
           {
            "args": [
             {
              "visible": [
               false,
               false,
               false,
               false,
               false,
               false,
               true,
               false,
               false,
               false,
               false,
               false,
               false,
               false,
               false,
               false,
               false,
               false,
               false,
               false,
               false,
               false,
               false,
               false,
               false,
               false,
               false,
               false,
               false,
               false,
               false,
               false,
               false,
               false,
               false,
               false,
               false,
               false,
               false,
               false,
               false,
               false,
               false,
               false,
               false,
               false,
               false,
               false,
               false,
               false
              ]
             }
            ],
            "label": "LL3",
            "method": "restyle"
           },
           {
            "args": [
             {
              "visible": [
               false,
               false,
               false,
               false,
               false,
               false,
               false,
               true,
               false,
               false,
               false,
               false,
               false,
               false,
               false,
               false,
               false,
               false,
               false,
               false,
               false,
               false,
               false,
               false,
               false,
               false,
               false,
               false,
               false,
               false,
               false,
               false,
               false,
               false,
               false,
               false,
               false,
               false,
               false,
               false,
               false,
               false,
               false,
               false,
               false,
               false,
               false,
               false,
               false,
               false
              ]
             }
            ],
            "label": "H4/5",
            "method": "restyle"
           },
           {
            "args": [
             {
              "visible": [
               false,
               false,
               false,
               false,
               false,
               false,
               false,
               false,
               true,
               false,
               false,
               false,
               false,
               false,
               false,
               false,
               false,
               false,
               false,
               false,
               false,
               false,
               false,
               false,
               false,
               false,
               false,
               false,
               false,
               false,
               false,
               false,
               false,
               false,
               false,
               false,
               false,
               false,
               false,
               false,
               false,
               false,
               false,
               false,
               false,
               false,
               false,
               false,
               false,
               false
              ]
             }
            ],
            "label": "H6",
            "method": "restyle"
           },
           {
            "args": [
             {
              "visible": [
               false,
               false,
               false,
               false,
               false,
               false,
               false,
               false,
               false,
               true,
               false,
               false,
               false,
               false,
               false,
               false,
               false,
               false,
               false,
               false,
               false,
               false,
               false,
               false,
               false,
               false,
               false,
               false,
               false,
               false,
               false,
               false,
               false,
               false,
               false,
               false,
               false,
               false,
               false,
               false,
               false,
               false,
               false,
               false,
               false,
               false,
               false,
               false,
               false,
               false
              ]
             }
            ],
            "label": "CV3",
            "method": "restyle"
           },
           {
            "args": [
             {
              "visible": [
               false,
               false,
               false,
               false,
               false,
               false,
               false,
               false,
               false,
               false,
               true,
               false,
               false,
               false,
               false,
               false,
               false,
               false,
               false,
               false,
               false,
               false,
               false,
               false,
               false,
               false,
               false,
               false,
               false,
               false,
               false,
               false,
               false,
               false,
               false,
               false,
               false,
               false,
               false,
               false,
               false,
               false,
               false,
               false,
               false,
               false,
               false,
               false,
               false,
               false
              ]
             }
            ],
            "label": "Iron, IIAB",
            "method": "restyle"
           },
           {
            "args": [
             {
              "visible": [
               false,
               false,
               false,
               false,
               false,
               false,
               false,
               false,
               false,
               false,
               false,
               true,
               false,
               false,
               false,
               false,
               false,
               false,
               false,
               false,
               false,
               false,
               false,
               false,
               false,
               false,
               false,
               false,
               false,
               false,
               false,
               false,
               false,
               false,
               false,
               false,
               false,
               false,
               false,
               false,
               false,
               false,
               false,
               false,
               false,
               false,
               false,
               false,
               false,
               false
              ]
             }
            ],
            "label": "LL6",
            "method": "restyle"
           },
           {
            "args": [
             {
              "visible": [
               false,
               false,
               false,
               false,
               false,
               false,
               false,
               false,
               false,
               false,
               false,
               false,
               true,
               false,
               false,
               false,
               false,
               false,
               false,
               false,
               false,
               false,
               false,
               false,
               false,
               false,
               false,
               false,
               false,
               false,
               false,
               false,
               false,
               false,
               false,
               false,
               false,
               false,
               false,
               false,
               false,
               false,
               false,
               false,
               false,
               false,
               false,
               false,
               false,
               false
              ]
             }
            ],
            "label": "L",
            "method": "restyle"
           },
           {
            "args": [
             {
              "visible": [
               false,
               false,
               false,
               false,
               false,
               false,
               false,
               false,
               false,
               false,
               false,
               false,
               false,
               true,
               false,
               false,
               false,
               false,
               false,
               false,
               false,
               false,
               false,
               false,
               false,
               false,
               false,
               false,
               false,
               false,
               false,
               false,
               false,
               false,
               false,
               false,
               false,
               false,
               false,
               false,
               false,
               false,
               false,
               false,
               false,
               false,
               false,
               false,
               false,
               false
              ]
             }
            ],
            "label": "H3.3",
            "method": "restyle"
           },
           {
            "args": [
             {
              "visible": [
               false,
               false,
               false,
               false,
               false,
               false,
               false,
               false,
               false,
               false,
               false,
               false,
               false,
               false,
               true,
               false,
               false,
               false,
               false,
               false,
               false,
               false,
               false,
               false,
               false,
               false,
               false,
               false,
               false,
               false,
               false,
               false,
               false,
               false,
               false,
               false,
               false,
               false,
               false,
               false,
               false,
               false,
               false,
               false,
               false,
               false,
               false,
               false,
               false,
               false
              ]
             }
            ],
            "label": "CK3",
            "method": "restyle"
           },
           {
            "args": [
             {
              "visible": [
               false,
               false,
               false,
               false,
               false,
               false,
               false,
               false,
               false,
               false,
               false,
               false,
               false,
               false,
               false,
               true,
               false,
               false,
               false,
               false,
               false,
               false,
               false,
               false,
               false,
               false,
               false,
               false,
               false,
               false,
               false,
               false,
               false,
               false,
               false,
               false,
               false,
               false,
               false,
               false,
               false,
               false,
               false,
               false,
               false,
               false,
               false,
               false,
               false,
               false
              ]
             }
            ],
            "label": "Ureilite",
            "method": "restyle"
           },
           {
            "args": [
             {
              "visible": [
               false,
               false,
               false,
               false,
               false,
               false,
               false,
               false,
               false,
               false,
               false,
               false,
               false,
               false,
               false,
               false,
               true,
               false,
               false,
               false,
               false,
               false,
               false,
               false,
               false,
               false,
               false,
               false,
               false,
               false,
               false,
               false,
               false,
               false,
               false,
               false,
               false,
               false,
               false,
               false,
               false,
               false,
               false,
               false,
               false,
               false,
               false,
               false,
               false,
               false
              ]
             }
            ],
            "label": "H5",
            "method": "restyle"
           },
           {
            "args": [
             {
              "visible": [
               false,
               false,
               false,
               false,
               false,
               false,
               false,
               false,
               false,
               false,
               false,
               false,
               false,
               false,
               false,
               false,
               false,
               true,
               false,
               false,
               false,
               false,
               false,
               false,
               false,
               false,
               false,
               false,
               false,
               false,
               false,
               false,
               false,
               false,
               false,
               false,
               false,
               false,
               false,
               false,
               false,
               false,
               false,
               false,
               false,
               false,
               false,
               false,
               false,
               false
              ]
             }
            ],
            "label": "H3.7-5",
            "method": "restyle"
           },
           {
            "args": [
             {
              "visible": [
               false,
               false,
               false,
               false,
               false,
               false,
               false,
               false,
               false,
               false,
               false,
               false,
               false,
               false,
               false,
               false,
               false,
               false,
               true,
               false,
               false,
               false,
               false,
               false,
               false,
               false,
               false,
               false,
               false,
               false,
               false,
               false,
               false,
               false,
               false,
               false,
               false,
               false,
               false,
               false,
               false,
               false,
               false,
               false,
               false,
               false,
               false,
               false,
               false,
               false
              ]
             }
            ],
            "label": "Eucrite-pmict",
            "method": "restyle"
           },
           {
            "args": [
             {
              "visible": [
               false,
               false,
               false,
               false,
               false,
               false,
               false,
               false,
               false,
               false,
               false,
               false,
               false,
               false,
               false,
               false,
               false,
               false,
               false,
               true,
               false,
               false,
               false,
               false,
               false,
               false,
               false,
               false,
               false,
               false,
               false,
               false,
               false,
               false,
               false,
               false,
               false,
               false,
               false,
               false,
               false,
               false,
               false,
               false,
               false,
               false,
               false,
               false,
               false,
               false
              ]
             }
            ],
            "label": "CM2",
            "method": "restyle"
           },
           {
            "args": [
             {
              "visible": [
               false,
               false,
               false,
               false,
               false,
               false,
               false,
               false,
               false,
               false,
               false,
               false,
               false,
               false,
               false,
               false,
               false,
               false,
               false,
               false,
               true,
               false,
               false,
               false,
               false,
               false,
               false,
               false,
               false,
               false,
               false,
               false,
               false,
               false,
               false,
               false,
               false,
               false,
               false,
               false,
               false,
               false,
               false,
               false,
               false,
               false,
               false,
               false,
               false,
               false
              ]
             }
            ],
            "label": "L5/6",
            "method": "restyle"
           },
           {
            "args": [
             {
              "visible": [
               false,
               false,
               false,
               false,
               false,
               false,
               false,
               false,
               false,
               false,
               false,
               false,
               false,
               false,
               false,
               false,
               false,
               false,
               false,
               false,
               false,
               true,
               false,
               false,
               false,
               false,
               false,
               false,
               false,
               false,
               false,
               false,
               false,
               false,
               false,
               false,
               false,
               false,
               false,
               false,
               false,
               false,
               false,
               false,
               false,
               false,
               false,
               false,
               false,
               false
              ]
             }
            ],
            "label": "Iron, IID",
            "method": "restyle"
           },
           {
            "args": [
             {
              "visible": [
               false,
               false,
               false,
               false,
               false,
               false,
               false,
               false,
               false,
               false,
               false,
               false,
               false,
               false,
               false,
               false,
               false,
               false,
               false,
               false,
               false,
               false,
               true,
               false,
               false,
               false,
               false,
               false,
               false,
               false,
               false,
               false,
               false,
               false,
               false,
               false,
               false,
               false,
               false,
               false,
               false,
               false,
               false,
               false,
               false,
               false,
               false,
               false,
               false,
               false
              ]
             }
            ],
            "label": "L3.8",
            "method": "restyle"
           },
           {
            "args": [
             {
              "visible": [
               false,
               false,
               false,
               false,
               false,
               false,
               false,
               false,
               false,
               false,
               false,
               false,
               false,
               false,
               false,
               false,
               false,
               false,
               false,
               false,
               false,
               false,
               false,
               true,
               false,
               false,
               false,
               false,
               false,
               false,
               false,
               false,
               false,
               false,
               false,
               false,
               false,
               false,
               false,
               false,
               false,
               false,
               false,
               false,
               false,
               false,
               false,
               false,
               false,
               false
              ]
             }
            ],
            "label": "H4-6",
            "method": "restyle"
           },
           {
            "args": [
             {
              "visible": [
               false,
               false,
               false,
               false,
               false,
               false,
               false,
               false,
               false,
               false,
               false,
               false,
               false,
               false,
               false,
               false,
               false,
               false,
               false,
               false,
               false,
               false,
               false,
               false,
               true,
               false,
               false,
               false,
               false,
               false,
               false,
               false,
               false,
               false,
               false,
               false,
               false,
               false,
               false,
               false,
               false,
               false,
               false,
               false,
               false,
               false,
               false,
               false,
               false,
               false
              ]
             }
            ],
            "label": "LL4",
            "method": "restyle"
           },
           {
            "args": [
             {
              "visible": [
               false,
               false,
               false,
               false,
               false,
               false,
               false,
               false,
               false,
               false,
               false,
               false,
               false,
               false,
               false,
               false,
               false,
               false,
               false,
               false,
               false,
               false,
               false,
               false,
               false,
               true,
               false,
               false,
               false,
               false,
               false,
               false,
               false,
               false,
               false,
               false,
               false,
               false,
               false,
               false,
               false,
               false,
               false,
               false,
               false,
               false,
               false,
               false,
               false,
               false
              ]
             }
            ],
            "label": "OC",
            "method": "restyle"
           },
           {
            "args": [
             {
              "visible": [
               false,
               false,
               false,
               false,
               false,
               false,
               false,
               false,
               false,
               false,
               false,
               false,
               false,
               false,
               false,
               false,
               false,
               false,
               false,
               false,
               false,
               false,
               false,
               false,
               false,
               false,
               true,
               false,
               false,
               false,
               false,
               false,
               false,
               false,
               false,
               false,
               false,
               false,
               false,
               false,
               false,
               false,
               false,
               false,
               false,
               false,
               false,
               false,
               false,
               false
              ]
             }
            ],
            "label": "LL3.4",
            "method": "restyle"
           },
           {
            "args": [
             {
              "visible": [
               false,
               false,
               false,
               false,
               false,
               false,
               false,
               false,
               false,
               false,
               false,
               false,
               false,
               false,
               false,
               false,
               false,
               false,
               false,
               false,
               false,
               false,
               false,
               false,
               false,
               false,
               false,
               true,
               false,
               false,
               false,
               false,
               false,
               false,
               false,
               false,
               false,
               false,
               false,
               false,
               false,
               false,
               false,
               false,
               false,
               false,
               false,
               false,
               false,
               false
              ]
             }
            ],
            "label": "CO3.6",
            "method": "restyle"
           },
           {
            "args": [
             {
              "visible": [
               false,
               false,
               false,
               false,
               false,
               false,
               false,
               false,
               false,
               false,
               false,
               false,
               false,
               false,
               false,
               false,
               false,
               false,
               false,
               false,
               false,
               false,
               false,
               false,
               false,
               false,
               false,
               false,
               true,
               false,
               false,
               false,
               false,
               false,
               false,
               false,
               false,
               false,
               false,
               false,
               false,
               false,
               false,
               false,
               false,
               false,
               false,
               false,
               false,
               false
              ]
             }
            ],
            "label": "Iron?",
            "method": "restyle"
           },
           {
            "args": [
             {
              "visible": [
               false,
               false,
               false,
               false,
               false,
               false,
               false,
               false,
               false,
               false,
               false,
               false,
               false,
               false,
               false,
               false,
               false,
               false,
               false,
               false,
               false,
               false,
               false,
               false,
               false,
               false,
               false,
               false,
               false,
               true,
               false,
               false,
               false,
               false,
               false,
               false,
               false,
               false,
               false,
               false,
               false,
               false,
               false,
               false,
               false,
               false,
               false,
               false,
               false,
               false
              ]
             }
            ],
            "label": "H3-4",
            "method": "restyle"
           },
           {
            "args": [
             {
              "visible": [
               false,
               false,
               false,
               false,
               false,
               false,
               false,
               false,
               false,
               false,
               false,
               false,
               false,
               false,
               false,
               false,
               false,
               false,
               false,
               false,
               false,
               false,
               false,
               false,
               false,
               false,
               false,
               false,
               false,
               false,
               true,
               false,
               false,
               false,
               false,
               false,
               false,
               false,
               false,
               false,
               false,
               false,
               false,
               false,
               false,
               false,
               false,
               false,
               false,
               false
              ]
             }
            ],
            "label": "H3",
            "method": "restyle"
           },
           {
            "args": [
             {
              "visible": [
               false,
               false,
               false,
               false,
               false,
               false,
               false,
               false,
               false,
               false,
               false,
               false,
               false,
               false,
               false,
               false,
               false,
               false,
               false,
               false,
               false,
               false,
               false,
               false,
               false,
               false,
               false,
               false,
               false,
               false,
               false,
               true,
               false,
               false,
               false,
               false,
               false,
               false,
               false,
               false,
               false,
               false,
               false,
               false,
               false,
               false,
               false,
               false,
               false,
               false
              ]
             }
            ],
            "label": "Diogenite",
            "method": "restyle"
           },
           {
            "args": [
             {
              "visible": [
               false,
               false,
               false,
               false,
               false,
               false,
               false,
               false,
               false,
               false,
               false,
               false,
               false,
               false,
               false,
               false,
               false,
               false,
               false,
               false,
               false,
               false,
               false,
               false,
               false,
               false,
               false,
               false,
               false,
               false,
               false,
               false,
               true,
               false,
               false,
               false,
               false,
               false,
               false,
               false,
               false,
               false,
               false,
               false,
               false,
               false,
               false,
               false,
               false,
               false
              ]
             }
            ],
            "label": "L4/5",
            "method": "restyle"
           },
           {
            "args": [
             {
              "visible": [
               false,
               false,
               false,
               false,
               false,
               false,
               false,
               false,
               false,
               false,
               false,
               false,
               false,
               false,
               false,
               false,
               false,
               false,
               false,
               false,
               false,
               false,
               false,
               false,
               false,
               false,
               false,
               false,
               false,
               false,
               false,
               false,
               false,
               true,
               false,
               false,
               false,
               false,
               false,
               false,
               false,
               false,
               false,
               false,
               false,
               false,
               false,
               false,
               false,
               false
              ]
             }
            ],
            "label": "LL",
            "method": "restyle"
           },
           {
            "args": [
             {
              "visible": [
               false,
               false,
               false,
               false,
               false,
               false,
               false,
               false,
               false,
               false,
               false,
               false,
               false,
               false,
               false,
               false,
               false,
               false,
               false,
               false,
               false,
               false,
               false,
               false,
               false,
               false,
               false,
               false,
               false,
               false,
               false,
               false,
               false,
               false,
               true,
               false,
               false,
               false,
               false,
               false,
               false,
               false,
               false,
               false,
               false,
               false,
               false,
               false,
               false,
               false
              ]
             }
            ],
            "label": "Howardite",
            "method": "restyle"
           },
           {
            "args": [
             {
              "visible": [
               false,
               false,
               false,
               false,
               false,
               false,
               false,
               false,
               false,
               false,
               false,
               false,
               false,
               false,
               false,
               false,
               false,
               false,
               false,
               false,
               false,
               false,
               false,
               false,
               false,
               false,
               false,
               false,
               false,
               false,
               false,
               false,
               false,
               false,
               false,
               true,
               false,
               false,
               false,
               false,
               false,
               false,
               false,
               false,
               false,
               false,
               false,
               false,
               false,
               false
              ]
             }
            ],
            "label": "Achondrite-ung",
            "method": "restyle"
           },
           {
            "args": [
             {
              "visible": [
               false,
               false,
               false,
               false,
               false,
               false,
               false,
               false,
               false,
               false,
               false,
               false,
               false,
               false,
               false,
               false,
               false,
               false,
               false,
               false,
               false,
               false,
               false,
               false,
               false,
               false,
               false,
               false,
               false,
               false,
               false,
               false,
               false,
               false,
               false,
               false,
               true,
               false,
               false,
               false,
               false,
               false,
               false,
               false,
               false,
               false,
               false,
               false,
               false,
               false
              ]
             }
            ],
            "label": "Iron",
            "method": "restyle"
           },
           {
            "args": [
             {
              "visible": [
               false,
               false,
               false,
               false,
               false,
               false,
               false,
               false,
               false,
               false,
               false,
               false,
               false,
               false,
               false,
               false,
               false,
               false,
               false,
               false,
               false,
               false,
               false,
               false,
               false,
               false,
               false,
               false,
               false,
               false,
               false,
               false,
               false,
               false,
               false,
               false,
               false,
               true,
               false,
               false,
               false,
               false,
               false,
               false,
               false,
               false,
               false,
               false,
               false,
               false
              ]
             }
            ],
            "label": "CO3",
            "method": "restyle"
           },
           {
            "args": [
             {
              "visible": [
               false,
               false,
               false,
               false,
               false,
               false,
               false,
               false,
               false,
               false,
               false,
               false,
               false,
               false,
               false,
               false,
               false,
               false,
               false,
               false,
               false,
               false,
               false,
               false,
               false,
               false,
               false,
               false,
               false,
               false,
               false,
               false,
               false,
               false,
               false,
               false,
               false,
               false,
               true,
               false,
               false,
               false,
               false,
               false,
               false,
               false,
               false,
               false,
               false,
               false
              ]
             }
            ],
            "label": "H5/6",
            "method": "restyle"
           },
           {
            "args": [
             {
              "visible": [
               false,
               false,
               false,
               false,
               false,
               false,
               false,
               false,
               false,
               false,
               false,
               false,
               false,
               false,
               false,
               false,
               false,
               false,
               false,
               false,
               false,
               false,
               false,
               false,
               false,
               false,
               false,
               false,
               false,
               false,
               false,
               false,
               false,
               false,
               false,
               false,
               false,
               false,
               false,
               true,
               false,
               false,
               false,
               false,
               false,
               false,
               false,
               false,
               false,
               false
              ]
             }
            ],
            "label": "CM2-an",
            "method": "restyle"
           },
           {
            "args": [
             {
              "visible": [
               false,
               false,
               false,
               false,
               false,
               false,
               false,
               false,
               false,
               false,
               false,
               false,
               false,
               false,
               false,
               false,
               false,
               false,
               false,
               false,
               false,
               false,
               false,
               false,
               false,
               false,
               false,
               false,
               false,
               false,
               false,
               false,
               false,
               false,
               false,
               false,
               false,
               false,
               false,
               false,
               true,
               false,
               false,
               false,
               false,
               false,
               false,
               false,
               false,
               false
              ]
             }
            ],
            "label": "CK5",
            "method": "restyle"
           },
           {
            "args": [
             {
              "visible": [
               false,
               false,
               false,
               false,
               false,
               false,
               false,
               false,
               false,
               false,
               false,
               false,
               false,
               false,
               false,
               false,
               false,
               false,
               false,
               false,
               false,
               false,
               false,
               false,
               false,
               false,
               false,
               false,
               false,
               false,
               false,
               false,
               false,
               false,
               false,
               false,
               false,
               false,
               false,
               false,
               false,
               true,
               false,
               false,
               false,
               false,
               false,
               false,
               false,
               false
              ]
             }
            ],
            "label": "Iron, IAB-ung",
            "method": "restyle"
           },
           {
            "args": [
             {
              "visible": [
               false,
               false,
               false,
               false,
               false,
               false,
               false,
               false,
               false,
               false,
               false,
               false,
               false,
               false,
               false,
               false,
               false,
               false,
               false,
               false,
               false,
               false,
               false,
               false,
               false,
               false,
               false,
               false,
               false,
               false,
               false,
               false,
               false,
               false,
               false,
               false,
               false,
               false,
               false,
               false,
               false,
               false,
               true,
               false,
               false,
               false,
               false,
               false,
               false,
               false
              ]
             }
            ],
            "label": "L4",
            "method": "restyle"
           },
           {
            "args": [
             {
              "visible": [
               false,
               false,
               false,
               false,
               false,
               false,
               false,
               false,
               false,
               false,
               false,
               false,
               false,
               false,
               false,
               false,
               false,
               false,
               false,
               false,
               false,
               false,
               false,
               false,
               false,
               false,
               false,
               false,
               false,
               false,
               false,
               false,
               false,
               false,
               false,
               false,
               false,
               false,
               false,
               false,
               false,
               false,
               false,
               true,
               false,
               false,
               false,
               false,
               false,
               false
              ]
             }
            ],
            "label": "Eucrite",
            "method": "restyle"
           },
           {
            "args": [
             {
              "visible": [
               false,
               false,
               false,
               false,
               false,
               false,
               false,
               false,
               false,
               false,
               false,
               false,
               false,
               false,
               false,
               false,
               false,
               false,
               false,
               false,
               false,
               false,
               false,
               false,
               false,
               false,
               false,
               false,
               false,
               false,
               false,
               false,
               false,
               false,
               false,
               false,
               false,
               false,
               false,
               false,
               false,
               false,
               false,
               false,
               true,
               false,
               false,
               false,
               false,
               false
              ]
             }
            ],
            "label": "H3-6",
            "method": "restyle"
           },
           {
            "args": [
             {
              "visible": [
               false,
               false,
               false,
               false,
               false,
               false,
               false,
               false,
               false,
               false,
               false,
               false,
               false,
               false,
               false,
               false,
               false,
               false,
               false,
               false,
               false,
               false,
               false,
               false,
               false,
               false,
               false,
               false,
               false,
               false,
               false,
               false,
               false,
               false,
               false,
               false,
               false,
               false,
               false,
               false,
               false,
               false,
               false,
               false,
               false,
               true,
               false,
               false,
               false,
               false
              ]
             }
            ],
            "label": "Mesosiderite-C",
            "method": "restyle"
           },
           {
            "args": [
             {
              "visible": [
               false,
               false,
               false,
               false,
               false,
               false,
               false,
               false,
               false,
               false,
               false,
               false,
               false,
               false,
               false,
               false,
               false,
               false,
               false,
               false,
               false,
               false,
               false,
               false,
               false,
               false,
               false,
               false,
               false,
               false,
               false,
               false,
               false,
               false,
               false,
               false,
               false,
               false,
               false,
               false,
               false,
               false,
               false,
               false,
               false,
               false,
               true,
               false,
               false,
               false
              ]
             }
            ],
            "label": "LL5/6",
            "method": "restyle"
           },
           {
            "args": [
             {
              "visible": [
               false,
               false,
               false,
               false,
               false,
               false,
               false,
               false,
               false,
               false,
               false,
               false,
               false,
               false,
               false,
               false,
               false,
               false,
               false,
               false,
               false,
               false,
               false,
               false,
               false,
               false,
               false,
               false,
               false,
               false,
               false,
               false,
               false,
               false,
               false,
               false,
               false,
               false,
               false,
               false,
               false,
               false,
               false,
               false,
               false,
               false,
               false,
               true,
               false,
               false
              ]
             }
            ],
            "label": "H4 ",
            "method": "restyle"
           },
           {
            "args": [
             {
              "visible": [
               false,
               false,
               false,
               false,
               false,
               false,
               false,
               false,
               false,
               false,
               false,
               false,
               false,
               false,
               false,
               false,
               false,
               false,
               false,
               false,
               false,
               false,
               false,
               false,
               false,
               false,
               false,
               false,
               false,
               false,
               false,
               false,
               false,
               false,
               false,
               false,
               false,
               false,
               false,
               false,
               false,
               false,
               false,
               false,
               false,
               false,
               false,
               false,
               true,
               false
              ]
             }
            ],
            "label": "H4/6",
            "method": "restyle"
           }
          ],
          "direction": "right",
          "type": "dropdown"
         }
        ]
       }
      }
     },
     "metadata": {},
     "output_type": "display_data"
    }
   ],
   "source": [
    "buttons_list = []\n",
    "recclass_levels = ms['recclass'].unique()\n",
    "falses = [False] * len(recclass_levels)\n",
    "# print(len(falses))\n",
    "\n",
    "\n",
    "fig2 = go.Figure()\n",
    "\n",
    "for i in range(0, len(recclass_levels)):\n",
    "    fig2.add_traces([go.Box(y = ms[ms['recclass'] == str(recclass_levels[i])]['mass (g)'],\n",
    "                            visible = True,\n",
    "                            name = str(recclass_levels[i]))])\n",
    "    new_falses = falses.copy()\n",
    "    new_falses.insert(i, True)\n",
    "    buttons_list.append(\n",
    "        {'args': [{'visible': new_falses}],\n",
    "    'label': str(recclass_levels[i]),\n",
    "    'method': 'restyle'\n",
    "    }\n",
    "    )\n",
    "\n",
    "print(len(new_falses))\n",
    "fig2.update_layout(updatemenus = [{'type': 'dropdown', 'direction': 'right', 'buttons': buttons_list}])\n",
    "\n",
    "fig2.show()"
   ]
  },
  {
   "cell_type": "code",
   "execution_count": 12,
   "metadata": {},
   "outputs": [
    {
     "data": {
      "text/plain": [
       "recclass\n",
       "H4          21\n",
       "H4/5         3\n",
       "H5          23\n",
       "H6          14\n",
       "L3           4\n",
       "L5          21\n",
       "L5/6         3\n",
       "L6          42\n",
       "LL5         16\n",
       "LL6          6\n",
       "Ureilite     3\n",
       "Name: id, dtype: int64"
      ]
     },
     "execution_count": 12,
     "metadata": {},
     "output_type": "execute_result"
    }
   ],
   "source": [
    "cat_count = ms.groupby('recclass').count()['id']\n",
    "cat_count[cat_count > 2]"
   ]
  },
  {
   "cell_type": "code",
   "execution_count": 13,
   "metadata": {},
   "outputs": [
    {
     "data": {
      "text/plain": [
       "['H4', 'H4/5', 'H5', 'H6', 'L3', 'L5', 'L5/6', 'L6', 'LL5', 'LL6', 'Ureilite']"
      ]
     },
     "execution_count": 13,
     "metadata": {},
     "output_type": "execute_result"
    }
   ],
   "source": [
    "list(cat_count[cat_count > 2].index)"
   ]
  },
  {
   "cell_type": "code",
   "execution_count": 14,
   "metadata": {},
   "outputs": [
    {
     "data": {
      "text/html": [
       "<div>\n",
       "<style scoped>\n",
       "    .dataframe tbody tr th:only-of-type {\n",
       "        vertical-align: middle;\n",
       "    }\n",
       "\n",
       "    .dataframe tbody tr th {\n",
       "        vertical-align: top;\n",
       "    }\n",
       "\n",
       "    .dataframe thead th {\n",
       "        text-align: right;\n",
       "    }\n",
       "</style>\n",
       "<table border=\"1\" class=\"dataframe\">\n",
       "  <thead>\n",
       "    <tr style=\"text-align: right;\">\n",
       "      <th></th>\n",
       "      <th>name</th>\n",
       "      <th>id</th>\n",
       "      <th>nametype</th>\n",
       "      <th>recclass</th>\n",
       "      <th>mass (g)</th>\n",
       "      <th>fall</th>\n",
       "      <th>year</th>\n",
       "      <th>reclat</th>\n",
       "      <th>reclong</th>\n",
       "      <th>GeoLocation</th>\n",
       "    </tr>\n",
       "  </thead>\n",
       "  <tbody>\n",
       "    <tr>\n",
       "      <th>1</th>\n",
       "      <td>LaPaz Icefield 04605</td>\n",
       "      <td>45163</td>\n",
       "      <td>Valid</td>\n",
       "      <td>L5</td>\n",
       "      <td>63.000</td>\n",
       "      <td>Found</td>\n",
       "      <td>2004.0</td>\n",
       "      <td>NaN</td>\n",
       "      <td>NaN</td>\n",
       "      <td>NaN</td>\n",
       "    </tr>\n",
       "    <tr>\n",
       "      <th>2</th>\n",
       "      <td>Yamato 980593</td>\n",
       "      <td>37216</td>\n",
       "      <td>Valid</td>\n",
       "      <td>L3</td>\n",
       "      <td>10.913</td>\n",
       "      <td>Found</td>\n",
       "      <td>1998.0</td>\n",
       "      <td>NaN</td>\n",
       "      <td>NaN</td>\n",
       "      <td>NaN</td>\n",
       "    </tr>\n",
       "    <tr>\n",
       "      <th>3</th>\n",
       "      <td>Queen Alexandra Range 97279</td>\n",
       "      <td>20737</td>\n",
       "      <td>Valid</td>\n",
       "      <td>LL5</td>\n",
       "      <td>27.300</td>\n",
       "      <td>Found</td>\n",
       "      <td>1997.0</td>\n",
       "      <td>-84.00000</td>\n",
       "      <td>168.00000</td>\n",
       "      <td>(-84.0, 168.0)</td>\n",
       "    </tr>\n",
       "    <tr>\n",
       "      <th>4</th>\n",
       "      <td>Elephant Moraine 90798</td>\n",
       "      <td>9207</td>\n",
       "      <td>Valid</td>\n",
       "      <td>L6</td>\n",
       "      <td>20.900</td>\n",
       "      <td>Found</td>\n",
       "      <td>1990.0</td>\n",
       "      <td>-76.28535</td>\n",
       "      <td>156.44404</td>\n",
       "      <td>(-76.28535, 156.44404)</td>\n",
       "    </tr>\n",
       "    <tr>\n",
       "      <th>5</th>\n",
       "      <td>Yamato 791406</td>\n",
       "      <td>26755</td>\n",
       "      <td>Valid</td>\n",
       "      <td>H4</td>\n",
       "      <td>2048.000</td>\n",
       "      <td>Found</td>\n",
       "      <td>1979.0</td>\n",
       "      <td>-71.50000</td>\n",
       "      <td>35.66667</td>\n",
       "      <td>(-71.5, 35.66667)</td>\n",
       "    </tr>\n",
       "    <tr>\n",
       "      <th>...</th>\n",
       "      <td>...</td>\n",
       "      <td>...</td>\n",
       "      <td>...</td>\n",
       "      <td>...</td>\n",
       "      <td>...</td>\n",
       "      <td>...</td>\n",
       "      <td>...</td>\n",
       "      <td>...</td>\n",
       "      <td>...</td>\n",
       "      <td>...</td>\n",
       "    </tr>\n",
       "    <tr>\n",
       "      <th>195</th>\n",
       "      <td>Wooramel</td>\n",
       "      <td>24335</td>\n",
       "      <td>Valid</td>\n",
       "      <td>L5</td>\n",
       "      <td>71000.000</td>\n",
       "      <td>Found</td>\n",
       "      <td>1969.0</td>\n",
       "      <td>-25.65000</td>\n",
       "      <td>114.21667</td>\n",
       "      <td>(-25.65, 114.21667)</td>\n",
       "    </tr>\n",
       "    <tr>\n",
       "      <th>196</th>\n",
       "      <td>Bluewing 031</td>\n",
       "      <td>51575</td>\n",
       "      <td>Valid</td>\n",
       "      <td>H5</td>\n",
       "      <td>170.000</td>\n",
       "      <td>Found</td>\n",
       "      <td>1999.0</td>\n",
       "      <td>40.26667</td>\n",
       "      <td>-118.93333</td>\n",
       "      <td>(40.26667, -118.93333)</td>\n",
       "    </tr>\n",
       "    <tr>\n",
       "      <th>197</th>\n",
       "      <td>Yamato 86011</td>\n",
       "      <td>29517</td>\n",
       "      <td>Valid</td>\n",
       "      <td>H5</td>\n",
       "      <td>9.130</td>\n",
       "      <td>Found</td>\n",
       "      <td>1986.0</td>\n",
       "      <td>-71.50000</td>\n",
       "      <td>35.66667</td>\n",
       "      <td>(-71.5, 35.66667)</td>\n",
       "    </tr>\n",
       "    <tr>\n",
       "      <th>198</th>\n",
       "      <td>Queen Alexandra Range 94454</td>\n",
       "      <td>20086</td>\n",
       "      <td>Valid</td>\n",
       "      <td>L6</td>\n",
       "      <td>5.000</td>\n",
       "      <td>Found</td>\n",
       "      <td>1994.0</td>\n",
       "      <td>-84.00000</td>\n",
       "      <td>168.00000</td>\n",
       "      <td>(-84.0, 168.0)</td>\n",
       "    </tr>\n",
       "    <tr>\n",
       "      <th>199</th>\n",
       "      <td>Miller Range 090893</td>\n",
       "      <td>54416</td>\n",
       "      <td>Valid</td>\n",
       "      <td>LL6</td>\n",
       "      <td>4.200</td>\n",
       "      <td>Found</td>\n",
       "      <td>2009.0</td>\n",
       "      <td>0.00000</td>\n",
       "      <td>0.00000</td>\n",
       "      <td>(0.0, 0.0)</td>\n",
       "    </tr>\n",
       "  </tbody>\n",
       "</table>\n",
       "<p>156 rows × 10 columns</p>\n",
       "</div>"
      ],
      "text/plain": [
       "                            name     id nametype recclass   mass (g)   fall  \\\n",
       "1           LaPaz Icefield 04605  45163    Valid       L5     63.000  Found   \n",
       "2                  Yamato 980593  37216    Valid       L3     10.913  Found   \n",
       "3    Queen Alexandra Range 97279  20737    Valid      LL5     27.300  Found   \n",
       "4         Elephant Moraine 90798   9207    Valid       L6     20.900  Found   \n",
       "5                  Yamato 791406  26755    Valid       H4   2048.000  Found   \n",
       "..                           ...    ...      ...      ...        ...    ...   \n",
       "195                     Wooramel  24335    Valid       L5  71000.000  Found   \n",
       "196                 Bluewing 031  51575    Valid       H5    170.000  Found   \n",
       "197                 Yamato 86011  29517    Valid       H5      9.130  Found   \n",
       "198  Queen Alexandra Range 94454  20086    Valid       L6      5.000  Found   \n",
       "199          Miller Range 090893  54416    Valid      LL6      4.200  Found   \n",
       "\n",
       "       year    reclat    reclong             GeoLocation  \n",
       "1    2004.0       NaN        NaN                     NaN  \n",
       "2    1998.0       NaN        NaN                     NaN  \n",
       "3    1997.0 -84.00000  168.00000          (-84.0, 168.0)  \n",
       "4    1990.0 -76.28535  156.44404  (-76.28535, 156.44404)  \n",
       "5    1979.0 -71.50000   35.66667       (-71.5, 35.66667)  \n",
       "..      ...       ...        ...                     ...  \n",
       "195  1969.0 -25.65000  114.21667     (-25.65, 114.21667)  \n",
       "196  1999.0  40.26667 -118.93333  (40.26667, -118.93333)  \n",
       "197  1986.0 -71.50000   35.66667       (-71.5, 35.66667)  \n",
       "198  1994.0 -84.00000  168.00000          (-84.0, 168.0)  \n",
       "199  2009.0   0.00000    0.00000              (0.0, 0.0)  \n",
       "\n",
       "[156 rows x 10 columns]"
      ]
     },
     "execution_count": 14,
     "metadata": {},
     "output_type": "execute_result"
    }
   ],
   "source": [
    "high_freq_ms = ms[ms['recclass'].isin(list(cat_count[cat_count > 2].index))]\n",
    "high_freq_ms"
   ]
  },
  {
   "cell_type": "code",
   "execution_count": 15,
   "metadata": {},
   "outputs": [
    {
     "data": {
      "text/plain": [
       "['#2E91E5',\n",
       " '#E15F99',\n",
       " '#1CA71C',\n",
       " '#FB0D0D',\n",
       " '#DA16FF',\n",
       " '#222A2A',\n",
       " '#B68100',\n",
       " '#750D86',\n",
       " '#EB663B',\n",
       " '#511CFB',\n",
       " '#00A08B',\n",
       " '#FB00D1',\n",
       " '#FC0080',\n",
       " '#B2828D',\n",
       " '#6C7C32',\n",
       " '#778AAE',\n",
       " '#862A16',\n",
       " '#A777F1',\n",
       " '#620042',\n",
       " '#1616A7',\n",
       " '#DA60CA',\n",
       " '#6C4516',\n",
       " '#0D2A63',\n",
       " '#AF0038']"
      ]
     },
     "execution_count": 15,
     "metadata": {},
     "output_type": "execute_result"
    }
   ],
   "source": [
    "px.colors.qualitative.Dark24"
   ]
  },
  {
   "cell_type": "code",
   "execution_count": 16,
   "metadata": {},
   "outputs": [
    {
     "data": {
      "application/vnd.plotly.v1+json": {
       "config": {
        "plotlyServerURL": "https://plot.ly"
       },
       "data": [
        {
         "marker": {
          "color": "#2E91E5"
         },
         "name": "L5",
         "type": "box",
         "visible": true,
         "y": {
          "bdata": "AAAAAACAT0BSuB6F61EqQJqZmZmZmfE/ZmZmZmamaEAUrkfhehQKQGZmZmZmZhJAMzMzMzOzOkBmZmZmZvZ+QGZmZmZmZlZAAAAAAABAekAzMzMzM/NLQAAAAAAAQFJAmpmZmZm5ZEBSuB6F61HgPwAAAAAAQHNAcT0K16Nw3T8fhetRuH5DQJqZmZmZmRNAAAAAAACANEDNzMzMzMwlQAAAAACAVfFA",
          "dtype": "f8"
         }
        },
        {
         "marker": {
          "color": "#E15F99"
         },
         "name": "L3",
         "type": "box",
         "visible": true,
         "y": {
          "bdata": "+n5qvHTTJUDD9Shcj7JZQNejcD0KN1xAZmZmZmbmQUA=",
          "dtype": "f8"
         }
        },
        {
         "marker": {
          "color": "#1CA71C"
         },
         "name": "LL5",
         "type": "box",
         "visible": true,
         "y": {
          "bdata": "zczMzMxMO0BmZmZmZmYwQGZmZmZmZvY/MzMzMzMzSkAK16NwPYoxQAAAAAAAAGpAmpmZmZldgkBmZmZmZmYOQAAAAAAAeIlAZmZmZmbmP0BmZmZmZmyYQM3MzMzMLGdAAAAAAAAAL0BmZmZmZuZCQJqZmZmZmTlAMzMzMzOzRkA=",
          "dtype": "f8"
         }
        },
        {
         "marker": {
          "color": "#FB0D0D"
         },
         "name": "L6",
         "type": "box",
         "visible": true,
         "y": {
          "bdata": "ZmZmZmbmNEAzMzMzM8NiQD0K16NwPQhAZmZmZmZmBEAzMzMzMzMgQEjhehSuR/k/AAAAAADWz0CamZmZmRlIQDMzMzMzMx1AMzMzMzMz+z+4HoXrUbgAQAAAAAAAgFJAZmZmZmbmSkAzMzMzMzuTQAAAAACACsFAAAAAAACAMUBmZmZmZoZVQJqZmZmZGVFAAAAAAACAbkAAAAAAAASwQAAAAAAAwFtAMzMzMzMzT0AAAAAAAABiQDMzMzMzszdAAAAAAADgakAzMzMzMzMDQDMzMzMzMwtAAAAAAAAAS0DhehSuR+EQQJqZmZmZ2UNAAAAAAAAAdUCamZmZmRlSQJqZmZmZSWBAzczMzMwMSEBI4XoUrkf1P3sUrkfhehFAAAAAAABq6EBxPQrXo3AXQB+F61G4HlRAmpmZmZm5Y0AAAAAAAABjQAAAAAAAABRA",
          "dtype": "f8"
         }
        },
        {
         "marker": {
          "color": "#DA16FF"
         },
         "name": "H4",
         "type": "box",
         "visible": true,
         "y": {
          "bdata": "AAAAAAAAoEAzMzMzMzM4QK5H4XoUruc/KVyPwvVoTEBxPQrXo3D5PwAAAAAAgGxAzczMzMyMQkBSuB6F61EMQDMzMzMzMzJArkfhehSu9z+4HoXrUahVQGZmZmZmxl9ArkfhehQuJkC4HoXrUbgTQGZmZmZmZhBAarx0kxhELUC4HoXrUbglQAAAAAAAcGdAhetRuB6F8z8AAAAAAPnlQAAAAAAAgINA",
          "dtype": "f8"
         }
        },
        {
         "marker": {
          "color": "#222A2A"
         },
         "name": "H4/5",
         "type": "box",
         "visible": true,
         "y": {
          "bdata": "SOF6FK4HP0DXo3A9CtcHQNejcD0Kl1NA",
          "dtype": "f8"
         }
        },
        {
         "marker": {
          "color": "#B68100"
         },
         "name": "H6",
         "type": "box",
         "visible": true,
         "y": {
          "bdata": "MzMzMzMz8z8zMzMzMzMDQJqZmZmZWVlAmpmZmZmZEUDByqFFtvMpQHsUrkfh+iJAzczMzMzMIEAzMzMzM7NTQGZmZmZmZiJAAAAAAAAADEDNzMzMzMz0PwAAAAAAACNAzczMzMzsVUAAAAAAAAAEQA==",
          "dtype": "f8"
         }
        },
        {
         "marker": {
          "color": "#750D86"
         },
         "name": "LL6",
         "type": "box",
         "visible": true,
         "y": {
          "bdata": "AAAAAAAA4D+amZmZmZkgQAAAAAAANsBAzczMzMwsV0BmZmZmZiZBQM3MzMzMzBBA",
          "dtype": "f8"
         }
        },
        {
         "marker": {
          "color": "#EB663B"
         },
         "name": "Ureilite",
         "type": "box",
         "visible": true,
         "y": {
          "bdata": "mpmZmZl5UUAAAAAAAAA3QAAAAAAAADRA",
          "dtype": "f8"
         }
        },
        {
         "marker": {
          "color": "#511CFB"
         },
         "name": "H5",
         "type": "box",
         "visible": true,
         "y": {
          "bdata": "zczMzMzM3D/sUbgehesLQEjhehSuR+E/AAAAAAAog0DNzMzMzMzsPwAAAAAAgGdAcT0K16PwI0AzMzMzM7MyQAAAAAAAQFVAMzMzMzMzJkCamZmZmZkXQOxRuB6F6+E/zczMzMzMJ0DNzMzMzMw7QM3MzMzMTE1AZmZmZmaOeEBI4XoUrkcgQDMzMzMzMxlAuB6F61G4JEAAAAAAAIyWQAAAAAAAGKVAAAAAAABAZUDD9Shcj0IiQA==",
          "dtype": "f8"
         }
        },
        {
         "marker": {
          "color": "#00A08B"
         },
         "name": "L5/6",
         "type": "box",
         "visible": true,
         "y": {
          "bdata": "AAAAAABMvUAAAAAAAB+4QAAAAAAA8JtA",
          "dtype": "f8"
         }
        }
       ],
       "layout": {
        "template": {
         "data": {
          "bar": [
           {
            "error_x": {
             "color": "#2a3f5f"
            },
            "error_y": {
             "color": "#2a3f5f"
            },
            "marker": {
             "line": {
              "color": "#E5ECF6",
              "width": 0.5
             },
             "pattern": {
              "fillmode": "overlay",
              "size": 10,
              "solidity": 0.2
             }
            },
            "type": "bar"
           }
          ],
          "barpolar": [
           {
            "marker": {
             "line": {
              "color": "#E5ECF6",
              "width": 0.5
             },
             "pattern": {
              "fillmode": "overlay",
              "size": 10,
              "solidity": 0.2
             }
            },
            "type": "barpolar"
           }
          ],
          "carpet": [
           {
            "aaxis": {
             "endlinecolor": "#2a3f5f",
             "gridcolor": "white",
             "linecolor": "white",
             "minorgridcolor": "white",
             "startlinecolor": "#2a3f5f"
            },
            "baxis": {
             "endlinecolor": "#2a3f5f",
             "gridcolor": "white",
             "linecolor": "white",
             "minorgridcolor": "white",
             "startlinecolor": "#2a3f5f"
            },
            "type": "carpet"
           }
          ],
          "choropleth": [
           {
            "colorbar": {
             "outlinewidth": 0,
             "ticks": ""
            },
            "type": "choropleth"
           }
          ],
          "contour": [
           {
            "colorbar": {
             "outlinewidth": 0,
             "ticks": ""
            },
            "colorscale": [
             [
              0,
              "#0d0887"
             ],
             [
              0.1111111111111111,
              "#46039f"
             ],
             [
              0.2222222222222222,
              "#7201a8"
             ],
             [
              0.3333333333333333,
              "#9c179e"
             ],
             [
              0.4444444444444444,
              "#bd3786"
             ],
             [
              0.5555555555555556,
              "#d8576b"
             ],
             [
              0.6666666666666666,
              "#ed7953"
             ],
             [
              0.7777777777777778,
              "#fb9f3a"
             ],
             [
              0.8888888888888888,
              "#fdca26"
             ],
             [
              1,
              "#f0f921"
             ]
            ],
            "type": "contour"
           }
          ],
          "contourcarpet": [
           {
            "colorbar": {
             "outlinewidth": 0,
             "ticks": ""
            },
            "type": "contourcarpet"
           }
          ],
          "heatmap": [
           {
            "colorbar": {
             "outlinewidth": 0,
             "ticks": ""
            },
            "colorscale": [
             [
              0,
              "#0d0887"
             ],
             [
              0.1111111111111111,
              "#46039f"
             ],
             [
              0.2222222222222222,
              "#7201a8"
             ],
             [
              0.3333333333333333,
              "#9c179e"
             ],
             [
              0.4444444444444444,
              "#bd3786"
             ],
             [
              0.5555555555555556,
              "#d8576b"
             ],
             [
              0.6666666666666666,
              "#ed7953"
             ],
             [
              0.7777777777777778,
              "#fb9f3a"
             ],
             [
              0.8888888888888888,
              "#fdca26"
             ],
             [
              1,
              "#f0f921"
             ]
            ],
            "type": "heatmap"
           }
          ],
          "histogram": [
           {
            "marker": {
             "pattern": {
              "fillmode": "overlay",
              "size": 10,
              "solidity": 0.2
             }
            },
            "type": "histogram"
           }
          ],
          "histogram2d": [
           {
            "colorbar": {
             "outlinewidth": 0,
             "ticks": ""
            },
            "colorscale": [
             [
              0,
              "#0d0887"
             ],
             [
              0.1111111111111111,
              "#46039f"
             ],
             [
              0.2222222222222222,
              "#7201a8"
             ],
             [
              0.3333333333333333,
              "#9c179e"
             ],
             [
              0.4444444444444444,
              "#bd3786"
             ],
             [
              0.5555555555555556,
              "#d8576b"
             ],
             [
              0.6666666666666666,
              "#ed7953"
             ],
             [
              0.7777777777777778,
              "#fb9f3a"
             ],
             [
              0.8888888888888888,
              "#fdca26"
             ],
             [
              1,
              "#f0f921"
             ]
            ],
            "type": "histogram2d"
           }
          ],
          "histogram2dcontour": [
           {
            "colorbar": {
             "outlinewidth": 0,
             "ticks": ""
            },
            "colorscale": [
             [
              0,
              "#0d0887"
             ],
             [
              0.1111111111111111,
              "#46039f"
             ],
             [
              0.2222222222222222,
              "#7201a8"
             ],
             [
              0.3333333333333333,
              "#9c179e"
             ],
             [
              0.4444444444444444,
              "#bd3786"
             ],
             [
              0.5555555555555556,
              "#d8576b"
             ],
             [
              0.6666666666666666,
              "#ed7953"
             ],
             [
              0.7777777777777778,
              "#fb9f3a"
             ],
             [
              0.8888888888888888,
              "#fdca26"
             ],
             [
              1,
              "#f0f921"
             ]
            ],
            "type": "histogram2dcontour"
           }
          ],
          "mesh3d": [
           {
            "colorbar": {
             "outlinewidth": 0,
             "ticks": ""
            },
            "type": "mesh3d"
           }
          ],
          "parcoords": [
           {
            "line": {
             "colorbar": {
              "outlinewidth": 0,
              "ticks": ""
             }
            },
            "type": "parcoords"
           }
          ],
          "pie": [
           {
            "automargin": true,
            "type": "pie"
           }
          ],
          "scatter": [
           {
            "fillpattern": {
             "fillmode": "overlay",
             "size": 10,
             "solidity": 0.2
            },
            "type": "scatter"
           }
          ],
          "scatter3d": [
           {
            "line": {
             "colorbar": {
              "outlinewidth": 0,
              "ticks": ""
             }
            },
            "marker": {
             "colorbar": {
              "outlinewidth": 0,
              "ticks": ""
             }
            },
            "type": "scatter3d"
           }
          ],
          "scattercarpet": [
           {
            "marker": {
             "colorbar": {
              "outlinewidth": 0,
              "ticks": ""
             }
            },
            "type": "scattercarpet"
           }
          ],
          "scattergeo": [
           {
            "marker": {
             "colorbar": {
              "outlinewidth": 0,
              "ticks": ""
             }
            },
            "type": "scattergeo"
           }
          ],
          "scattergl": [
           {
            "marker": {
             "colorbar": {
              "outlinewidth": 0,
              "ticks": ""
             }
            },
            "type": "scattergl"
           }
          ],
          "scattermap": [
           {
            "marker": {
             "colorbar": {
              "outlinewidth": 0,
              "ticks": ""
             }
            },
            "type": "scattermap"
           }
          ],
          "scattermapbox": [
           {
            "marker": {
             "colorbar": {
              "outlinewidth": 0,
              "ticks": ""
             }
            },
            "type": "scattermapbox"
           }
          ],
          "scatterpolar": [
           {
            "marker": {
             "colorbar": {
              "outlinewidth": 0,
              "ticks": ""
             }
            },
            "type": "scatterpolar"
           }
          ],
          "scatterpolargl": [
           {
            "marker": {
             "colorbar": {
              "outlinewidth": 0,
              "ticks": ""
             }
            },
            "type": "scatterpolargl"
           }
          ],
          "scatterternary": [
           {
            "marker": {
             "colorbar": {
              "outlinewidth": 0,
              "ticks": ""
             }
            },
            "type": "scatterternary"
           }
          ],
          "surface": [
           {
            "colorbar": {
             "outlinewidth": 0,
             "ticks": ""
            },
            "colorscale": [
             [
              0,
              "#0d0887"
             ],
             [
              0.1111111111111111,
              "#46039f"
             ],
             [
              0.2222222222222222,
              "#7201a8"
             ],
             [
              0.3333333333333333,
              "#9c179e"
             ],
             [
              0.4444444444444444,
              "#bd3786"
             ],
             [
              0.5555555555555556,
              "#d8576b"
             ],
             [
              0.6666666666666666,
              "#ed7953"
             ],
             [
              0.7777777777777778,
              "#fb9f3a"
             ],
             [
              0.8888888888888888,
              "#fdca26"
             ],
             [
              1,
              "#f0f921"
             ]
            ],
            "type": "surface"
           }
          ],
          "table": [
           {
            "cells": {
             "fill": {
              "color": "#EBF0F8"
             },
             "line": {
              "color": "white"
             }
            },
            "header": {
             "fill": {
              "color": "#C8D4E3"
             },
             "line": {
              "color": "white"
             }
            },
            "type": "table"
           }
          ]
         },
         "layout": {
          "annotationdefaults": {
           "arrowcolor": "#2a3f5f",
           "arrowhead": 0,
           "arrowwidth": 1
          },
          "autotypenumbers": "strict",
          "coloraxis": {
           "colorbar": {
            "outlinewidth": 0,
            "ticks": ""
           }
          },
          "colorscale": {
           "diverging": [
            [
             0,
             "#8e0152"
            ],
            [
             0.1,
             "#c51b7d"
            ],
            [
             0.2,
             "#de77ae"
            ],
            [
             0.3,
             "#f1b6da"
            ],
            [
             0.4,
             "#fde0ef"
            ],
            [
             0.5,
             "#f7f7f7"
            ],
            [
             0.6,
             "#e6f5d0"
            ],
            [
             0.7,
             "#b8e186"
            ],
            [
             0.8,
             "#7fbc41"
            ],
            [
             0.9,
             "#4d9221"
            ],
            [
             1,
             "#276419"
            ]
           ],
           "sequential": [
            [
             0,
             "#0d0887"
            ],
            [
             0.1111111111111111,
             "#46039f"
            ],
            [
             0.2222222222222222,
             "#7201a8"
            ],
            [
             0.3333333333333333,
             "#9c179e"
            ],
            [
             0.4444444444444444,
             "#bd3786"
            ],
            [
             0.5555555555555556,
             "#d8576b"
            ],
            [
             0.6666666666666666,
             "#ed7953"
            ],
            [
             0.7777777777777778,
             "#fb9f3a"
            ],
            [
             0.8888888888888888,
             "#fdca26"
            ],
            [
             1,
             "#f0f921"
            ]
           ],
           "sequentialminus": [
            [
             0,
             "#0d0887"
            ],
            [
             0.1111111111111111,
             "#46039f"
            ],
            [
             0.2222222222222222,
             "#7201a8"
            ],
            [
             0.3333333333333333,
             "#9c179e"
            ],
            [
             0.4444444444444444,
             "#bd3786"
            ],
            [
             0.5555555555555556,
             "#d8576b"
            ],
            [
             0.6666666666666666,
             "#ed7953"
            ],
            [
             0.7777777777777778,
             "#fb9f3a"
            ],
            [
             0.8888888888888888,
             "#fdca26"
            ],
            [
             1,
             "#f0f921"
            ]
           ]
          },
          "colorway": [
           "#636efa",
           "#EF553B",
           "#00cc96",
           "#ab63fa",
           "#FFA15A",
           "#19d3f3",
           "#FF6692",
           "#B6E880",
           "#FF97FF",
           "#FECB52"
          ],
          "font": {
           "color": "#2a3f5f"
          },
          "geo": {
           "bgcolor": "white",
           "lakecolor": "white",
           "landcolor": "#E5ECF6",
           "showlakes": true,
           "showland": true,
           "subunitcolor": "white"
          },
          "hoverlabel": {
           "align": "left"
          },
          "hovermode": "closest",
          "mapbox": {
           "style": "light"
          },
          "paper_bgcolor": "white",
          "plot_bgcolor": "#E5ECF6",
          "polar": {
           "angularaxis": {
            "gridcolor": "white",
            "linecolor": "white",
            "ticks": ""
           },
           "bgcolor": "#E5ECF6",
           "radialaxis": {
            "gridcolor": "white",
            "linecolor": "white",
            "ticks": ""
           }
          },
          "scene": {
           "xaxis": {
            "backgroundcolor": "#E5ECF6",
            "gridcolor": "white",
            "gridwidth": 2,
            "linecolor": "white",
            "showbackground": true,
            "ticks": "",
            "zerolinecolor": "white"
           },
           "yaxis": {
            "backgroundcolor": "#E5ECF6",
            "gridcolor": "white",
            "gridwidth": 2,
            "linecolor": "white",
            "showbackground": true,
            "ticks": "",
            "zerolinecolor": "white"
           },
           "zaxis": {
            "backgroundcolor": "#E5ECF6",
            "gridcolor": "white",
            "gridwidth": 2,
            "linecolor": "white",
            "showbackground": true,
            "ticks": "",
            "zerolinecolor": "white"
           }
          },
          "shapedefaults": {
           "line": {
            "color": "#2a3f5f"
           }
          },
          "ternary": {
           "aaxis": {
            "gridcolor": "white",
            "linecolor": "white",
            "ticks": ""
           },
           "baxis": {
            "gridcolor": "white",
            "linecolor": "white",
            "ticks": ""
           },
           "bgcolor": "#E5ECF6",
           "caxis": {
            "gridcolor": "white",
            "linecolor": "white",
            "ticks": ""
           }
          },
          "title": {
           "x": 0.05
          },
          "xaxis": {
           "automargin": true,
           "gridcolor": "white",
           "linecolor": "white",
           "ticks": "",
           "title": {
            "standoff": 15
           },
           "zerolinecolor": "white",
           "zerolinewidth": 2
          },
          "yaxis": {
           "automargin": true,
           "gridcolor": "white",
           "linecolor": "white",
           "ticks": "",
           "title": {
            "standoff": 15
           },
           "zerolinecolor": "white",
           "zerolinewidth": 2
          }
         }
        },
        "updatemenus": [
         {
          "buttons": [
           {
            "args": [
             {
              "visible": [
               true,
               true,
               true,
               true,
               true,
               true,
               true,
               true,
               true,
               true,
               true
              ]
             }
            ],
            "label": "All Classes",
            "method": "restyle"
           },
           {
            "args": [
             {
              "visible": [
               true,
               false,
               false,
               false,
               false,
               false,
               false,
               false,
               false,
               false,
               false,
               false
              ]
             }
            ],
            "label": "L5",
            "method": "restyle"
           },
           {
            "args": [
             {
              "visible": [
               false,
               true,
               false,
               false,
               false,
               false,
               false,
               false,
               false,
               false,
               false,
               false
              ]
             }
            ],
            "label": "L3",
            "method": "restyle"
           },
           {
            "args": [
             {
              "visible": [
               false,
               false,
               true,
               false,
               false,
               false,
               false,
               false,
               false,
               false,
               false,
               false
              ]
             }
            ],
            "label": "LL5",
            "method": "restyle"
           },
           {
            "args": [
             {
              "visible": [
               false,
               false,
               false,
               true,
               false,
               false,
               false,
               false,
               false,
               false,
               false,
               false
              ]
             }
            ],
            "label": "L6",
            "method": "restyle"
           },
           {
            "args": [
             {
              "visible": [
               false,
               false,
               false,
               false,
               true,
               false,
               false,
               false,
               false,
               false,
               false,
               false
              ]
             }
            ],
            "label": "H4",
            "method": "restyle"
           },
           {
            "args": [
             {
              "visible": [
               false,
               false,
               false,
               false,
               false,
               true,
               false,
               false,
               false,
               false,
               false,
               false
              ]
             }
            ],
            "label": "H4/5",
            "method": "restyle"
           },
           {
            "args": [
             {
              "visible": [
               false,
               false,
               false,
               false,
               false,
               false,
               true,
               false,
               false,
               false,
               false,
               false
              ]
             }
            ],
            "label": "H6",
            "method": "restyle"
           },
           {
            "args": [
             {
              "visible": [
               false,
               false,
               false,
               false,
               false,
               false,
               false,
               true,
               false,
               false,
               false,
               false
              ]
             }
            ],
            "label": "LL6",
            "method": "restyle"
           },
           {
            "args": [
             {
              "visible": [
               false,
               false,
               false,
               false,
               false,
               false,
               false,
               false,
               true,
               false,
               false,
               false
              ]
             }
            ],
            "label": "Ureilite",
            "method": "restyle"
           },
           {
            "args": [
             {
              "visible": [
               false,
               false,
               false,
               false,
               false,
               false,
               false,
               false,
               false,
               true,
               false,
               false
              ]
             }
            ],
            "label": "H5",
            "method": "restyle"
           },
           {
            "args": [
             {
              "visible": [
               false,
               false,
               false,
               false,
               false,
               false,
               false,
               false,
               false,
               false,
               true,
               false
              ]
             }
            ],
            "label": "L5/6",
            "method": "restyle"
           }
          ],
          "direction": "right",
          "type": "dropdown"
         }
        ],
        "yaxis": {
         "type": "log"
        }
       }
      }
     },
     "metadata": {},
     "output_type": "display_data"
    }
   ],
   "source": [
    "\n",
    "buttons_list = []\n",
    "recclass_levels = high_freq_ms['recclass'].unique()\n",
    "falses = [False] * len(recclass_levels)\n",
    "colors = px.colors.qualitative.Dark24\n",
    "\n",
    "fig3 = go.Figure()\n",
    "\n",
    "for i in range(0, len(recclass_levels)):\n",
    "    fig3.add_traces([go.Box(y = high_freq_ms[high_freq_ms['recclass'] == str(recclass_levels[i])]['mass (g)'],\n",
    "                            marker = {'color': colors[i]},\n",
    "                            visible = True,\n",
    "                            name = str(recclass_levels[i]))])\n",
    "    new_falses = falses.copy()\n",
    "    new_falses.insert(i, True)\n",
    "    buttons_list.append(\n",
    "        {'args': [{'visible': new_falses}],\n",
    "    'label': str(recclass_levels[i]),\n",
    "    'method': 'restyle'\n",
    "    }\n",
    "    )\n",
    "\n",
    "all_button = {'args': [{'visible': [True] * len(recclass_levels)}],\n",
    "              'label': 'All Classes',\n",
    "              'method': 'restyle'\n",
    "    }\n",
    "\n",
    "buttons_list.insert(0, all_button)\n",
    "fig3.update_layout(updatemenus = [{'type': 'dropdown', 'direction': 'right', 'buttons': buttons_list}])#, yaxis_range = [0, 8000])\n",
    "fig3.update_yaxes(type = 'log')\n",
    "\n",
    "fig3.show()"
   ]
  }
 ],
 "metadata": {
  "kernelspec": {
   "display_name": "indata_sp25",
   "language": "python",
   "name": "python3"
  },
  "language_info": {
   "codemirror_mode": {
    "name": "ipython",
    "version": 3
   },
   "file_extension": ".py",
   "mimetype": "text/x-python",
   "name": "python",
   "nbconvert_exporter": "python",
   "pygments_lexer": "ipython3",
   "version": "3.12.9"
  }
 },
 "nbformat": 4,
 "nbformat_minor": 2
}
