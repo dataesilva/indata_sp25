{
 "cells": [
  {
   "cell_type": "code",
   "execution_count": 12,
   "id": "fb09a47b-6485-416b-98ec-caf81801fbb3",
   "metadata": {},
   "outputs": [
    {
     "ename": "ModuleNotFoundError",
     "evalue": "No module named 'ipywidgets'",
     "output_type": "error",
     "traceback": [
      "\u001b[1;31m---------------------------------------------------------------------------\u001b[0m",
      "\u001b[1;31mModuleNotFoundError\u001b[0m                       Traceback (most recent call last)",
      "Cell \u001b[1;32mIn[12], line 4\u001b[0m\n\u001b[0;32m      1\u001b[0m \u001b[38;5;28;01mimport\u001b[39;00m \u001b[38;5;21;01mpandas\u001b[39;00m \u001b[38;5;28;01mas\u001b[39;00m \u001b[38;5;21;01mpd\u001b[39;00m\n\u001b[0;32m      2\u001b[0m \u001b[38;5;28;01mimport\u001b[39;00m \u001b[38;5;21;01mplotly\u001b[39;00m\u001b[38;5;21;01m.\u001b[39;00m\u001b[38;5;21;01mgraph_objects\u001b[39;00m \u001b[38;5;28;01mas\u001b[39;00m \u001b[38;5;21;01mgo\u001b[39;00m\n\u001b[1;32m----> 4\u001b[0m \u001b[38;5;28;01mfrom\u001b[39;00m \u001b[38;5;21;01mipywidgets\u001b[39;00m \u001b[38;5;28;01mimport\u001b[39;00m widgets\n\u001b[0;32m      5\u001b[0m \u001b[38;5;28;01mfrom\u001b[39;00m \u001b[38;5;21;01mdash\u001b[39;00m \u001b[38;5;28;01mimport\u001b[39;00m Dash, dcc, html\n",
      "\u001b[1;31mModuleNotFoundError\u001b[0m: No module named 'ipywidgets'"
     ]
    }
   ],
   "source": [
    "import pandas as pd\n",
    "import plotly.graph_objects as go\n",
    "\n",
    "from ipywidgets import widgets\n",
    "from dash import Dash, dcc, html"
   ]
  },
  {
   "cell_type": "code",
   "execution_count": 2,
   "id": "721068b0-87df-46d4-98b0-b58cda72647c",
   "metadata": {},
   "outputs": [
    {
     "data": {
      "text/html": [
       "<div>\n",
       "<style scoped>\n",
       "    .dataframe tbody tr th:only-of-type {\n",
       "        vertical-align: middle;\n",
       "    }\n",
       "\n",
       "    .dataframe tbody tr th {\n",
       "        vertical-align: top;\n",
       "    }\n",
       "\n",
       "    .dataframe thead th {\n",
       "        text-align: right;\n",
       "    }\n",
       "</style>\n",
       "<table border=\"1\" class=\"dataframe\">\n",
       "  <thead>\n",
       "    <tr style=\"text-align: right;\">\n",
       "      <th></th>\n",
       "      <th>name</th>\n",
       "      <th>id</th>\n",
       "      <th>nametype</th>\n",
       "      <th>recclass</th>\n",
       "      <th>mass (g)</th>\n",
       "      <th>fall</th>\n",
       "      <th>year</th>\n",
       "      <th>reclat</th>\n",
       "      <th>reclong</th>\n",
       "      <th>GeoLocation</th>\n",
       "    </tr>\n",
       "  </thead>\n",
       "  <tbody>\n",
       "    <tr>\n",
       "      <th>0</th>\n",
       "      <td>Northwest Africa 3126</td>\n",
       "      <td>31254</td>\n",
       "      <td>Valid</td>\n",
       "      <td>LL3.7</td>\n",
       "      <td>173.000</td>\n",
       "      <td>Found</td>\n",
       "      <td>2001.0</td>\n",
       "      <td>NaN</td>\n",
       "      <td>NaN</td>\n",
       "      <td>NaN</td>\n",
       "    </tr>\n",
       "    <tr>\n",
       "      <th>1</th>\n",
       "      <td>LaPaz Icefield 04605</td>\n",
       "      <td>45163</td>\n",
       "      <td>Valid</td>\n",
       "      <td>L5</td>\n",
       "      <td>63.000</td>\n",
       "      <td>Found</td>\n",
       "      <td>2004.0</td>\n",
       "      <td>NaN</td>\n",
       "      <td>NaN</td>\n",
       "      <td>NaN</td>\n",
       "    </tr>\n",
       "    <tr>\n",
       "      <th>2</th>\n",
       "      <td>Yamato 980593</td>\n",
       "      <td>37216</td>\n",
       "      <td>Valid</td>\n",
       "      <td>L3</td>\n",
       "      <td>10.913</td>\n",
       "      <td>Found</td>\n",
       "      <td>1998.0</td>\n",
       "      <td>NaN</td>\n",
       "      <td>NaN</td>\n",
       "      <td>NaN</td>\n",
       "    </tr>\n",
       "    <tr>\n",
       "      <th>3</th>\n",
       "      <td>Queen Alexandra Range 97279</td>\n",
       "      <td>20737</td>\n",
       "      <td>Valid</td>\n",
       "      <td>LL5</td>\n",
       "      <td>27.300</td>\n",
       "      <td>Found</td>\n",
       "      <td>1997.0</td>\n",
       "      <td>-84.00000</td>\n",
       "      <td>168.00000</td>\n",
       "      <td>(-84.0, 168.0)</td>\n",
       "    </tr>\n",
       "    <tr>\n",
       "      <th>4</th>\n",
       "      <td>Elephant Moraine 90798</td>\n",
       "      <td>9207</td>\n",
       "      <td>Valid</td>\n",
       "      <td>L6</td>\n",
       "      <td>20.900</td>\n",
       "      <td>Found</td>\n",
       "      <td>1990.0</td>\n",
       "      <td>-76.28535</td>\n",
       "      <td>156.44404</td>\n",
       "      <td>(-76.28535, 156.44404)</td>\n",
       "    </tr>\n",
       "  </tbody>\n",
       "</table>\n",
       "</div>"
      ],
      "text/plain": [
       "                          name     id nametype recclass  mass (g)   fall  \\\n",
       "0        Northwest Africa 3126  31254    Valid    LL3.7   173.000  Found   \n",
       "1         LaPaz Icefield 04605  45163    Valid       L5    63.000  Found   \n",
       "2                Yamato 980593  37216    Valid       L3    10.913  Found   \n",
       "3  Queen Alexandra Range 97279  20737    Valid      LL5    27.300  Found   \n",
       "4       Elephant Moraine 90798   9207    Valid       L6    20.900  Found   \n",
       "\n",
       "     year    reclat    reclong             GeoLocation  \n",
       "0  2001.0       NaN        NaN                     NaN  \n",
       "1  2004.0       NaN        NaN                     NaN  \n",
       "2  1998.0       NaN        NaN                     NaN  \n",
       "3  1997.0 -84.00000  168.00000          (-84.0, 168.0)  \n",
       "4  1990.0 -76.28535  156.44404  (-76.28535, 156.44404)  "
      ]
     },
     "execution_count": 2,
     "metadata": {},
     "output_type": "execute_result"
    }
   ],
   "source": [
    "meteor = pd.read_csv('Meteorite_Landings_Sample.csv')\n",
    "meteor.head()"
   ]
  },
  {
   "cell_type": "code",
   "execution_count": 3,
   "id": "6ccadd6d-2b41-4519-9de8-6bbcf068e6c8",
   "metadata": {},
   "outputs": [
    {
     "data": {
      "text/plain": [
       "RangeIndex(start=0, stop=200, step=1)"
      ]
     },
     "execution_count": 3,
     "metadata": {},
     "output_type": "execute_result"
    }
   ],
   "source": [
    "meteor.index"
   ]
  },
  {
   "cell_type": "code",
   "execution_count": 4,
   "id": "a1dba9fa-8e0c-4836-b7f1-630e003c741d",
   "metadata": {},
   "outputs": [
    {
     "data": {
      "application/vnd.plotly.v1+json": {
       "config": {
        "plotlyServerURL": "https://plot.ly"
       },
       "data": [
        {
         "lat": {
          "bdata": "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",
          "dtype": "f8"
         },
         "lon": {
          "bdata": "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",
          "dtype": "f8"
         },
         "mode": "markers",
         "type": "scattergeo"
        }
       ],
       "layout": {
        "geo": {
         "scope": "world"
        },
        "template": {
         "data": {
          "bar": [
           {
            "error_x": {
             "color": "#2a3f5f"
            },
            "error_y": {
             "color": "#2a3f5f"
            },
            "marker": {
             "line": {
              "color": "#E5ECF6",
              "width": 0.5
             },
             "pattern": {
              "fillmode": "overlay",
              "size": 10,
              "solidity": 0.2
             }
            },
            "type": "bar"
           }
          ],
          "barpolar": [
           {
            "marker": {
             "line": {
              "color": "#E5ECF6",
              "width": 0.5
             },
             "pattern": {
              "fillmode": "overlay",
              "size": 10,
              "solidity": 0.2
             }
            },
            "type": "barpolar"
           }
          ],
          "carpet": [
           {
            "aaxis": {
             "endlinecolor": "#2a3f5f",
             "gridcolor": "white",
             "linecolor": "white",
             "minorgridcolor": "white",
             "startlinecolor": "#2a3f5f"
            },
            "baxis": {
             "endlinecolor": "#2a3f5f",
             "gridcolor": "white",
             "linecolor": "white",
             "minorgridcolor": "white",
             "startlinecolor": "#2a3f5f"
            },
            "type": "carpet"
           }
          ],
          "choropleth": [
           {
            "colorbar": {
             "outlinewidth": 0,
             "ticks": ""
            },
            "type": "choropleth"
           }
          ],
          "contour": [
           {
            "colorbar": {
             "outlinewidth": 0,
             "ticks": ""
            },
            "colorscale": [
             [
              0,
              "#0d0887"
             ],
             [
              0.1111111111111111,
              "#46039f"
             ],
             [
              0.2222222222222222,
              "#7201a8"
             ],
             [
              0.3333333333333333,
              "#9c179e"
             ],
             [
              0.4444444444444444,
              "#bd3786"
             ],
             [
              0.5555555555555556,
              "#d8576b"
             ],
             [
              0.6666666666666666,
              "#ed7953"
             ],
             [
              0.7777777777777778,
              "#fb9f3a"
             ],
             [
              0.8888888888888888,
              "#fdca26"
             ],
             [
              1,
              "#f0f921"
             ]
            ],
            "type": "contour"
           }
          ],
          "contourcarpet": [
           {
            "colorbar": {
             "outlinewidth": 0,
             "ticks": ""
            },
            "type": "contourcarpet"
           }
          ],
          "heatmap": [
           {
            "colorbar": {
             "outlinewidth": 0,
             "ticks": ""
            },
            "colorscale": [
             [
              0,
              "#0d0887"
             ],
             [
              0.1111111111111111,
              "#46039f"
             ],
             [
              0.2222222222222222,
              "#7201a8"
             ],
             [
              0.3333333333333333,
              "#9c179e"
             ],
             [
              0.4444444444444444,
              "#bd3786"
             ],
             [
              0.5555555555555556,
              "#d8576b"
             ],
             [
              0.6666666666666666,
              "#ed7953"
             ],
             [
              0.7777777777777778,
              "#fb9f3a"
             ],
             [
              0.8888888888888888,
              "#fdca26"
             ],
             [
              1,
              "#f0f921"
             ]
            ],
            "type": "heatmap"
           }
          ],
          "histogram": [
           {
            "marker": {
             "pattern": {
              "fillmode": "overlay",
              "size": 10,
              "solidity": 0.2
             }
            },
            "type": "histogram"
           }
          ],
          "histogram2d": [
           {
            "colorbar": {
             "outlinewidth": 0,
             "ticks": ""
            },
            "colorscale": [
             [
              0,
              "#0d0887"
             ],
             [
              0.1111111111111111,
              "#46039f"
             ],
             [
              0.2222222222222222,
              "#7201a8"
             ],
             [
              0.3333333333333333,
              "#9c179e"
             ],
             [
              0.4444444444444444,
              "#bd3786"
             ],
             [
              0.5555555555555556,
              "#d8576b"
             ],
             [
              0.6666666666666666,
              "#ed7953"
             ],
             [
              0.7777777777777778,
              "#fb9f3a"
             ],
             [
              0.8888888888888888,
              "#fdca26"
             ],
             [
              1,
              "#f0f921"
             ]
            ],
            "type": "histogram2d"
           }
          ],
          "histogram2dcontour": [
           {
            "colorbar": {
             "outlinewidth": 0,
             "ticks": ""
            },
            "colorscale": [
             [
              0,
              "#0d0887"
             ],
             [
              0.1111111111111111,
              "#46039f"
             ],
             [
              0.2222222222222222,
              "#7201a8"
             ],
             [
              0.3333333333333333,
              "#9c179e"
             ],
             [
              0.4444444444444444,
              "#bd3786"
             ],
             [
              0.5555555555555556,
              "#d8576b"
             ],
             [
              0.6666666666666666,
              "#ed7953"
             ],
             [
              0.7777777777777778,
              "#fb9f3a"
             ],
             [
              0.8888888888888888,
              "#fdca26"
             ],
             [
              1,
              "#f0f921"
             ]
            ],
            "type": "histogram2dcontour"
           }
          ],
          "mesh3d": [
           {
            "colorbar": {
             "outlinewidth": 0,
             "ticks": ""
            },
            "type": "mesh3d"
           }
          ],
          "parcoords": [
           {
            "line": {
             "colorbar": {
              "outlinewidth": 0,
              "ticks": ""
             }
            },
            "type": "parcoords"
           }
          ],
          "pie": [
           {
            "automargin": true,
            "type": "pie"
           }
          ],
          "scatter": [
           {
            "fillpattern": {
             "fillmode": "overlay",
             "size": 10,
             "solidity": 0.2
            },
            "type": "scatter"
           }
          ],
          "scatter3d": [
           {
            "line": {
             "colorbar": {
              "outlinewidth": 0,
              "ticks": ""
             }
            },
            "marker": {
             "colorbar": {
              "outlinewidth": 0,
              "ticks": ""
             }
            },
            "type": "scatter3d"
           }
          ],
          "scattercarpet": [
           {
            "marker": {
             "colorbar": {
              "outlinewidth": 0,
              "ticks": ""
             }
            },
            "type": "scattercarpet"
           }
          ],
          "scattergeo": [
           {
            "marker": {
             "colorbar": {
              "outlinewidth": 0,
              "ticks": ""
             }
            },
            "type": "scattergeo"
           }
          ],
          "scattergl": [
           {
            "marker": {
             "colorbar": {
              "outlinewidth": 0,
              "ticks": ""
             }
            },
            "type": "scattergl"
           }
          ],
          "scattermap": [
           {
            "marker": {
             "colorbar": {
              "outlinewidth": 0,
              "ticks": ""
             }
            },
            "type": "scattermap"
           }
          ],
          "scattermapbox": [
           {
            "marker": {
             "colorbar": {
              "outlinewidth": 0,
              "ticks": ""
             }
            },
            "type": "scattermapbox"
           }
          ],
          "scatterpolar": [
           {
            "marker": {
             "colorbar": {
              "outlinewidth": 0,
              "ticks": ""
             }
            },
            "type": "scatterpolar"
           }
          ],
          "scatterpolargl": [
           {
            "marker": {
             "colorbar": {
              "outlinewidth": 0,
              "ticks": ""
             }
            },
            "type": "scatterpolargl"
           }
          ],
          "scatterternary": [
           {
            "marker": {
             "colorbar": {
              "outlinewidth": 0,
              "ticks": ""
             }
            },
            "type": "scatterternary"
           }
          ],
          "surface": [
           {
            "colorbar": {
             "outlinewidth": 0,
             "ticks": ""
            },
            "colorscale": [
             [
              0,
              "#0d0887"
             ],
             [
              0.1111111111111111,
              "#46039f"
             ],
             [
              0.2222222222222222,
              "#7201a8"
             ],
             [
              0.3333333333333333,
              "#9c179e"
             ],
             [
              0.4444444444444444,
              "#bd3786"
             ],
             [
              0.5555555555555556,
              "#d8576b"
             ],
             [
              0.6666666666666666,
              "#ed7953"
             ],
             [
              0.7777777777777778,
              "#fb9f3a"
             ],
             [
              0.8888888888888888,
              "#fdca26"
             ],
             [
              1,
              "#f0f921"
             ]
            ],
            "type": "surface"
           }
          ],
          "table": [
           {
            "cells": {
             "fill": {
              "color": "#EBF0F8"
             },
             "line": {
              "color": "white"
             }
            },
            "header": {
             "fill": {
              "color": "#C8D4E3"
             },
             "line": {
              "color": "white"
             }
            },
            "type": "table"
           }
          ]
         },
         "layout": {
          "annotationdefaults": {
           "arrowcolor": "#2a3f5f",
           "arrowhead": 0,
           "arrowwidth": 1
          },
          "autotypenumbers": "strict",
          "coloraxis": {
           "colorbar": {
            "outlinewidth": 0,
            "ticks": ""
           }
          },
          "colorscale": {
           "diverging": [
            [
             0,
             "#8e0152"
            ],
            [
             0.1,
             "#c51b7d"
            ],
            [
             0.2,
             "#de77ae"
            ],
            [
             0.3,
             "#f1b6da"
            ],
            [
             0.4,
             "#fde0ef"
            ],
            [
             0.5,
             "#f7f7f7"
            ],
            [
             0.6,
             "#e6f5d0"
            ],
            [
             0.7,
             "#b8e186"
            ],
            [
             0.8,
             "#7fbc41"
            ],
            [
             0.9,
             "#4d9221"
            ],
            [
             1,
             "#276419"
            ]
           ],
           "sequential": [
            [
             0,
             "#0d0887"
            ],
            [
             0.1111111111111111,
             "#46039f"
            ],
            [
             0.2222222222222222,
             "#7201a8"
            ],
            [
             0.3333333333333333,
             "#9c179e"
            ],
            [
             0.4444444444444444,
             "#bd3786"
            ],
            [
             0.5555555555555556,
             "#d8576b"
            ],
            [
             0.6666666666666666,
             "#ed7953"
            ],
            [
             0.7777777777777778,
             "#fb9f3a"
            ],
            [
             0.8888888888888888,
             "#fdca26"
            ],
            [
             1,
             "#f0f921"
            ]
           ],
           "sequentialminus": [
            [
             0,
             "#0d0887"
            ],
            [
             0.1111111111111111,
             "#46039f"
            ],
            [
             0.2222222222222222,
             "#7201a8"
            ],
            [
             0.3333333333333333,
             "#9c179e"
            ],
            [
             0.4444444444444444,
             "#bd3786"
            ],
            [
             0.5555555555555556,
             "#d8576b"
            ],
            [
             0.6666666666666666,
             "#ed7953"
            ],
            [
             0.7777777777777778,
             "#fb9f3a"
            ],
            [
             0.8888888888888888,
             "#fdca26"
            ],
            [
             1,
             "#f0f921"
            ]
           ]
          },
          "colorway": [
           "#636efa",
           "#EF553B",
           "#00cc96",
           "#ab63fa",
           "#FFA15A",
           "#19d3f3",
           "#FF6692",
           "#B6E880",
           "#FF97FF",
           "#FECB52"
          ],
          "font": {
           "color": "#2a3f5f"
          },
          "geo": {
           "bgcolor": "white",
           "lakecolor": "white",
           "landcolor": "#E5ECF6",
           "showlakes": true,
           "showland": true,
           "subunitcolor": "white"
          },
          "hoverlabel": {
           "align": "left"
          },
          "hovermode": "closest",
          "mapbox": {
           "style": "light"
          },
          "paper_bgcolor": "white",
          "plot_bgcolor": "#E5ECF6",
          "polar": {
           "angularaxis": {
            "gridcolor": "white",
            "linecolor": "white",
            "ticks": ""
           },
           "bgcolor": "#E5ECF6",
           "radialaxis": {
            "gridcolor": "white",
            "linecolor": "white",
            "ticks": ""
           }
          },
          "scene": {
           "xaxis": {
            "backgroundcolor": "#E5ECF6",
            "gridcolor": "white",
            "gridwidth": 2,
            "linecolor": "white",
            "showbackground": true,
            "ticks": "",
            "zerolinecolor": "white"
           },
           "yaxis": {
            "backgroundcolor": "#E5ECF6",
            "gridcolor": "white",
            "gridwidth": 2,
            "linecolor": "white",
            "showbackground": true,
            "ticks": "",
            "zerolinecolor": "white"
           },
           "zaxis": {
            "backgroundcolor": "#E5ECF6",
            "gridcolor": "white",
            "gridwidth": 2,
            "linecolor": "white",
            "showbackground": true,
            "ticks": "",
            "zerolinecolor": "white"
           }
          },
          "shapedefaults": {
           "line": {
            "color": "#2a3f5f"
           }
          },
          "ternary": {
           "aaxis": {
            "gridcolor": "white",
            "linecolor": "white",
            "ticks": ""
           },
           "baxis": {
            "gridcolor": "white",
            "linecolor": "white",
            "ticks": ""
           },
           "bgcolor": "#E5ECF6",
           "caxis": {
            "gridcolor": "white",
            "linecolor": "white",
            "ticks": ""
           }
          },
          "title": {
           "x": 0.05
          },
          "xaxis": {
           "automargin": true,
           "gridcolor": "white",
           "linecolor": "white",
           "ticks": "",
           "title": {
            "standoff": 15
           },
           "zerolinecolor": "white",
           "zerolinewidth": 2
          },
          "yaxis": {
           "automargin": true,
           "gridcolor": "white",
           "linecolor": "white",
           "ticks": "",
           "title": {
            "standoff": 15
           },
           "zerolinecolor": "white",
           "zerolinewidth": 2
          }
         }
        },
        "title": {
         "text": "Meteorite Landings"
        }
       }
      }
     },
     "metadata": {},
     "output_type": "display_data"
    }
   ],
   "source": [
    "# Create a scatterplot map of meteorite landings\n",
    "fig1 = go.Figure(data=go.Scattergeo(\n",
    "        lon = meteor['reclong'],\n",
    "        lat = meteor['reclat'],\n",
    "        mode = 'markers',\n",
    "        ))\n",
    "\n",
    "fig1.update_layout(\n",
    "        title = 'Meteorite Landings',\n",
    "        geo_scope = 'world',\n",
    "    )\n",
    "\n",
    "fig1.show()"
   ]
  },
  {
   "cell_type": "code",
   "execution_count": 5,
   "id": "be291825-22bf-4506-8ef2-b3c318342a71",
   "metadata": {},
   "outputs": [
    {
     "data": {
      "application/vnd.plotly.v1+json": {
       "config": {
        "plotlyServerURL": "https://plot.ly"
       },
       "data": [
        {
         "lat": {
          "bdata": "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",
          "dtype": "f8"
         },
         "lon": {
          "bdata": "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",
          "dtype": "f8"
         },
         "marker": {
          "color": "red",
          "opacity": 0.8,
          "size": 8,
          "symbol": "star-diamond"
         },
         "mode": "markers",
         "text": {
          "bdata": "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",
          "dtype": "f8"
         },
         "type": "scattergeo"
        }
       ],
       "layout": {
        "geo": {
         "projection": {
          "type": "equirectangular"
         },
         "scope": "world"
        },
        "template": {
         "data": {
          "bar": [
           {
            "error_x": {
             "color": "#2a3f5f"
            },
            "error_y": {
             "color": "#2a3f5f"
            },
            "marker": {
             "line": {
              "color": "#E5ECF6",
              "width": 0.5
             },
             "pattern": {
              "fillmode": "overlay",
              "size": 10,
              "solidity": 0.2
             }
            },
            "type": "bar"
           }
          ],
          "barpolar": [
           {
            "marker": {
             "line": {
              "color": "#E5ECF6",
              "width": 0.5
             },
             "pattern": {
              "fillmode": "overlay",
              "size": 10,
              "solidity": 0.2
             }
            },
            "type": "barpolar"
           }
          ],
          "carpet": [
           {
            "aaxis": {
             "endlinecolor": "#2a3f5f",
             "gridcolor": "white",
             "linecolor": "white",
             "minorgridcolor": "white",
             "startlinecolor": "#2a3f5f"
            },
            "baxis": {
             "endlinecolor": "#2a3f5f",
             "gridcolor": "white",
             "linecolor": "white",
             "minorgridcolor": "white",
             "startlinecolor": "#2a3f5f"
            },
            "type": "carpet"
           }
          ],
          "choropleth": [
           {
            "colorbar": {
             "outlinewidth": 0,
             "ticks": ""
            },
            "type": "choropleth"
           }
          ],
          "contour": [
           {
            "colorbar": {
             "outlinewidth": 0,
             "ticks": ""
            },
            "colorscale": [
             [
              0,
              "#0d0887"
             ],
             [
              0.1111111111111111,
              "#46039f"
             ],
             [
              0.2222222222222222,
              "#7201a8"
             ],
             [
              0.3333333333333333,
              "#9c179e"
             ],
             [
              0.4444444444444444,
              "#bd3786"
             ],
             [
              0.5555555555555556,
              "#d8576b"
             ],
             [
              0.6666666666666666,
              "#ed7953"
             ],
             [
              0.7777777777777778,
              "#fb9f3a"
             ],
             [
              0.8888888888888888,
              "#fdca26"
             ],
             [
              1,
              "#f0f921"
             ]
            ],
            "type": "contour"
           }
          ],
          "contourcarpet": [
           {
            "colorbar": {
             "outlinewidth": 0,
             "ticks": ""
            },
            "type": "contourcarpet"
           }
          ],
          "heatmap": [
           {
            "colorbar": {
             "outlinewidth": 0,
             "ticks": ""
            },
            "colorscale": [
             [
              0,
              "#0d0887"
             ],
             [
              0.1111111111111111,
              "#46039f"
             ],
             [
              0.2222222222222222,
              "#7201a8"
             ],
             [
              0.3333333333333333,
              "#9c179e"
             ],
             [
              0.4444444444444444,
              "#bd3786"
             ],
             [
              0.5555555555555556,
              "#d8576b"
             ],
             [
              0.6666666666666666,
              "#ed7953"
             ],
             [
              0.7777777777777778,
              "#fb9f3a"
             ],
             [
              0.8888888888888888,
              "#fdca26"
             ],
             [
              1,
              "#f0f921"
             ]
            ],
            "type": "heatmap"
           }
          ],
          "histogram": [
           {
            "marker": {
             "pattern": {
              "fillmode": "overlay",
              "size": 10,
              "solidity": 0.2
             }
            },
            "type": "histogram"
           }
          ],
          "histogram2d": [
           {
            "colorbar": {
             "outlinewidth": 0,
             "ticks": ""
            },
            "colorscale": [
             [
              0,
              "#0d0887"
             ],
             [
              0.1111111111111111,
              "#46039f"
             ],
             [
              0.2222222222222222,
              "#7201a8"
             ],
             [
              0.3333333333333333,
              "#9c179e"
             ],
             [
              0.4444444444444444,
              "#bd3786"
             ],
             [
              0.5555555555555556,
              "#d8576b"
             ],
             [
              0.6666666666666666,
              "#ed7953"
             ],
             [
              0.7777777777777778,
              "#fb9f3a"
             ],
             [
              0.8888888888888888,
              "#fdca26"
             ],
             [
              1,
              "#f0f921"
             ]
            ],
            "type": "histogram2d"
           }
          ],
          "histogram2dcontour": [
           {
            "colorbar": {
             "outlinewidth": 0,
             "ticks": ""
            },
            "colorscale": [
             [
              0,
              "#0d0887"
             ],
             [
              0.1111111111111111,
              "#46039f"
             ],
             [
              0.2222222222222222,
              "#7201a8"
             ],
             [
              0.3333333333333333,
              "#9c179e"
             ],
             [
              0.4444444444444444,
              "#bd3786"
             ],
             [
              0.5555555555555556,
              "#d8576b"
             ],
             [
              0.6666666666666666,
              "#ed7953"
             ],
             [
              0.7777777777777778,
              "#fb9f3a"
             ],
             [
              0.8888888888888888,
              "#fdca26"
             ],
             [
              1,
              "#f0f921"
             ]
            ],
            "type": "histogram2dcontour"
           }
          ],
          "mesh3d": [
           {
            "colorbar": {
             "outlinewidth": 0,
             "ticks": ""
            },
            "type": "mesh3d"
           }
          ],
          "parcoords": [
           {
            "line": {
             "colorbar": {
              "outlinewidth": 0,
              "ticks": ""
             }
            },
            "type": "parcoords"
           }
          ],
          "pie": [
           {
            "automargin": true,
            "type": "pie"
           }
          ],
          "scatter": [
           {
            "fillpattern": {
             "fillmode": "overlay",
             "size": 10,
             "solidity": 0.2
            },
            "type": "scatter"
           }
          ],
          "scatter3d": [
           {
            "line": {
             "colorbar": {
              "outlinewidth": 0,
              "ticks": ""
             }
            },
            "marker": {
             "colorbar": {
              "outlinewidth": 0,
              "ticks": ""
             }
            },
            "type": "scatter3d"
           }
          ],
          "scattercarpet": [
           {
            "marker": {
             "colorbar": {
              "outlinewidth": 0,
              "ticks": ""
             }
            },
            "type": "scattercarpet"
           }
          ],
          "scattergeo": [
           {
            "marker": {
             "colorbar": {
              "outlinewidth": 0,
              "ticks": ""
             }
            },
            "type": "scattergeo"
           }
          ],
          "scattergl": [
           {
            "marker": {
             "colorbar": {
              "outlinewidth": 0,
              "ticks": ""
             }
            },
            "type": "scattergl"
           }
          ],
          "scattermap": [
           {
            "marker": {
             "colorbar": {
              "outlinewidth": 0,
              "ticks": ""
             }
            },
            "type": "scattermap"
           }
          ],
          "scattermapbox": [
           {
            "marker": {
             "colorbar": {
              "outlinewidth": 0,
              "ticks": ""
             }
            },
            "type": "scattermapbox"
           }
          ],
          "scatterpolar": [
           {
            "marker": {
             "colorbar": {
              "outlinewidth": 0,
              "ticks": ""
             }
            },
            "type": "scatterpolar"
           }
          ],
          "scatterpolargl": [
           {
            "marker": {
             "colorbar": {
              "outlinewidth": 0,
              "ticks": ""
             }
            },
            "type": "scatterpolargl"
           }
          ],
          "scatterternary": [
           {
            "marker": {
             "colorbar": {
              "outlinewidth": 0,
              "ticks": ""
             }
            },
            "type": "scatterternary"
           }
          ],
          "surface": [
           {
            "colorbar": {
             "outlinewidth": 0,
             "ticks": ""
            },
            "colorscale": [
             [
              0,
              "#0d0887"
             ],
             [
              0.1111111111111111,
              "#46039f"
             ],
             [
              0.2222222222222222,
              "#7201a8"
             ],
             [
              0.3333333333333333,
              "#9c179e"
             ],
             [
              0.4444444444444444,
              "#bd3786"
             ],
             [
              0.5555555555555556,
              "#d8576b"
             ],
             [
              0.6666666666666666,
              "#ed7953"
             ],
             [
              0.7777777777777778,
              "#fb9f3a"
             ],
             [
              0.8888888888888888,
              "#fdca26"
             ],
             [
              1,
              "#f0f921"
             ]
            ],
            "type": "surface"
           }
          ],
          "table": [
           {
            "cells": {
             "fill": {
              "color": "#EBF0F8"
             },
             "line": {
              "color": "white"
             }
            },
            "header": {
             "fill": {
              "color": "#C8D4E3"
             },
             "line": {
              "color": "white"
             }
            },
            "type": "table"
           }
          ]
         },
         "layout": {
          "annotationdefaults": {
           "arrowcolor": "#2a3f5f",
           "arrowhead": 0,
           "arrowwidth": 1
          },
          "autotypenumbers": "strict",
          "coloraxis": {
           "colorbar": {
            "outlinewidth": 0,
            "ticks": ""
           }
          },
          "colorscale": {
           "diverging": [
            [
             0,
             "#8e0152"
            ],
            [
             0.1,
             "#c51b7d"
            ],
            [
             0.2,
             "#de77ae"
            ],
            [
             0.3,
             "#f1b6da"
            ],
            [
             0.4,
             "#fde0ef"
            ],
            [
             0.5,
             "#f7f7f7"
            ],
            [
             0.6,
             "#e6f5d0"
            ],
            [
             0.7,
             "#b8e186"
            ],
            [
             0.8,
             "#7fbc41"
            ],
            [
             0.9,
             "#4d9221"
            ],
            [
             1,
             "#276419"
            ]
           ],
           "sequential": [
            [
             0,
             "#0d0887"
            ],
            [
             0.1111111111111111,
             "#46039f"
            ],
            [
             0.2222222222222222,
             "#7201a8"
            ],
            [
             0.3333333333333333,
             "#9c179e"
            ],
            [
             0.4444444444444444,
             "#bd3786"
            ],
            [
             0.5555555555555556,
             "#d8576b"
            ],
            [
             0.6666666666666666,
             "#ed7953"
            ],
            [
             0.7777777777777778,
             "#fb9f3a"
            ],
            [
             0.8888888888888888,
             "#fdca26"
            ],
            [
             1,
             "#f0f921"
            ]
           ],
           "sequentialminus": [
            [
             0,
             "#0d0887"
            ],
            [
             0.1111111111111111,
             "#46039f"
            ],
            [
             0.2222222222222222,
             "#7201a8"
            ],
            [
             0.3333333333333333,
             "#9c179e"
            ],
            [
             0.4444444444444444,
             "#bd3786"
            ],
            [
             0.5555555555555556,
             "#d8576b"
            ],
            [
             0.6666666666666666,
             "#ed7953"
            ],
            [
             0.7777777777777778,
             "#fb9f3a"
            ],
            [
             0.8888888888888888,
             "#fdca26"
            ],
            [
             1,
             "#f0f921"
            ]
           ]
          },
          "colorway": [
           "#636efa",
           "#EF553B",
           "#00cc96",
           "#ab63fa",
           "#FFA15A",
           "#19d3f3",
           "#FF6692",
           "#B6E880",
           "#FF97FF",
           "#FECB52"
          ],
          "font": {
           "color": "#2a3f5f"
          },
          "geo": {
           "bgcolor": "white",
           "lakecolor": "white",
           "landcolor": "#E5ECF6",
           "showlakes": true,
           "showland": true,
           "subunitcolor": "white"
          },
          "hoverlabel": {
           "align": "left"
          },
          "hovermode": "closest",
          "mapbox": {
           "style": "light"
          },
          "paper_bgcolor": "white",
          "plot_bgcolor": "#E5ECF6",
          "polar": {
           "angularaxis": {
            "gridcolor": "white",
            "linecolor": "white",
            "ticks": ""
           },
           "bgcolor": "#E5ECF6",
           "radialaxis": {
            "gridcolor": "white",
            "linecolor": "white",
            "ticks": ""
           }
          },
          "scene": {
           "xaxis": {
            "backgroundcolor": "#E5ECF6",
            "gridcolor": "white",
            "gridwidth": 2,
            "linecolor": "white",
            "showbackground": true,
            "ticks": "",
            "zerolinecolor": "white"
           },
           "yaxis": {
            "backgroundcolor": "#E5ECF6",
            "gridcolor": "white",
            "gridwidth": 2,
            "linecolor": "white",
            "showbackground": true,
            "ticks": "",
            "zerolinecolor": "white"
           },
           "zaxis": {
            "backgroundcolor": "#E5ECF6",
            "gridcolor": "white",
            "gridwidth": 2,
            "linecolor": "white",
            "showbackground": true,
            "ticks": "",
            "zerolinecolor": "white"
           }
          },
          "shapedefaults": {
           "line": {
            "color": "#2a3f5f"
           }
          },
          "ternary": {
           "aaxis": {
            "gridcolor": "white",
            "linecolor": "white",
            "ticks": ""
           },
           "baxis": {
            "gridcolor": "white",
            "linecolor": "white",
            "ticks": ""
           },
           "bgcolor": "#E5ECF6",
           "caxis": {
            "gridcolor": "white",
            "linecolor": "white",
            "ticks": ""
           }
          },
          "title": {
           "x": 0.05
          },
          "xaxis": {
           "automargin": true,
           "gridcolor": "white",
           "linecolor": "white",
           "ticks": "",
           "title": {
            "standoff": 15
           },
           "zerolinecolor": "white",
           "zerolinewidth": 2
          },
          "yaxis": {
           "automargin": true,
           "gridcolor": "white",
           "linecolor": "white",
           "ticks": "",
           "title": {
            "standoff": 15
           },
           "zerolinecolor": "white",
           "zerolinewidth": 2
          }
         }
        },
        "title": {
         "text": "Meteorite Landings"
        }
       }
      }
     },
     "metadata": {},
     "output_type": "display_data"
    }
   ],
   "source": [
    "# Change color and symbol\n",
    "fig2 = go.Figure(data=go.Scattergeo(\n",
    "        lon = meteor['reclong'],\n",
    "        lat = meteor['reclat'],\n",
    "        text = meteor['mass (g)'],\n",
    "        mode = 'markers',\n",
    "        marker = dict(\n",
    "            size = 8,\n",
    "            opacity = 0.8,\n",
    "            symbol = 'star-diamond',\n",
    "            color = 'red'\n",
    "        )\n",
    "        ))\n",
    "\n",
    "fig2.update_geos(projection_type = 'equirectangular')\n",
    "\n",
    "fig2.update_layout(\n",
    "        title = 'Meteorite Landings',\n",
    "        geo_scope = 'world',\n",
    "    )\n",
    "\n",
    "fig2.show()"
   ]
  },
  {
   "cell_type": "code",
   "execution_count": 6,
   "id": "57f91d2b-c42e-4344-8773-da05adabc6ac",
   "metadata": {},
   "outputs": [
    {
     "data": {
      "application/vnd.plotly.v1+json": {
       "config": {
        "plotlyServerURL": "https://plot.ly"
       },
       "data": [
        {
         "lat": {
          "bdata": "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",
          "dtype": "f8"
         },
         "lon": {
          "bdata": "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",
          "dtype": "f8"
         },
         "marker": {
          "autocolorscale": false,
          "color": {
           "bdata": "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",
           "dtype": "f8"
          },
          "colorbar": {
           "title": {
            "text": "Meteorite Mass (g)"
           }
          },
          "colorscale": [
           [
            0,
            "rgb(0,0,0)"
           ],
           [
            0.2,
            "rgb(30,0,100)"
           ],
           [
            0.4,
            "rgb(120,0,100)"
           ],
           [
            0.6,
            "rgb(160,90,0)"
           ],
           [
            0.8,
            "rgb(230,200,0)"
           ],
           [
            1,
            "rgb(255,250,220)"
           ]
          ],
          "opacity": 0.8,
          "reversescale": true,
          "size": 6,
          "symbol": "circle"
         },
         "mode": "markers",
         "text": {
          "bdata": "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",
          "dtype": "f8"
         },
         "type": "scattergeo"
        }
       ],
       "layout": {
        "geo": {
         "lakecolor": "grey",
         "landcolor": "lightgrey",
         "oceancolor": "lightblue",
         "projection": {
          "type": "equirectangular"
         },
         "rivercolor": "grey",
         "scope": "world",
         "showlakes": true,
         "showland": true,
         "showocean": true,
         "showrivers": true
        },
        "template": {
         "data": {
          "bar": [
           {
            "error_x": {
             "color": "#2a3f5f"
            },
            "error_y": {
             "color": "#2a3f5f"
            },
            "marker": {
             "line": {
              "color": "#E5ECF6",
              "width": 0.5
             },
             "pattern": {
              "fillmode": "overlay",
              "size": 10,
              "solidity": 0.2
             }
            },
            "type": "bar"
           }
          ],
          "barpolar": [
           {
            "marker": {
             "line": {
              "color": "#E5ECF6",
              "width": 0.5
             },
             "pattern": {
              "fillmode": "overlay",
              "size": 10,
              "solidity": 0.2
             }
            },
            "type": "barpolar"
           }
          ],
          "carpet": [
           {
            "aaxis": {
             "endlinecolor": "#2a3f5f",
             "gridcolor": "white",
             "linecolor": "white",
             "minorgridcolor": "white",
             "startlinecolor": "#2a3f5f"
            },
            "baxis": {
             "endlinecolor": "#2a3f5f",
             "gridcolor": "white",
             "linecolor": "white",
             "minorgridcolor": "white",
             "startlinecolor": "#2a3f5f"
            },
            "type": "carpet"
           }
          ],
          "choropleth": [
           {
            "colorbar": {
             "outlinewidth": 0,
             "ticks": ""
            },
            "type": "choropleth"
           }
          ],
          "contour": [
           {
            "colorbar": {
             "outlinewidth": 0,
             "ticks": ""
            },
            "colorscale": [
             [
              0,
              "#0d0887"
             ],
             [
              0.1111111111111111,
              "#46039f"
             ],
             [
              0.2222222222222222,
              "#7201a8"
             ],
             [
              0.3333333333333333,
              "#9c179e"
             ],
             [
              0.4444444444444444,
              "#bd3786"
             ],
             [
              0.5555555555555556,
              "#d8576b"
             ],
             [
              0.6666666666666666,
              "#ed7953"
             ],
             [
              0.7777777777777778,
              "#fb9f3a"
             ],
             [
              0.8888888888888888,
              "#fdca26"
             ],
             [
              1,
              "#f0f921"
             ]
            ],
            "type": "contour"
           }
          ],
          "contourcarpet": [
           {
            "colorbar": {
             "outlinewidth": 0,
             "ticks": ""
            },
            "type": "contourcarpet"
           }
          ],
          "heatmap": [
           {
            "colorbar": {
             "outlinewidth": 0,
             "ticks": ""
            },
            "colorscale": [
             [
              0,
              "#0d0887"
             ],
             [
              0.1111111111111111,
              "#46039f"
             ],
             [
              0.2222222222222222,
              "#7201a8"
             ],
             [
              0.3333333333333333,
              "#9c179e"
             ],
             [
              0.4444444444444444,
              "#bd3786"
             ],
             [
              0.5555555555555556,
              "#d8576b"
             ],
             [
              0.6666666666666666,
              "#ed7953"
             ],
             [
              0.7777777777777778,
              "#fb9f3a"
             ],
             [
              0.8888888888888888,
              "#fdca26"
             ],
             [
              1,
              "#f0f921"
             ]
            ],
            "type": "heatmap"
           }
          ],
          "histogram": [
           {
            "marker": {
             "pattern": {
              "fillmode": "overlay",
              "size": 10,
              "solidity": 0.2
             }
            },
            "type": "histogram"
           }
          ],
          "histogram2d": [
           {
            "colorbar": {
             "outlinewidth": 0,
             "ticks": ""
            },
            "colorscale": [
             [
              0,
              "#0d0887"
             ],
             [
              0.1111111111111111,
              "#46039f"
             ],
             [
              0.2222222222222222,
              "#7201a8"
             ],
             [
              0.3333333333333333,
              "#9c179e"
             ],
             [
              0.4444444444444444,
              "#bd3786"
             ],
             [
              0.5555555555555556,
              "#d8576b"
             ],
             [
              0.6666666666666666,
              "#ed7953"
             ],
             [
              0.7777777777777778,
              "#fb9f3a"
             ],
             [
              0.8888888888888888,
              "#fdca26"
             ],
             [
              1,
              "#f0f921"
             ]
            ],
            "type": "histogram2d"
           }
          ],
          "histogram2dcontour": [
           {
            "colorbar": {
             "outlinewidth": 0,
             "ticks": ""
            },
            "colorscale": [
             [
              0,
              "#0d0887"
             ],
             [
              0.1111111111111111,
              "#46039f"
             ],
             [
              0.2222222222222222,
              "#7201a8"
             ],
             [
              0.3333333333333333,
              "#9c179e"
             ],
             [
              0.4444444444444444,
              "#bd3786"
             ],
             [
              0.5555555555555556,
              "#d8576b"
             ],
             [
              0.6666666666666666,
              "#ed7953"
             ],
             [
              0.7777777777777778,
              "#fb9f3a"
             ],
             [
              0.8888888888888888,
              "#fdca26"
             ],
             [
              1,
              "#f0f921"
             ]
            ],
            "type": "histogram2dcontour"
           }
          ],
          "mesh3d": [
           {
            "colorbar": {
             "outlinewidth": 0,
             "ticks": ""
            },
            "type": "mesh3d"
           }
          ],
          "parcoords": [
           {
            "line": {
             "colorbar": {
              "outlinewidth": 0,
              "ticks": ""
             }
            },
            "type": "parcoords"
           }
          ],
          "pie": [
           {
            "automargin": true,
            "type": "pie"
           }
          ],
          "scatter": [
           {
            "fillpattern": {
             "fillmode": "overlay",
             "size": 10,
             "solidity": 0.2
            },
            "type": "scatter"
           }
          ],
          "scatter3d": [
           {
            "line": {
             "colorbar": {
              "outlinewidth": 0,
              "ticks": ""
             }
            },
            "marker": {
             "colorbar": {
              "outlinewidth": 0,
              "ticks": ""
             }
            },
            "type": "scatter3d"
           }
          ],
          "scattercarpet": [
           {
            "marker": {
             "colorbar": {
              "outlinewidth": 0,
              "ticks": ""
             }
            },
            "type": "scattercarpet"
           }
          ],
          "scattergeo": [
           {
            "marker": {
             "colorbar": {
              "outlinewidth": 0,
              "ticks": ""
             }
            },
            "type": "scattergeo"
           }
          ],
          "scattergl": [
           {
            "marker": {
             "colorbar": {
              "outlinewidth": 0,
              "ticks": ""
             }
            },
            "type": "scattergl"
           }
          ],
          "scattermap": [
           {
            "marker": {
             "colorbar": {
              "outlinewidth": 0,
              "ticks": ""
             }
            },
            "type": "scattermap"
           }
          ],
          "scattermapbox": [
           {
            "marker": {
             "colorbar": {
              "outlinewidth": 0,
              "ticks": ""
             }
            },
            "type": "scattermapbox"
           }
          ],
          "scatterpolar": [
           {
            "marker": {
             "colorbar": {
              "outlinewidth": 0,
              "ticks": ""
             }
            },
            "type": "scatterpolar"
           }
          ],
          "scatterpolargl": [
           {
            "marker": {
             "colorbar": {
              "outlinewidth": 0,
              "ticks": ""
             }
            },
            "type": "scatterpolargl"
           }
          ],
          "scatterternary": [
           {
            "marker": {
             "colorbar": {
              "outlinewidth": 0,
              "ticks": ""
             }
            },
            "type": "scatterternary"
           }
          ],
          "surface": [
           {
            "colorbar": {
             "outlinewidth": 0,
             "ticks": ""
            },
            "colorscale": [
             [
              0,
              "#0d0887"
             ],
             [
              0.1111111111111111,
              "#46039f"
             ],
             [
              0.2222222222222222,
              "#7201a8"
             ],
             [
              0.3333333333333333,
              "#9c179e"
             ],
             [
              0.4444444444444444,
              "#bd3786"
             ],
             [
              0.5555555555555556,
              "#d8576b"
             ],
             [
              0.6666666666666666,
              "#ed7953"
             ],
             [
              0.7777777777777778,
              "#fb9f3a"
             ],
             [
              0.8888888888888888,
              "#fdca26"
             ],
             [
              1,
              "#f0f921"
             ]
            ],
            "type": "surface"
           }
          ],
          "table": [
           {
            "cells": {
             "fill": {
              "color": "#EBF0F8"
             },
             "line": {
              "color": "white"
             }
            },
            "header": {
             "fill": {
              "color": "#C8D4E3"
             },
             "line": {
              "color": "white"
             }
            },
            "type": "table"
           }
          ]
         },
         "layout": {
          "annotationdefaults": {
           "arrowcolor": "#2a3f5f",
           "arrowhead": 0,
           "arrowwidth": 1
          },
          "autotypenumbers": "strict",
          "coloraxis": {
           "colorbar": {
            "outlinewidth": 0,
            "ticks": ""
           }
          },
          "colorscale": {
           "diverging": [
            [
             0,
             "#8e0152"
            ],
            [
             0.1,
             "#c51b7d"
            ],
            [
             0.2,
             "#de77ae"
            ],
            [
             0.3,
             "#f1b6da"
            ],
            [
             0.4,
             "#fde0ef"
            ],
            [
             0.5,
             "#f7f7f7"
            ],
            [
             0.6,
             "#e6f5d0"
            ],
            [
             0.7,
             "#b8e186"
            ],
            [
             0.8,
             "#7fbc41"
            ],
            [
             0.9,
             "#4d9221"
            ],
            [
             1,
             "#276419"
            ]
           ],
           "sequential": [
            [
             0,
             "#0d0887"
            ],
            [
             0.1111111111111111,
             "#46039f"
            ],
            [
             0.2222222222222222,
             "#7201a8"
            ],
            [
             0.3333333333333333,
             "#9c179e"
            ],
            [
             0.4444444444444444,
             "#bd3786"
            ],
            [
             0.5555555555555556,
             "#d8576b"
            ],
            [
             0.6666666666666666,
             "#ed7953"
            ],
            [
             0.7777777777777778,
             "#fb9f3a"
            ],
            [
             0.8888888888888888,
             "#fdca26"
            ],
            [
             1,
             "#f0f921"
            ]
           ],
           "sequentialminus": [
            [
             0,
             "#0d0887"
            ],
            [
             0.1111111111111111,
             "#46039f"
            ],
            [
             0.2222222222222222,
             "#7201a8"
            ],
            [
             0.3333333333333333,
             "#9c179e"
            ],
            [
             0.4444444444444444,
             "#bd3786"
            ],
            [
             0.5555555555555556,
             "#d8576b"
            ],
            [
             0.6666666666666666,
             "#ed7953"
            ],
            [
             0.7777777777777778,
             "#fb9f3a"
            ],
            [
             0.8888888888888888,
             "#fdca26"
            ],
            [
             1,
             "#f0f921"
            ]
           ]
          },
          "colorway": [
           "#636efa",
           "#EF553B",
           "#00cc96",
           "#ab63fa",
           "#FFA15A",
           "#19d3f3",
           "#FF6692",
           "#B6E880",
           "#FF97FF",
           "#FECB52"
          ],
          "font": {
           "color": "#2a3f5f"
          },
          "geo": {
           "bgcolor": "white",
           "lakecolor": "white",
           "landcolor": "#E5ECF6",
           "showlakes": true,
           "showland": true,
           "subunitcolor": "white"
          },
          "hoverlabel": {
           "align": "left"
          },
          "hovermode": "closest",
          "mapbox": {
           "style": "light"
          },
          "paper_bgcolor": "white",
          "plot_bgcolor": "#E5ECF6",
          "polar": {
           "angularaxis": {
            "gridcolor": "white",
            "linecolor": "white",
            "ticks": ""
           },
           "bgcolor": "#E5ECF6",
           "radialaxis": {
            "gridcolor": "white",
            "linecolor": "white",
            "ticks": ""
           }
          },
          "scene": {
           "xaxis": {
            "backgroundcolor": "#E5ECF6",
            "gridcolor": "white",
            "gridwidth": 2,
            "linecolor": "white",
            "showbackground": true,
            "ticks": "",
            "zerolinecolor": "white"
           },
           "yaxis": {
            "backgroundcolor": "#E5ECF6",
            "gridcolor": "white",
            "gridwidth": 2,
            "linecolor": "white",
            "showbackground": true,
            "ticks": "",
            "zerolinecolor": "white"
           },
           "zaxis": {
            "backgroundcolor": "#E5ECF6",
            "gridcolor": "white",
            "gridwidth": 2,
            "linecolor": "white",
            "showbackground": true,
            "ticks": "",
            "zerolinecolor": "white"
           }
          },
          "shapedefaults": {
           "line": {
            "color": "#2a3f5f"
           }
          },
          "ternary": {
           "aaxis": {
            "gridcolor": "white",
            "linecolor": "white",
            "ticks": ""
           },
           "baxis": {
            "gridcolor": "white",
            "linecolor": "white",
            "ticks": ""
           },
           "bgcolor": "#E5ECF6",
           "caxis": {
            "gridcolor": "white",
            "linecolor": "white",
            "ticks": ""
           }
          },
          "title": {
           "x": 0.05
          },
          "xaxis": {
           "automargin": true,
           "gridcolor": "white",
           "linecolor": "white",
           "ticks": "",
           "title": {
            "standoff": 15
           },
           "zerolinecolor": "white",
           "zerolinewidth": 2
          },
          "yaxis": {
           "automargin": true,
           "gridcolor": "white",
           "linecolor": "white",
           "ticks": "",
           "title": {
            "standoff": 15
           },
           "zerolinecolor": "white",
           "zerolinewidth": 2
          }
         }
        },
        "title": {
         "text": "Meteorite Landings"
        }
       }
      }
     },
     "metadata": {},
     "output_type": "display_data"
    }
   ],
   "source": [
    "# Map color to mass, color map\n",
    "fig3 = go.Figure(data=go.Scattergeo(\n",
    "        lon = meteor['reclong'],\n",
    "        lat = meteor['reclat'],\n",
    "        text = meteor['mass (g)'],\n",
    "        mode = 'markers',\n",
    "        marker = dict(\n",
    "            size = 6,\n",
    "            opacity = 0.8,\n",
    "            reversescale = True,\n",
    "            autocolorscale = False,\n",
    "            symbol = 'circle',\n",
    "            colorscale = 'electric',\n",
    "            color = meteor['mass (g)'],\n",
    "            colorbar = dict(\n",
    "                title=dict(\n",
    "                    text = 'Meteorite Mass (g)'\n",
    "                ))\n",
    "        )\n",
    "        ))\n",
    "\n",
    "fig3.update_geos(\n",
    "    showland = True, landcolor = 'lightgrey',\n",
    "    showocean = True, oceancolor = 'lightblue',\n",
    "    showlakes = True, lakecolor = 'grey',\n",
    "    showrivers = True, rivercolor = 'grey',\n",
    "    projection_type = 'equirectangular',\n",
    ")\n",
    "\n",
    "fig3.update_layout(\n",
    "        title = 'Meteorite Landings',\n",
    "        geo_scope = 'world',\n",
    "    )\n",
    "\n",
    "fig3.show()"
   ]
  },
  {
   "cell_type": "code",
   "execution_count": 7,
   "id": "180fe0bc-af77-471a-a2ce-db6e8c9a8cf6",
   "metadata": {},
   "outputs": [
    {
     "data": {
      "application/vnd.plotly.v1+json": {
       "config": {
        "plotlyServerURL": "https://plot.ly"
       },
       "data": [
        {
         "lat": {
          "bdata": "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",
          "dtype": "f8"
         },
         "lon": {
          "bdata": "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",
          "dtype": "f8"
         },
         "marker": {
          "autocolorscale": false,
          "color": {
           "bdata": "AAAAAACgZUAAAAAAAIBPQPp+arx00yVAzczMzMxMO0BmZmZmZuY0QAAAAAAAAKBAMzMzMzPDYkBSuB6F61EqQI/C9Shc31VAPQrXo3A9CEBI4XoUrgc/QDMzMzMzM/M/yXa+nxpvIkAAAAAAAECPQDMzMzMzMwNAAAAAAAAA4D9mZmZmZmYwQHsUrkfhmkZAZmZmZmZm9j9mZmZmZmYEQGZmZmZm5kBAmpmZmZmZ8T8zMzMzMzMgQDMzMzMzM0pAZmZmZmamaECamZmZmVlZQJqZmZmZmRFAwcqhRbbzKUAAAAAAABiCQJqZmZmZeVFAexSuR+H6IkDD9Shcj7JZQEjhehSuR/k/zczMzMzM3D8AAAAAAE6uQAAAAAAA7LNAFK5H4XoUCkAAAAAAANbPQOxRuB6F6wtASOF6FK5H4T8K16NwPYoxQGZmZmZmZhJAAAAAAAAog0CamZmZmRlIQDMzMzMzMyFAMzMzMzMzOECuR+F6FK7nP5qZmZmZmSBAAAAAAABMvUAzMzMzM7M6QAAAAAAAkMpAzczMzMwMQUAAAAAAAIBGQClcj8L1aExAcT0K16Nw+T/NzMzMzMwgQDMzMzMzMx1AMzMzMzMz+z+4HoXrUbgAQAAAAAAAgFJAZmZmZmb2fkBmZmZmZmZWQAAAAAAAQHpAAAAAAACIikAAAAAAAABqQAAAAAAANsBAAAAAAACAbEDXo3A9CtcHQGZmZmZm5kpAMzMzMzPzS0AAAAAAAEBSQAAAAAAAgEpAzczMzMzM7D8zMzMzMzuTQJqZmZmZXYJAAAAAAIAKwUAAAAAAAIAxQNejcD0KN1xAzczMzMzMIUDNzMzMzFyIQAAAAAAAlKFAZmZmZmZmDkAAAAAAAIBnQM3MzMzMjEJAZmZmZmaGVUCamZmZmRlRQFK4HoXrUQxAAAAAAACAbkBxPQrXo/AjQB+F61G4nihAMzMzMzOzMkAzMzMzM7NTQDMzMzMzMzJAAAAAAAAEsEAAAAAAAHiJQAAAAAAAHJFAAAAAAADAb0BmZmZmZmYiQGZmZmZm5j9ArkfhehSu9z+amZmZmblkQAAAAAAAYHlAZmZmZmbmQUC4HoXrUahVQGZmZmZmbJhAzczMzMwsZ0BmZmZmZsZfQFK4HoXrUeA/AAAAAAAAL0AAAAAAAEBVQAAAAAAAQHNAAAAAAAAADEAAAAAAgN/DQDMzMzMzMyZAmpmZmZmZF0CF61G4HoUJQOxRuB6F6+E/AAAAAAAAPkCuR+F6FC4mQM3MzMzMzCdA7FG4HoVrPUDNzMzMzMw7QM3MzMzMLFdA16NwPQqXU0AAAAAAAMBbQDMzMzMzM09AzczMzMzMEkAAAAAAAABiQDMzMzMzszdAAAAAAADgakC4HoXrUbgTQAAAAAAAQH9AAAAAAAD0kUBmZmZmZmYQQDMzMzMzMwNAZmZmZmYmQUCamZmZmZkjQAAAAAAAIIJAAAAAAAAAN0BxPQrXo3DdP2q8dJMYRC1AMzMzMzMzC0AAAAAAAABLQFyPwvUoRHJAzczMzMzM9D9mZmZmZuZCQB+F61G4fkNAzczMzMxMTUBmZmZmZmYpQOF6FK5H4RBAmpmZmZmZOUAzMzMzM7NGQJqZmZmZmRNAmpmZmZnZQ0BmZmZmZmYsQAAAAAAAAHVAmpmZmZkZUkCamZmZmUlgQGZmZmZmjnhAAAAAAABwj0BI4XoUrkcgQLgehetRuCVAAAAAAABwx0AzMzMzMzMZQAAAAAAAoHpAzczMzMwMSEAAAAAAADBwQLgehetRuCRAAAAAAAAfuEBI4XoUrkf1P3sUrkfhehFAAAAAAABwZ0AAAAAAAF7aQAAAAAAAauhAAAAAAAAANEAAAAAAAAAjQAAAAAAAOJxAAAAAAACMlkCF61G4HoXzPwAAAAAAYJlAj8L1KFwPLEAAAAAAAPnlQHE9CtejcBdAzczMzMzsVUAAAAAAABilQAAAAAAAgDRAH4XrUbgeVEDNzMzMzMwZQAAAAAAAgINAzczMzMzMJUCamZmZmbljQAAAAAAA8JtAAAAAAAAABECamZmZmRucQAAAAAAAAGNAAAAAAIBV8UAAAAAAAEBlQMP1KFyPQiJAAAAAAAAAFEDNzMzMzMwQQA==",
           "dtype": "f8"
          },
          "colorbar": {
           "title": {
            "text": "Meteorite Mass (g)"
           }
          },
          "colorscale": [
           [
            0,
            "rgb(0,0,0)"
           ],
           [
            0.2,
            "rgb(30,0,100)"
           ],
           [
            0.4,
            "rgb(120,0,100)"
           ],
           [
            0.6,
            "rgb(160,90,0)"
           ],
           [
            0.8,
            "rgb(230,200,0)"
           ],
           [
            1,
            "rgb(255,250,220)"
           ]
          ],
          "opacity": 0.8,
          "reversescale": true,
          "size": 6,
          "symbol": "circle"
         },
         "mode": "markers",
         "text": {
          "bdata": "AAAAAACgZUAAAAAAAIBPQPp+arx00yVAzczMzMxMO0BmZmZmZuY0QAAAAAAAAKBAMzMzMzPDYkBSuB6F61EqQI/C9Shc31VAPQrXo3A9CEBI4XoUrgc/QDMzMzMzM/M/yXa+nxpvIkAAAAAAAECPQDMzMzMzMwNAAAAAAAAA4D9mZmZmZmYwQHsUrkfhmkZAZmZmZmZm9j9mZmZmZmYEQGZmZmZm5kBAmpmZmZmZ8T8zMzMzMzMgQDMzMzMzM0pAZmZmZmamaECamZmZmVlZQJqZmZmZmRFAwcqhRbbzKUAAAAAAABiCQJqZmZmZeVFAexSuR+H6IkDD9Shcj7JZQEjhehSuR/k/zczMzMzM3D8AAAAAAE6uQAAAAAAA7LNAFK5H4XoUCkAAAAAAANbPQOxRuB6F6wtASOF6FK5H4T8K16NwPYoxQGZmZmZmZhJAAAAAAAAog0CamZmZmRlIQDMzMzMzMyFAMzMzMzMzOECuR+F6FK7nP5qZmZmZmSBAAAAAAABMvUAzMzMzM7M6QAAAAAAAkMpAzczMzMwMQUAAAAAAAIBGQClcj8L1aExAcT0K16Nw+T/NzMzMzMwgQDMzMzMzMx1AMzMzMzMz+z+4HoXrUbgAQAAAAAAAgFJAZmZmZmb2fkBmZmZmZmZWQAAAAAAAQHpAAAAAAACIikAAAAAAAABqQAAAAAAANsBAAAAAAACAbEDXo3A9CtcHQGZmZmZm5kpAMzMzMzPzS0AAAAAAAEBSQAAAAAAAgEpAzczMzMzM7D8zMzMzMzuTQJqZmZmZXYJAAAAAAIAKwUAAAAAAAIAxQNejcD0KN1xAzczMzMzMIUDNzMzMzFyIQAAAAAAAlKFAZmZmZmZmDkAAAAAAAIBnQM3MzMzMjEJAZmZmZmaGVUCamZmZmRlRQFK4HoXrUQxAAAAAAACAbkBxPQrXo/AjQB+F61G4nihAMzMzMzOzMkAzMzMzM7NTQDMzMzMzMzJAAAAAAAAEsEAAAAAAAHiJQAAAAAAAHJFAAAAAAADAb0BmZmZmZmYiQGZmZmZm5j9ArkfhehSu9z+amZmZmblkQAAAAAAAYHlAZmZmZmbmQUC4HoXrUahVQGZmZmZmbJhAzczMzMwsZ0BmZmZmZsZfQFK4HoXrUeA/AAAAAAAAL0AAAAAAAEBVQAAAAAAAQHNAAAAAAAAADEAAAAAAgN/DQDMzMzMzMyZAmpmZmZmZF0CF61G4HoUJQOxRuB6F6+E/AAAAAAAAPkCuR+F6FC4mQM3MzMzMzCdA7FG4HoVrPUDNzMzMzMw7QM3MzMzMLFdA16NwPQqXU0AAAAAAAMBbQDMzMzMzM09AzczMzMzMEkAAAAAAAABiQDMzMzMzszdAAAAAAADgakC4HoXrUbgTQAAAAAAAQH9AAAAAAAD0kUBmZmZmZmYQQDMzMzMzMwNAZmZmZmYmQUCamZmZmZkjQAAAAAAAIIJAAAAAAAAAN0BxPQrXo3DdP2q8dJMYRC1AMzMzMzMzC0AAAAAAAABLQFyPwvUoRHJAzczMzMzM9D9mZmZmZuZCQB+F61G4fkNAzczMzMxMTUBmZmZmZmYpQOF6FK5H4RBAmpmZmZmZOUAzMzMzM7NGQJqZmZmZmRNAmpmZmZnZQ0BmZmZmZmYsQAAAAAAAAHVAmpmZmZkZUkCamZmZmUlgQGZmZmZmjnhAAAAAAABwj0BI4XoUrkcgQLgehetRuCVAAAAAAABwx0AzMzMzMzMZQAAAAAAAoHpAzczMzMwMSEAAAAAAADBwQLgehetRuCRAAAAAAAAfuEBI4XoUrkf1P3sUrkfhehFAAAAAAABwZ0AAAAAAAF7aQAAAAAAAauhAAAAAAAAANEAAAAAAAAAjQAAAAAAAOJxAAAAAAACMlkCF61G4HoXzPwAAAAAAYJlAj8L1KFwPLEAAAAAAAPnlQHE9CtejcBdAzczMzMzsVUAAAAAAABilQAAAAAAAgDRAH4XrUbgeVEDNzMzMzMwZQAAAAAAAgINAzczMzMzMJUCamZmZmbljQAAAAAAA8JtAAAAAAAAABECamZmZmRucQAAAAAAAAGNAAAAAAIBV8UAAAAAAAEBlQMP1KFyPQiJAAAAAAAAAFEDNzMzMzMwQQA==",
          "dtype": "f8"
         },
         "type": "scattergeo"
        }
       ],
       "layout": {
        "geo": {
         "lakecolor": "grey",
         "landcolor": "lightgrey",
         "oceancolor": "lightblue",
         "projection": {
          "type": "orthographic"
         },
         "rivercolor": "grey",
         "scope": "world",
         "showlakes": true,
         "showland": true,
         "showocean": true,
         "showrivers": true
        },
        "template": {
         "data": {
          "bar": [
           {
            "error_x": {
             "color": "#2a3f5f"
            },
            "error_y": {
             "color": "#2a3f5f"
            },
            "marker": {
             "line": {
              "color": "#E5ECF6",
              "width": 0.5
             },
             "pattern": {
              "fillmode": "overlay",
              "size": 10,
              "solidity": 0.2
             }
            },
            "type": "bar"
           }
          ],
          "barpolar": [
           {
            "marker": {
             "line": {
              "color": "#E5ECF6",
              "width": 0.5
             },
             "pattern": {
              "fillmode": "overlay",
              "size": 10,
              "solidity": 0.2
             }
            },
            "type": "barpolar"
           }
          ],
          "carpet": [
           {
            "aaxis": {
             "endlinecolor": "#2a3f5f",
             "gridcolor": "white",
             "linecolor": "white",
             "minorgridcolor": "white",
             "startlinecolor": "#2a3f5f"
            },
            "baxis": {
             "endlinecolor": "#2a3f5f",
             "gridcolor": "white",
             "linecolor": "white",
             "minorgridcolor": "white",
             "startlinecolor": "#2a3f5f"
            },
            "type": "carpet"
           }
          ],
          "choropleth": [
           {
            "colorbar": {
             "outlinewidth": 0,
             "ticks": ""
            },
            "type": "choropleth"
           }
          ],
          "contour": [
           {
            "colorbar": {
             "outlinewidth": 0,
             "ticks": ""
            },
            "colorscale": [
             [
              0,
              "#0d0887"
             ],
             [
              0.1111111111111111,
              "#46039f"
             ],
             [
              0.2222222222222222,
              "#7201a8"
             ],
             [
              0.3333333333333333,
              "#9c179e"
             ],
             [
              0.4444444444444444,
              "#bd3786"
             ],
             [
              0.5555555555555556,
              "#d8576b"
             ],
             [
              0.6666666666666666,
              "#ed7953"
             ],
             [
              0.7777777777777778,
              "#fb9f3a"
             ],
             [
              0.8888888888888888,
              "#fdca26"
             ],
             [
              1,
              "#f0f921"
             ]
            ],
            "type": "contour"
           }
          ],
          "contourcarpet": [
           {
            "colorbar": {
             "outlinewidth": 0,
             "ticks": ""
            },
            "type": "contourcarpet"
           }
          ],
          "heatmap": [
           {
            "colorbar": {
             "outlinewidth": 0,
             "ticks": ""
            },
            "colorscale": [
             [
              0,
              "#0d0887"
             ],
             [
              0.1111111111111111,
              "#46039f"
             ],
             [
              0.2222222222222222,
              "#7201a8"
             ],
             [
              0.3333333333333333,
              "#9c179e"
             ],
             [
              0.4444444444444444,
              "#bd3786"
             ],
             [
              0.5555555555555556,
              "#d8576b"
             ],
             [
              0.6666666666666666,
              "#ed7953"
             ],
             [
              0.7777777777777778,
              "#fb9f3a"
             ],
             [
              0.8888888888888888,
              "#fdca26"
             ],
             [
              1,
              "#f0f921"
             ]
            ],
            "type": "heatmap"
           }
          ],
          "histogram": [
           {
            "marker": {
             "pattern": {
              "fillmode": "overlay",
              "size": 10,
              "solidity": 0.2
             }
            },
            "type": "histogram"
           }
          ],
          "histogram2d": [
           {
            "colorbar": {
             "outlinewidth": 0,
             "ticks": ""
            },
            "colorscale": [
             [
              0,
              "#0d0887"
             ],
             [
              0.1111111111111111,
              "#46039f"
             ],
             [
              0.2222222222222222,
              "#7201a8"
             ],
             [
              0.3333333333333333,
              "#9c179e"
             ],
             [
              0.4444444444444444,
              "#bd3786"
             ],
             [
              0.5555555555555556,
              "#d8576b"
             ],
             [
              0.6666666666666666,
              "#ed7953"
             ],
             [
              0.7777777777777778,
              "#fb9f3a"
             ],
             [
              0.8888888888888888,
              "#fdca26"
             ],
             [
              1,
              "#f0f921"
             ]
            ],
            "type": "histogram2d"
           }
          ],
          "histogram2dcontour": [
           {
            "colorbar": {
             "outlinewidth": 0,
             "ticks": ""
            },
            "colorscale": [
             [
              0,
              "#0d0887"
             ],
             [
              0.1111111111111111,
              "#46039f"
             ],
             [
              0.2222222222222222,
              "#7201a8"
             ],
             [
              0.3333333333333333,
              "#9c179e"
             ],
             [
              0.4444444444444444,
              "#bd3786"
             ],
             [
              0.5555555555555556,
              "#d8576b"
             ],
             [
              0.6666666666666666,
              "#ed7953"
             ],
             [
              0.7777777777777778,
              "#fb9f3a"
             ],
             [
              0.8888888888888888,
              "#fdca26"
             ],
             [
              1,
              "#f0f921"
             ]
            ],
            "type": "histogram2dcontour"
           }
          ],
          "mesh3d": [
           {
            "colorbar": {
             "outlinewidth": 0,
             "ticks": ""
            },
            "type": "mesh3d"
           }
          ],
          "parcoords": [
           {
            "line": {
             "colorbar": {
              "outlinewidth": 0,
              "ticks": ""
             }
            },
            "type": "parcoords"
           }
          ],
          "pie": [
           {
            "automargin": true,
            "type": "pie"
           }
          ],
          "scatter": [
           {
            "fillpattern": {
             "fillmode": "overlay",
             "size": 10,
             "solidity": 0.2
            },
            "type": "scatter"
           }
          ],
          "scatter3d": [
           {
            "line": {
             "colorbar": {
              "outlinewidth": 0,
              "ticks": ""
             }
            },
            "marker": {
             "colorbar": {
              "outlinewidth": 0,
              "ticks": ""
             }
            },
            "type": "scatter3d"
           }
          ],
          "scattercarpet": [
           {
            "marker": {
             "colorbar": {
              "outlinewidth": 0,
              "ticks": ""
             }
            },
            "type": "scattercarpet"
           }
          ],
          "scattergeo": [
           {
            "marker": {
             "colorbar": {
              "outlinewidth": 0,
              "ticks": ""
             }
            },
            "type": "scattergeo"
           }
          ],
          "scattergl": [
           {
            "marker": {
             "colorbar": {
              "outlinewidth": 0,
              "ticks": ""
             }
            },
            "type": "scattergl"
           }
          ],
          "scattermap": [
           {
            "marker": {
             "colorbar": {
              "outlinewidth": 0,
              "ticks": ""
             }
            },
            "type": "scattermap"
           }
          ],
          "scattermapbox": [
           {
            "marker": {
             "colorbar": {
              "outlinewidth": 0,
              "ticks": ""
             }
            },
            "type": "scattermapbox"
           }
          ],
          "scatterpolar": [
           {
            "marker": {
             "colorbar": {
              "outlinewidth": 0,
              "ticks": ""
             }
            },
            "type": "scatterpolar"
           }
          ],
          "scatterpolargl": [
           {
            "marker": {
             "colorbar": {
              "outlinewidth": 0,
              "ticks": ""
             }
            },
            "type": "scatterpolargl"
           }
          ],
          "scatterternary": [
           {
            "marker": {
             "colorbar": {
              "outlinewidth": 0,
              "ticks": ""
             }
            },
            "type": "scatterternary"
           }
          ],
          "surface": [
           {
            "colorbar": {
             "outlinewidth": 0,
             "ticks": ""
            },
            "colorscale": [
             [
              0,
              "#0d0887"
             ],
             [
              0.1111111111111111,
              "#46039f"
             ],
             [
              0.2222222222222222,
              "#7201a8"
             ],
             [
              0.3333333333333333,
              "#9c179e"
             ],
             [
              0.4444444444444444,
              "#bd3786"
             ],
             [
              0.5555555555555556,
              "#d8576b"
             ],
             [
              0.6666666666666666,
              "#ed7953"
             ],
             [
              0.7777777777777778,
              "#fb9f3a"
             ],
             [
              0.8888888888888888,
              "#fdca26"
             ],
             [
              1,
              "#f0f921"
             ]
            ],
            "type": "surface"
           }
          ],
          "table": [
           {
            "cells": {
             "fill": {
              "color": "#EBF0F8"
             },
             "line": {
              "color": "white"
             }
            },
            "header": {
             "fill": {
              "color": "#C8D4E3"
             },
             "line": {
              "color": "white"
             }
            },
            "type": "table"
           }
          ]
         },
         "layout": {
          "annotationdefaults": {
           "arrowcolor": "#2a3f5f",
           "arrowhead": 0,
           "arrowwidth": 1
          },
          "autotypenumbers": "strict",
          "coloraxis": {
           "colorbar": {
            "outlinewidth": 0,
            "ticks": ""
           }
          },
          "colorscale": {
           "diverging": [
            [
             0,
             "#8e0152"
            ],
            [
             0.1,
             "#c51b7d"
            ],
            [
             0.2,
             "#de77ae"
            ],
            [
             0.3,
             "#f1b6da"
            ],
            [
             0.4,
             "#fde0ef"
            ],
            [
             0.5,
             "#f7f7f7"
            ],
            [
             0.6,
             "#e6f5d0"
            ],
            [
             0.7,
             "#b8e186"
            ],
            [
             0.8,
             "#7fbc41"
            ],
            [
             0.9,
             "#4d9221"
            ],
            [
             1,
             "#276419"
            ]
           ],
           "sequential": [
            [
             0,
             "#0d0887"
            ],
            [
             0.1111111111111111,
             "#46039f"
            ],
            [
             0.2222222222222222,
             "#7201a8"
            ],
            [
             0.3333333333333333,
             "#9c179e"
            ],
            [
             0.4444444444444444,
             "#bd3786"
            ],
            [
             0.5555555555555556,
             "#d8576b"
            ],
            [
             0.6666666666666666,
             "#ed7953"
            ],
            [
             0.7777777777777778,
             "#fb9f3a"
            ],
            [
             0.8888888888888888,
             "#fdca26"
            ],
            [
             1,
             "#f0f921"
            ]
           ],
           "sequentialminus": [
            [
             0,
             "#0d0887"
            ],
            [
             0.1111111111111111,
             "#46039f"
            ],
            [
             0.2222222222222222,
             "#7201a8"
            ],
            [
             0.3333333333333333,
             "#9c179e"
            ],
            [
             0.4444444444444444,
             "#bd3786"
            ],
            [
             0.5555555555555556,
             "#d8576b"
            ],
            [
             0.6666666666666666,
             "#ed7953"
            ],
            [
             0.7777777777777778,
             "#fb9f3a"
            ],
            [
             0.8888888888888888,
             "#fdca26"
            ],
            [
             1,
             "#f0f921"
            ]
           ]
          },
          "colorway": [
           "#636efa",
           "#EF553B",
           "#00cc96",
           "#ab63fa",
           "#FFA15A",
           "#19d3f3",
           "#FF6692",
           "#B6E880",
           "#FF97FF",
           "#FECB52"
          ],
          "font": {
           "color": "#2a3f5f"
          },
          "geo": {
           "bgcolor": "white",
           "lakecolor": "white",
           "landcolor": "#E5ECF6",
           "showlakes": true,
           "showland": true,
           "subunitcolor": "white"
          },
          "hoverlabel": {
           "align": "left"
          },
          "hovermode": "closest",
          "mapbox": {
           "style": "light"
          },
          "paper_bgcolor": "white",
          "plot_bgcolor": "#E5ECF6",
          "polar": {
           "angularaxis": {
            "gridcolor": "white",
            "linecolor": "white",
            "ticks": ""
           },
           "bgcolor": "#E5ECF6",
           "radialaxis": {
            "gridcolor": "white",
            "linecolor": "white",
            "ticks": ""
           }
          },
          "scene": {
           "xaxis": {
            "backgroundcolor": "#E5ECF6",
            "gridcolor": "white",
            "gridwidth": 2,
            "linecolor": "white",
            "showbackground": true,
            "ticks": "",
            "zerolinecolor": "white"
           },
           "yaxis": {
            "backgroundcolor": "#E5ECF6",
            "gridcolor": "white",
            "gridwidth": 2,
            "linecolor": "white",
            "showbackground": true,
            "ticks": "",
            "zerolinecolor": "white"
           },
           "zaxis": {
            "backgroundcolor": "#E5ECF6",
            "gridcolor": "white",
            "gridwidth": 2,
            "linecolor": "white",
            "showbackground": true,
            "ticks": "",
            "zerolinecolor": "white"
           }
          },
          "shapedefaults": {
           "line": {
            "color": "#2a3f5f"
           }
          },
          "ternary": {
           "aaxis": {
            "gridcolor": "white",
            "linecolor": "white",
            "ticks": ""
           },
           "baxis": {
            "gridcolor": "white",
            "linecolor": "white",
            "ticks": ""
           },
           "bgcolor": "#E5ECF6",
           "caxis": {
            "gridcolor": "white",
            "linecolor": "white",
            "ticks": ""
           }
          },
          "title": {
           "x": 0.05
          },
          "xaxis": {
           "automargin": true,
           "gridcolor": "white",
           "linecolor": "white",
           "ticks": "",
           "title": {
            "standoff": 15
           },
           "zerolinecolor": "white",
           "zerolinewidth": 2
          },
          "yaxis": {
           "automargin": true,
           "gridcolor": "white",
           "linecolor": "white",
           "ticks": "",
           "title": {
            "standoff": 15
           },
           "zerolinecolor": "white",
           "zerolinewidth": 2
          }
         }
        },
        "title": {
         "text": "Meteorite Landings"
        }
       }
      }
     },
     "metadata": {},
     "output_type": "display_data"
    }
   ],
   "source": [
    "# Globe\n",
    "\n",
    "fig4 = go.Figure(data=go.Scattergeo(\n",
    "        lon = meteor['reclong'],\n",
    "        lat = meteor['reclat'],\n",
    "        text = meteor['mass (g)'],\n",
    "        mode = 'markers',\n",
    "        marker = dict(\n",
    "            size = 6,\n",
    "            opacity = 0.8,\n",
    "            reversescale = True,\n",
    "            autocolorscale = False,\n",
    "            symbol = 'circle',\n",
    "            colorscale = 'electric',\n",
    "            color = meteor['mass (g)'],\n",
    "            colorbar = dict(\n",
    "                title=dict(\n",
    "                    text = 'Meteorite Mass (g)'\n",
    "                ))\n",
    "        )\n",
    "        ))\n",
    "\n",
    "fig4.update_geos(\n",
    "    showland = True, landcolor = 'lightgrey',\n",
    "    showocean = True, oceancolor = 'lightblue',\n",
    "    showlakes = True, lakecolor = 'grey',\n",
    "    showrivers = True, rivercolor = 'grey',\n",
    "    projection_type = 'orthographic',\n",
    ")\n",
    "\n",
    "fig4.update_layout(\n",
    "        title = 'Meteorite Landings',\n",
    "        geo_scope = 'world',\n",
    "    )\n",
    "\n",
    "fig4.show()"
   ]
  },
  {
   "cell_type": "code",
   "execution_count": null,
   "id": "4ec1716a-718f-48e3-92bc-66d7be5d384b",
   "metadata": {},
   "outputs": [
    {
     "data": {
      "application/vnd.plotly.v1+json": {
       "config": {
        "plotlyServerURL": "https://plot.ly"
       },
       "data": [
        {
         "lat": {
          "bdata": "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",
          "dtype": "f8"
         },
         "lon": {
          "bdata": "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",
          "dtype": "f8"
         },
         "marker": {
          "size": 8,
          "symbol": "marker"
         },
         "mode": "markers",
         "text": {
          "bdata": "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",
          "dtype": "f8"
         },
         "type": "scattermap"
        }
       ],
       "layout": {
        "geo": {
         "lakecolor": "grey",
         "landcolor": "lightgrey",
         "oceancolor": "lightblue",
         "projection": {
          "type": "orthographic"
         },
         "rivercolor": "grey",
         "scope": "world",
         "showlakes": true,
         "showland": true,
         "showocean": true,
         "showrivers": true
        },
        "template": {
         "data": {
          "bar": [
           {
            "error_x": {
             "color": "#2a3f5f"
            },
            "error_y": {
             "color": "#2a3f5f"
            },
            "marker": {
             "line": {
              "color": "#E5ECF6",
              "width": 0.5
             },
             "pattern": {
              "fillmode": "overlay",
              "size": 10,
              "solidity": 0.2
             }
            },
            "type": "bar"
           }
          ],
          "barpolar": [
           {
            "marker": {
             "line": {
              "color": "#E5ECF6",
              "width": 0.5
             },
             "pattern": {
              "fillmode": "overlay",
              "size": 10,
              "solidity": 0.2
             }
            },
            "type": "barpolar"
           }
          ],
          "carpet": [
           {
            "aaxis": {
             "endlinecolor": "#2a3f5f",
             "gridcolor": "white",
             "linecolor": "white",
             "minorgridcolor": "white",
             "startlinecolor": "#2a3f5f"
            },
            "baxis": {
             "endlinecolor": "#2a3f5f",
             "gridcolor": "white",
             "linecolor": "white",
             "minorgridcolor": "white",
             "startlinecolor": "#2a3f5f"
            },
            "type": "carpet"
           }
          ],
          "choropleth": [
           {
            "colorbar": {
             "outlinewidth": 0,
             "ticks": ""
            },
            "type": "choropleth"
           }
          ],
          "contour": [
           {
            "colorbar": {
             "outlinewidth": 0,
             "ticks": ""
            },
            "colorscale": [
             [
              0,
              "#0d0887"
             ],
             [
              0.1111111111111111,
              "#46039f"
             ],
             [
              0.2222222222222222,
              "#7201a8"
             ],
             [
              0.3333333333333333,
              "#9c179e"
             ],
             [
              0.4444444444444444,
              "#bd3786"
             ],
             [
              0.5555555555555556,
              "#d8576b"
             ],
             [
              0.6666666666666666,
              "#ed7953"
             ],
             [
              0.7777777777777778,
              "#fb9f3a"
             ],
             [
              0.8888888888888888,
              "#fdca26"
             ],
             [
              1,
              "#f0f921"
             ]
            ],
            "type": "contour"
           }
          ],
          "contourcarpet": [
           {
            "colorbar": {
             "outlinewidth": 0,
             "ticks": ""
            },
            "type": "contourcarpet"
           }
          ],
          "heatmap": [
           {
            "colorbar": {
             "outlinewidth": 0,
             "ticks": ""
            },
            "colorscale": [
             [
              0,
              "#0d0887"
             ],
             [
              0.1111111111111111,
              "#46039f"
             ],
             [
              0.2222222222222222,
              "#7201a8"
             ],
             [
              0.3333333333333333,
              "#9c179e"
             ],
             [
              0.4444444444444444,
              "#bd3786"
             ],
             [
              0.5555555555555556,
              "#d8576b"
             ],
             [
              0.6666666666666666,
              "#ed7953"
             ],
             [
              0.7777777777777778,
              "#fb9f3a"
             ],
             [
              0.8888888888888888,
              "#fdca26"
             ],
             [
              1,
              "#f0f921"
             ]
            ],
            "type": "heatmap"
           }
          ],
          "histogram": [
           {
            "marker": {
             "pattern": {
              "fillmode": "overlay",
              "size": 10,
              "solidity": 0.2
             }
            },
            "type": "histogram"
           }
          ],
          "histogram2d": [
           {
            "colorbar": {
             "outlinewidth": 0,
             "ticks": ""
            },
            "colorscale": [
             [
              0,
              "#0d0887"
             ],
             [
              0.1111111111111111,
              "#46039f"
             ],
             [
              0.2222222222222222,
              "#7201a8"
             ],
             [
              0.3333333333333333,
              "#9c179e"
             ],
             [
              0.4444444444444444,
              "#bd3786"
             ],
             [
              0.5555555555555556,
              "#d8576b"
             ],
             [
              0.6666666666666666,
              "#ed7953"
             ],
             [
              0.7777777777777778,
              "#fb9f3a"
             ],
             [
              0.8888888888888888,
              "#fdca26"
             ],
             [
              1,
              "#f0f921"
             ]
            ],
            "type": "histogram2d"
           }
          ],
          "histogram2dcontour": [
           {
            "colorbar": {
             "outlinewidth": 0,
             "ticks": ""
            },
            "colorscale": [
             [
              0,
              "#0d0887"
             ],
             [
              0.1111111111111111,
              "#46039f"
             ],
             [
              0.2222222222222222,
              "#7201a8"
             ],
             [
              0.3333333333333333,
              "#9c179e"
             ],
             [
              0.4444444444444444,
              "#bd3786"
             ],
             [
              0.5555555555555556,
              "#d8576b"
             ],
             [
              0.6666666666666666,
              "#ed7953"
             ],
             [
              0.7777777777777778,
              "#fb9f3a"
             ],
             [
              0.8888888888888888,
              "#fdca26"
             ],
             [
              1,
              "#f0f921"
             ]
            ],
            "type": "histogram2dcontour"
           }
          ],
          "mesh3d": [
           {
            "colorbar": {
             "outlinewidth": 0,
             "ticks": ""
            },
            "type": "mesh3d"
           }
          ],
          "parcoords": [
           {
            "line": {
             "colorbar": {
              "outlinewidth": 0,
              "ticks": ""
             }
            },
            "type": "parcoords"
           }
          ],
          "pie": [
           {
            "automargin": true,
            "type": "pie"
           }
          ],
          "scatter": [
           {
            "fillpattern": {
             "fillmode": "overlay",
             "size": 10,
             "solidity": 0.2
            },
            "type": "scatter"
           }
          ],
          "scatter3d": [
           {
            "line": {
             "colorbar": {
              "outlinewidth": 0,
              "ticks": ""
             }
            },
            "marker": {
             "colorbar": {
              "outlinewidth": 0,
              "ticks": ""
             }
            },
            "type": "scatter3d"
           }
          ],
          "scattercarpet": [
           {
            "marker": {
             "colorbar": {
              "outlinewidth": 0,
              "ticks": ""
             }
            },
            "type": "scattercarpet"
           }
          ],
          "scattergeo": [
           {
            "marker": {
             "colorbar": {
              "outlinewidth": 0,
              "ticks": ""
             }
            },
            "type": "scattergeo"
           }
          ],
          "scattergl": [
           {
            "marker": {
             "colorbar": {
              "outlinewidth": 0,
              "ticks": ""
             }
            },
            "type": "scattergl"
           }
          ],
          "scattermap": [
           {
            "marker": {
             "colorbar": {
              "outlinewidth": 0,
              "ticks": ""
             }
            },
            "type": "scattermap"
           }
          ],
          "scattermapbox": [
           {
            "marker": {
             "colorbar": {
              "outlinewidth": 0,
              "ticks": ""
             }
            },
            "type": "scattermapbox"
           }
          ],
          "scatterpolar": [
           {
            "marker": {
             "colorbar": {
              "outlinewidth": 0,
              "ticks": ""
             }
            },
            "type": "scatterpolar"
           }
          ],
          "scatterpolargl": [
           {
            "marker": {
             "colorbar": {
              "outlinewidth": 0,
              "ticks": ""
             }
            },
            "type": "scatterpolargl"
           }
          ],
          "scatterternary": [
           {
            "marker": {
             "colorbar": {
              "outlinewidth": 0,
              "ticks": ""
             }
            },
            "type": "scatterternary"
           }
          ],
          "surface": [
           {
            "colorbar": {
             "outlinewidth": 0,
             "ticks": ""
            },
            "colorscale": [
             [
              0,
              "#0d0887"
             ],
             [
              0.1111111111111111,
              "#46039f"
             ],
             [
              0.2222222222222222,
              "#7201a8"
             ],
             [
              0.3333333333333333,
              "#9c179e"
             ],
             [
              0.4444444444444444,
              "#bd3786"
             ],
             [
              0.5555555555555556,
              "#d8576b"
             ],
             [
              0.6666666666666666,
              "#ed7953"
             ],
             [
              0.7777777777777778,
              "#fb9f3a"
             ],
             [
              0.8888888888888888,
              "#fdca26"
             ],
             [
              1,
              "#f0f921"
             ]
            ],
            "type": "surface"
           }
          ],
          "table": [
           {
            "cells": {
             "fill": {
              "color": "#EBF0F8"
             },
             "line": {
              "color": "white"
             }
            },
            "header": {
             "fill": {
              "color": "#C8D4E3"
             },
             "line": {
              "color": "white"
             }
            },
            "type": "table"
           }
          ]
         },
         "layout": {
          "annotationdefaults": {
           "arrowcolor": "#2a3f5f",
           "arrowhead": 0,
           "arrowwidth": 1
          },
          "autotypenumbers": "strict",
          "coloraxis": {
           "colorbar": {
            "outlinewidth": 0,
            "ticks": ""
           }
          },
          "colorscale": {
           "diverging": [
            [
             0,
             "#8e0152"
            ],
            [
             0.1,
             "#c51b7d"
            ],
            [
             0.2,
             "#de77ae"
            ],
            [
             0.3,
             "#f1b6da"
            ],
            [
             0.4,
             "#fde0ef"
            ],
            [
             0.5,
             "#f7f7f7"
            ],
            [
             0.6,
             "#e6f5d0"
            ],
            [
             0.7,
             "#b8e186"
            ],
            [
             0.8,
             "#7fbc41"
            ],
            [
             0.9,
             "#4d9221"
            ],
            [
             1,
             "#276419"
            ]
           ],
           "sequential": [
            [
             0,
             "#0d0887"
            ],
            [
             0.1111111111111111,
             "#46039f"
            ],
            [
             0.2222222222222222,
             "#7201a8"
            ],
            [
             0.3333333333333333,
             "#9c179e"
            ],
            [
             0.4444444444444444,
             "#bd3786"
            ],
            [
             0.5555555555555556,
             "#d8576b"
            ],
            [
             0.6666666666666666,
             "#ed7953"
            ],
            [
             0.7777777777777778,
             "#fb9f3a"
            ],
            [
             0.8888888888888888,
             "#fdca26"
            ],
            [
             1,
             "#f0f921"
            ]
           ],
           "sequentialminus": [
            [
             0,
             "#0d0887"
            ],
            [
             0.1111111111111111,
             "#46039f"
            ],
            [
             0.2222222222222222,
             "#7201a8"
            ],
            [
             0.3333333333333333,
             "#9c179e"
            ],
            [
             0.4444444444444444,
             "#bd3786"
            ],
            [
             0.5555555555555556,
             "#d8576b"
            ],
            [
             0.6666666666666666,
             "#ed7953"
            ],
            [
             0.7777777777777778,
             "#fb9f3a"
            ],
            [
             0.8888888888888888,
             "#fdca26"
            ],
            [
             1,
             "#f0f921"
            ]
           ]
          },
          "colorway": [
           "#636efa",
           "#EF553B",
           "#00cc96",
           "#ab63fa",
           "#FFA15A",
           "#19d3f3",
           "#FF6692",
           "#B6E880",
           "#FF97FF",
           "#FECB52"
          ],
          "font": {
           "color": "#2a3f5f"
          },
          "geo": {
           "bgcolor": "white",
           "lakecolor": "white",
           "landcolor": "#E5ECF6",
           "showlakes": true,
           "showland": true,
           "subunitcolor": "white"
          },
          "hoverlabel": {
           "align": "left"
          },
          "hovermode": "closest",
          "mapbox": {
           "style": "light"
          },
          "paper_bgcolor": "white",
          "plot_bgcolor": "#E5ECF6",
          "polar": {
           "angularaxis": {
            "gridcolor": "white",
            "linecolor": "white",
            "ticks": ""
           },
           "bgcolor": "#E5ECF6",
           "radialaxis": {
            "gridcolor": "white",
            "linecolor": "white",
            "ticks": ""
           }
          },
          "scene": {
           "xaxis": {
            "backgroundcolor": "#E5ECF6",
            "gridcolor": "white",
            "gridwidth": 2,
            "linecolor": "white",
            "showbackground": true,
            "ticks": "",
            "zerolinecolor": "white"
           },
           "yaxis": {
            "backgroundcolor": "#E5ECF6",
            "gridcolor": "white",
            "gridwidth": 2,
            "linecolor": "white",
            "showbackground": true,
            "ticks": "",
            "zerolinecolor": "white"
           },
           "zaxis": {
            "backgroundcolor": "#E5ECF6",
            "gridcolor": "white",
            "gridwidth": 2,
            "linecolor": "white",
            "showbackground": true,
            "ticks": "",
            "zerolinecolor": "white"
           }
          },
          "shapedefaults": {
           "line": {
            "color": "#2a3f5f"
           }
          },
          "ternary": {
           "aaxis": {
            "gridcolor": "white",
            "linecolor": "white",
            "ticks": ""
           },
           "baxis": {
            "gridcolor": "white",
            "linecolor": "white",
            "ticks": ""
           },
           "bgcolor": "#E5ECF6",
           "caxis": {
            "gridcolor": "white",
            "linecolor": "white",
            "ticks": ""
           }
          },
          "title": {
           "x": 0.05
          },
          "xaxis": {
           "automargin": true,
           "gridcolor": "white",
           "linecolor": "white",
           "ticks": "",
           "title": {
            "standoff": 15
           },
           "zerolinecolor": "white",
           "zerolinewidth": 2
          },
          "yaxis": {
           "automargin": true,
           "gridcolor": "white",
           "linecolor": "white",
           "ticks": "",
           "title": {
            "standoff": 15
           },
           "zerolinecolor": "white",
           "zerolinewidth": 2
          }
         }
        },
        "title": {
         "text": "Meteorite Landings"
        },
        "updatemenus": [
         {
          "buttons": [
           {
            "args": [
             "type",
             "scattermap"
            ],
            "label": "Map",
            "method": "restyle"
           },
           {
            "args": [
             "type",
             "scattergeo"
            ],
            "label": "Globe",
            "method": "restyle"
           }
          ],
          "direction": "down",
          "pad": {
           "r": 10,
           "t": 10
          },
          "showactive": true,
          "x": 0.1,
          "xanchor": "left",
          "y": 1.1,
          "yanchor": "top"
         }
        ]
       }
      }
     },
     "metadata": {},
     "output_type": "display_data"
    }
   ],
   "source": [
    "#Dropdown, map, globe\n",
    "button1 = {'args': [\"type\", \"scattermap\"],\n",
    "           'label': 'Map',\n",
    "           }\n",
    "\n",
    "\n",
    "fig5 = go.Figure()\n",
    "\n",
    "\n",
    "\n",
    "fig5.add_trace(\n",
    "    go.Scattermap(\n",
    "        lon = meteor[meteor['reclass'] == \"L5\"]['reclong'],\n",
    "        lat = meteor['reclat'],\n",
    "        text = meteor['mass (g)'],\n",
    "        mode = 'markers',\n",
    "        marker = dict(size = 8, symbol = 'marker')\n",
    "        ))\n",
    "\n",
    "fig5.update_geos(\n",
    "    showland = True, landcolor = 'lightgrey',\n",
    "    showocean = True, oceancolor = 'lightblue',\n",
    "    showlakes = True, lakecolor = 'grey',\n",
    "    showrivers = True, rivercolor = 'grey',\n",
    "    projection_type = 'orthographic',\n",
    ")\n",
    "\n",
    "fig5.update_layout(\n",
    "        title = 'Meteorite Landings',\n",
    "        geo_scope = 'world',\n",
    "        updatemenus = [\n",
    "        dict(\n",
    "            buttons = list([\n",
    "                        dict(\n",
    "                    args = [\"type\", \"scattermap\"],\n",
    "                    label = \"Map\",\n",
    "                    method = \"restyle\"\n",
    "                ),\n",
    "                dict(\n",
    "                    args = [\"type\", \"scattergeo\"],\n",
    "                    label = \"Globe\",\n",
    "                    method = \"restyle\"\n",
    "                ),\n",
    "            ]),\n",
    "            direction=\"down\",\n",
    "            pad={\"r\": 10, \"t\": 10},\n",
    "            showactive=True,\n",
    "            x=0.1,\n",
    "            xanchor=\"left\",\n",
    "            y=1.1,\n",
    "            yanchor=\"top\"\n",
    "        ),\n",
    "    ]\n",
    "    )\n",
    "\n",
    "fig5.show()"
   ]
  },
  {
   "cell_type": "code",
   "execution_count": null,
   "id": "ab371d6a",
   "metadata": {},
   "outputs": [],
   "source": [
    "import IPy\n",
    "from plotly "
   ]
  },
  {
   "cell_type": "code",
   "execution_count": 9,
   "id": "60e3f115-e1f4-4269-91ef-a273ce2293d6",
   "metadata": {},
   "outputs": [
    {
     "ename": "NameError",
     "evalue": "name 'Dash' is not defined",
     "output_type": "error",
     "traceback": [
      "\u001b[1;31m---------------------------------------------------------------------------\u001b[0m",
      "\u001b[1;31mNameError\u001b[0m                                 Traceback (most recent call last)",
      "Cell \u001b[1;32mIn[9], line 1\u001b[0m\n\u001b[1;32m----> 1\u001b[0m app \u001b[38;5;241m=\u001b[39m Dash()\n\u001b[0;32m      2\u001b[0m app\u001b[38;5;241m.\u001b[39mlayout \u001b[38;5;241m=\u001b[39m html\u001b[38;5;241m.\u001b[39mDiv([\n\u001b[0;32m      3\u001b[0m     dcc\u001b[38;5;241m.\u001b[39mGraph(figure \u001b[38;5;241m=\u001b[39m fig5)\n\u001b[0;32m      4\u001b[0m ])\n\u001b[0;32m      6\u001b[0m app\u001b[38;5;241m.\u001b[39mrun_server(debug\u001b[38;5;241m=\u001b[39m\u001b[38;5;28;01mFalse\u001b[39;00m, use_reloader\u001b[38;5;241m=\u001b[39m\u001b[38;5;28;01mFalse\u001b[39;00m)\n",
      "\u001b[1;31mNameError\u001b[0m: name 'Dash' is not defined"
     ]
    }
   ],
   "source": [
    "app = Dash()\n",
    "app.layout = html.Div([\n",
    "    dcc.Graph(figure = fig5)\n",
    "])\n",
    "\n",
    "app.run_server(debug=False, use_reloader=False)"
   ]
  },
  {
   "cell_type": "code",
   "execution_count": 10,
   "id": "dcf04c8c-f3c3-404b-9615-c36ece5da98c",
   "metadata": {},
   "outputs": [
    {
     "data": {
      "text/plain": [
       "array(['LL3.7', 'L5', 'L3', 'LL5', 'L6', 'H4', 'LL3', 'H4/5', 'H6', 'CV3',\n",
       "       'Iron, IIAB', 'LL6', 'L', 'H3.3', 'CK3', 'Ureilite', 'H5',\n",
       "       'H3.7-5', 'Eucrite-pmict', 'CM2', 'L5/6', 'Iron, IID', 'L3.8',\n",
       "       'H4-6', 'LL4', 'OC', 'LL3.4', 'CO3.6', 'Iron?', 'H3-4', 'H3',\n",
       "       'Diogenite', 'L4/5', 'LL', 'Howardite', 'Achondrite-ung', 'Iron',\n",
       "       'CO3', 'H5/6', 'CM2-an', 'CK5', 'Iron, IAB-ung', 'L4', 'Eucrite',\n",
       "       'H3-6', 'Mesosiderite-C', 'LL5/6', 'H4 ', 'H4/6'], dtype=object)"
      ]
     },
     "execution_count": 10,
     "metadata": {},
     "output_type": "execute_result"
    }
   ],
   "source": [
    "meteor['recclass'].unique()"
   ]
  },
  {
   "cell_type": "code",
   "execution_count": 11,
   "id": "5bb3594d-14ad-4fc2-976e-7cb84526748c",
   "metadata": {},
   "outputs": [
    {
     "ename": "NameError",
     "evalue": "name 'widgets' is not defined",
     "output_type": "error",
     "traceback": [
      "\u001b[1;31m---------------------------------------------------------------------------\u001b[0m",
      "\u001b[1;31mNameError\u001b[0m                                 Traceback (most recent call last)",
      "Cell \u001b[1;32mIn[11], line 1\u001b[0m\n\u001b[1;32m----> 1\u001b[0m meteorclass \u001b[38;5;241m=\u001b[39m widgets\u001b[38;5;241m.\u001b[39mDropdown(\n\u001b[0;32m      2\u001b[0m     options\u001b[38;5;241m=\u001b[39m\u001b[38;5;28mlist\u001b[39m(meteor[\u001b[38;5;124m'\u001b[39m\u001b[38;5;124mrecclass\u001b[39m\u001b[38;5;124m'\u001b[39m]\u001b[38;5;241m.\u001b[39munique()),\n\u001b[0;32m      3\u001b[0m     value\u001b[38;5;241m=\u001b[39m\u001b[38;5;124m'\u001b[39m\u001b[38;5;124mL3\u001b[39m\u001b[38;5;124m'\u001b[39m,\n\u001b[0;32m      4\u001b[0m     description\u001b[38;5;241m=\u001b[39m\u001b[38;5;124m'\u001b[39m\u001b[38;5;124mClass:\u001b[39m\u001b[38;5;124m'\u001b[39m,\n\u001b[0;32m      5\u001b[0m )\n\u001b[0;32m      7\u001b[0m g \u001b[38;5;241m=\u001b[39m go\u001b[38;5;241m.\u001b[39mFigureWidget(fig5)\n\u001b[0;32m      8\u001b[0m g\n",
      "\u001b[1;31mNameError\u001b[0m: name 'widgets' is not defined"
     ]
    }
   ],
   "source": [
    "meteorclass = widgets.Dropdown(\n",
    "    options=list(meteor['recclass'].unique()),\n",
    "    value='L3',\n",
    "    description='Class:',\n",
    ")\n",
    "\n",
    "g = go.FigureWidget(fig5)\n",
    "g"
   ]
  }
 ],
 "metadata": {
  "kernelspec": {
   "display_name": "indata_sp25",
   "language": "python",
   "name": "python3"
  },
  "language_info": {
   "codemirror_mode": {
    "name": "ipython",
    "version": 3
   },
   "file_extension": ".py",
   "mimetype": "text/x-python",
   "name": "python",
   "nbconvert_exporter": "python",
   "pygments_lexer": "ipython3",
   "version": "3.12.9"
  }
 },
 "nbformat": 4,
 "nbformat_minor": 5
}
